{
 "cells": [
  {
   "cell_type": "markdown",
   "metadata": {},
   "source": [
    "# Outline\n",
    "\n",
    "## [Introduction](#Introduction-to-Python)  \n",
    "\n",
    "## [Basic Syntax](#1-Basic-Syntax)\n",
    "* [Printing](#the-built-in-print-function) output with `print()`.\n",
    "* [Commenting](#commenting)\n",
    "* [Docstring](#Multiline-comment-AKA-Docstring)\n",
    "* [Indentation](#indentation-and-code-blocks)\n",
    "* [Data Types](#11-data-types) and variables (integers, floats, strings, booleans)\n",
    "* [String Methods](#111-string-methods)\n",
    "* [Basic Operators](#12-basic-operators)\n",
    "\n",
    "## [Data Structures](#2-Data-Structures)\n",
    "* [Lists](#21-lists), indexing, slicing\n",
    "* [List Methods](#211-list-methods)\n",
    "* [List Comprehension](#211-list-comprehension)\n",
    "* [Tuples](#22-tuples) and their immutability\n",
    "* [Dictionaries](#23-dictionaries) and key-value pairs\n",
    "* [Sets](#24-sets) for unique values\n",
    "* [More Examples](#25-more-examples)\n",
    "\n",
    "## [Flow Control](#3-Flow-Control)\n",
    "* [Conditional Statements](#31-Conditional-Statements) (`if`, `elif`, `else`)\n",
    "* [For Loops](#32-For-Loops)\n",
    "* [While Loops](#33-While-Loops)\n",
    "* [Loop Control Statements](#34-Loop-Control-Statements)\n",
    "    * [continue](#continue)\n",
    "    * [break](#break)\n",
    "    * [pass](#pass)\n",
    "* [Range and Enumerate Functions](#35-range-and-enumerate-functions)\n",
    "* [Exception Handling](#36-exception-handling-the-basics)\n",
    "* [Summary of Flow Control](#37-Summary-of-flow-control)\n",
    "\n",
    "## [Functions](#4-Functions)\n",
    "* [Defining and Calling Functions](#41-defining-and-calling-functions)\n",
    "* [Parameters and Arguments](#42-parameters-and-arguments)\n",
    "* [Return Statements](#43-return-statements)\n",
    "* [Lambda Function](#44-lambda-function)\n",
    "\n",
    "## [Introduction to OOP](#5-Introduction-to-OOP)\n",
    "* [Classes and Objects](#51-classes-and-objects)\n",
    "* [The \\_\\_init\\_\\_ Method (Constructor)](#52-the-__init__-method-constructor)\n",
    "* [Attributes and Methods](#53-attributes-and-methods)\n",
    "* [Inheritance](#54-inheritance)\n",
    "* [Encapsulation](#55-encapsulation)\n",
    "* [Polymorphism](#56-polymorphism)\n",
    "* [Composition](#57-composition)\n",
    "* [Magic Methods](#58-magic-methods)\n",
    "\n",
    "## [Modules and Libraries](#6-Modules-and-Libraries)\n",
    "* [Importing Modules](#61-importing-modules)\n",
    "* [Standard Libraries](#62-standard-libraries)\n",
    "* [Custom Modules](#63-custom-modules)\n",
    "* [Summary of Modules and Packages](#64-summary-of-modules-and-packages)\n",
    "\n",
    "## [BONUS: Decorators](#BONUS:-Decorators)\n",
    "* [What is a Decorator?](#What-is-a-Decorator?)\n",
    "* [Built-in Decorators](#Common-Built-in-Decorators) (`@property`, `@classmethod`, `@staticmethod`)\n",
    "* [Custom Function Decorators](#Custom-Function-Decorators)"
   ]
  },
  {
   "cell_type": "markdown",
   "metadata": {},
   "source": [
    "[Back to Top](#Outline)"
   ]
  },
  {
   "cell_type": "markdown",
   "metadata": {},
   "source": [
    "## Introduction to Python\n",
    "\n",
    "This notebook provides a hands-on introduction to fundamental Python concepts with practical examples.  \n",
    "It's designed for both beginners and intermediate learners, especially those familiar with another language (like JavaScript or C#),  \n",
    "who want to build a solid foundation and strengthen their Python skills.  "
   ]
  },
  {
   "cell_type": "markdown",
   "metadata": {},
   "source": [
    "What is Python?\n",
    "\n",
    "- Python is a high-level, interpreted, general-purpose programming language created by Guido van Rossum and first released in 1991.  \n",
    "- It was developed with the goal of making programming more accessible and efficient while maintaining versatility.  \n",
    "- Python is renowned for its readability and wide range of applications, from data science and web development to automation and more.  "
   ]
  },
  {
   "cell_type": "markdown",
   "metadata": {},
   "source": [
    "Why choose Python?  \n",
    "- Readability: Its design philosophy emphasizes code clarity.  \n",
    "- Efficiency: Python allows developers to express concepts in fewer lines of code compared to languages like C++ or Java.  \n",
    "- Extensive Library Support: Python's standard library is often described as \"batteries included,\" providing tools for tasks like file handling, networking, and web scraping.  \n",
    "- Community Support: With an extensive user base, Python boasts rich resources, forums, and libraries for virtually every domain.  "
   ]
  },
  {
   "cell_type": "markdown",
   "metadata": {},
   "source": [
    "Key concepts to start with:\n",
    "\n",
    "1. Case Sensitivity: Python distinguishes between uppercase and lowercase letters. For example:\n",
    "    ```py\n",
    "    myVariable = 5\n",
    "    myvariable = 10\n",
    "    print(myVariable) # Outputs: 5\n",
    "    print(myvariable) # Outputs: 10\n",
    "    ```\n",
    "    ``myVariable`` and ``myvariable`` are different variables.  \n",
    "\n",
    "2. Indentation: Unlike many other languages that use curly braces {}, Python uses indentation (specifically four spaces, refer to [pep8](https://peps.python.org/pep-0008/)) to define code blocks.  \n",
    "Consistent indentation is mandatory for proper code execution:\n",
    "    ```py\n",
    "    if True:\n",
    "        print(\"Indentation matters!\")\n",
    "    ```\n",
    "\n",
    "3. Comments using `#` for single-line comments. You will see this in the code snippets throughout the course.  \n",
    "    ```py\n",
    "    # this is a comment, it will not be executed by the interpreter\n",
    "    # useful information can be conveyed in a single line to explain the code.\n",
    "\n",
    "    ```\n"
   ]
  },
  {
   "cell_type": "markdown",
   "metadata": {},
   "source": [
    "We will review most of this in the Basic Syntax section, which is next.  \n",
    "To see Python in action, run the following code snippet:"
   ]
  },
  {
   "cell_type": "code",
   "execution_count": null,
   "metadata": {},
   "outputs": [],
   "source": [
    "# click in this code cell and press `Ctrl+Enter` or `Shift+Enter` to run the code below.\n",
    "# ctrl+enter will run the code and stay in the same cell\n",
    "# shift+enter will run the code and move to the next cell.\n",
    "print(\"Hello World\")"
   ]
  },
  {
   "cell_type": "markdown",
   "metadata": {},
   "source": [
    "[Back to Top](#Outline)"
   ]
  },
  {
   "cell_type": "markdown",
   "metadata": {},
   "source": [
    "Time to start learning Python!"
   ]
  },
  {
   "cell_type": "markdown",
   "metadata": {},
   "source": [
    "# 1. Basic Syntax"
   ]
  },
  {
   "cell_type": "markdown",
   "metadata": {},
   "source": [
    "## And basic Jupyter Notebook shortcuts"
   ]
  },
  {
   "cell_type": "markdown",
   "metadata": {},
   "source": [
    "To recap what we have seen in the key concepts section of the introduction:\n",
    "- Python is case-sensitive, meaning that `print` and `Print` are different.\n",
    "- Indentation is important in Python, as it defines the structure of the code.\n",
    "- We can use the `#` symbol to add comments in our code."
   ]
  },
  {
   "cell_type": "markdown",
   "metadata": {},
   "source": [
    "Common Jupyter Notebook shortcuts:\n",
    "- `Ctrl+Enter`: Run the current cell and stay in it.\n",
    "- `Shift+Enter`: Run the current cell and move to the next one.\n",
    "- `Esc`: Enter command mode (outside a code cell or a markdown cell).\n",
    "- `Enter`: Enter edit mode (inside a code cell or a markdown cell).\n",
    "- `A`: Insert a new cell above the current one.\n",
    "- `B`: Insert a new cell below the current one.\n",
    "- `M`: Change the current cell to a markdown cell.\n",
    "- `Y`: Change the current cell to a code cell.\n",
    "- `D, D`: Delete the current cell (press `D` twice quickly, while in command mode)."
   ]
  },
  {
   "cell_type": "markdown",
   "metadata": {},
   "source": [
    "### The built-in print() function"
   ]
  },
  {
   "cell_type": "markdown",
   "metadata": {},
   "source": [
    "The built-in print() function is used to display output.  \n",
    "Very useful for debugging."
   ]
  },
  {
   "cell_type": "code",
   "execution_count": null,
   "metadata": {},
   "outputs": [],
   "source": [
    "# click in this code cell and press `Ctrl+Enter` to run the code below.\n",
    "print(\"Welcome to Python-AtoZed!!\")"
   ]
  },
  {
   "cell_type": "code",
   "execution_count": null,
   "metadata": {},
   "outputs": [],
   "source": [
    "# the print function is used to display output in Python.\n",
    "# it can take multiple arguments separated by commas.\n",
    "print(\"This is\", \"a test\", \"of the print function.\")\n",
    "# the print function automatically adds a space between arguments."
   ]
  },
  {
   "cell_type": "code",
   "execution_count": null,
   "metadata": {},
   "outputs": [],
   "source": [
    "# you can also use the `sep` parameter to change the separator.\n",
    "print(\"This is\", \"a test\", \"of the print function.\", sep=\"-\")"
   ]
  },
  {
   "cell_type": "code",
   "execution_count": null,
   "metadata": {},
   "outputs": [],
   "source": [
    "# the `end` parameter can be used to change the end character.\n",
    "print(\"This is\", \"a test\", \"of the print function.\", end=\"!!!\")\n",
    "# the default end character is a newline.\n",
    "# note that the next print statement will continue on the same line. because of the `end` parameter not being \\n.\n",
    "print(\"This is still the same line.\")"
   ]
  },
  {
   "cell_type": "code",
   "execution_count": null,
   "metadata": {},
   "outputs": [],
   "source": [
    "# you can use string formatting to create more complex output.\n",
    "# the `format` method can be used to format strings.\n",
    "# it replaces placeholders in the string with values.\n",
    "# placeholders are defined using curly braces `{}`.\n",
    "print(\"This is a {} of the print function.\".format(\"test\"))"
   ]
  },
  {
   "cell_type": "code",
   "execution_count": null,
   "metadata": {},
   "outputs": [],
   "source": [
    "# you can also do weird things like this (it's \"weird\" because we haven't seen indexing yet):\n",
    "print(\"This is a {0}{1}{2}{3} of the print function.\".format(\"simple \", \"weird \", \"unknown \", \"test\"))\n",
    "# this is not recommended, but it works."
   ]
  },
  {
   "cell_type": "markdown",
   "metadata": {},
   "source": [
    "The `.format()` style with numbered placeholders like `{0}{1}{2}{3}` is **not recommended** because:\n",
    "\n",
    "- **It’s hard to read and maintain.** You have to keep track of the order of each argument and its corresponding number.\n",
    "- **It’s easy to make mistakes** if you change the order or number of arguments.\n",
    "- **Modern alternatives are clearer:**  \n",
    "  - You can use f-strings (formatted string literals), which are more readable and less error-prone:\n",
    "    ```python\n",
    "    name = \"Python\"\n",
    "    print(f\"This is a test of {name}\")\n",
    "    ```\n",
    "  - Or use named placeholders with `.format()`:\n",
    "    ```python\n",
    "    print(\"This is a {adjective} example.\".format(adjective=\"simple\"))\n",
    "    ```"
   ]
  },
  {
   "cell_type": "code",
   "execution_count": null,
   "metadata": {},
   "outputs": [],
   "source": [
    "# for proper syntax references, check: https://peps.python.org/pep-0008/#comments\n",
    "\n",
    "pep8 = \"https://peps.python.org/pep-0008/\" # a string being assigned to a variable, from right to left. \n",
    "print(f\"Click this link to read PEP 8: {pep8}\") # f-string formatting to print the variable pep8. \n",
    "\n",
    "# for more information on f-strings, check: https://peps.python.org/pep-0498/"
   ]
  },
  {
   "cell_type": "markdown",
   "metadata": {},
   "source": [
    "[Back to Top](#Outline)"
   ]
  },
  {
   "cell_type": "markdown",
   "metadata": {},
   "source": [
    "### The built-in help() function\n",
    "\n",
    "Python provides easy ways to get help about functions, classes, and modules.  \n",
    "The `help()` function shows documentation for Python objects.\n",
    "\n",
    "**Examples:**\n",
    "```python\n",
    "help(print)   # Shows info about the print function\n",
    "help(str)     # Shows info about the str (string) type\n",
    "help(range)   # Shows info about the range function\n",
    "```"
   ]
  },
  {
   "cell_type": "code",
   "execution_count": null,
   "metadata": {},
   "outputs": [],
   "source": [
    "help(print)"
   ]
  },
  {
   "cell_type": "markdown",
   "metadata": {},
   "source": [
    "### Using `?` in Jupyter Notebooks\n",
    "\n",
    "In Jupyter, you can use `?` after a function or object name to see its docstring.\n",
    "\n",
    "**Examples:**\n",
    "```python\n",
    "print?    # Shows info about print\n",
    "str?      # Shows info about str\n",
    "range?    # Shows info about range\n",
    "```"
   ]
  },
  {
   "cell_type": "code",
   "execution_count": null,
   "metadata": {},
   "outputs": [],
   "source": [
    "print?"
   ]
  },
  {
   "cell_type": "code",
   "execution_count": null,
   "metadata": {},
   "outputs": [],
   "source": [
    "\n",
    "str?"
   ]
  },
  {
   "cell_type": "markdown",
   "metadata": {},
   "source": [
    "[Back to Top](#Outline)"
   ]
  },
  {
   "cell_type": "markdown",
   "metadata": {},
   "source": [
    "### Commenting"
   ]
  },
  {
   "cell_type": "markdown",
   "metadata": {},
   "source": [
    "As mentioned in the outline, comments in Python start with the `#` symbol.  \n",
    "Everything after `#` on the same line is ignored by the interpreter.  \n",
    "Comments are helpful for explaining code, adding notes, or temporarily disabling parts of your code.  \n",
    "Writing clear and concise comments makes your code easier to read and understand.  \n",
    "Readability is an important concept in Python and programming in general.  \n",
    "You have already seen many comments in earlier sections and the outline. Now you know their purpose and how to use them."
   ]
  },
  {
   "cell_type": "markdown",
   "metadata": {},
   "source": [
    "[Back to Top](#Outline)"
   ]
  },
  {
   "cell_type": "markdown",
   "metadata": {},
   "source": [
    "### Multiline comment AKA Docstring"
   ]
  },
  {
   "cell_type": "markdown",
   "metadata": {},
   "source": [
    "Lets see another way to comment code.  \n",
    "The multiline comment also known as docstring.  \n",
    "Use triple quotes to create a multiline comment.  \n",
    "This is good practice for readability and maintainability.  \n",
    "Useful for documenting code like functions and classes.  \n",
    "We will cover functions and classes in later lessons."
   ]
  },
  {
   "cell_type": "code",
   "execution_count": null,
   "metadata": {},
   "outputs": [],
   "source": [
    "doc = \"\"\"\n",
    "This is an example\n",
    "of a multiline comment,\n",
    "also called a docstring.\n",
    "\"\"\"\n",
    "\n",
    "print(doc)"
   ]
  },
  {
   "cell_type": "markdown",
   "metadata": {},
   "source": [
    "[Back to Top](#Outline)"
   ]
  },
  {
   "cell_type": "markdown",
   "metadata": {},
   "source": [
    "### Indentation and code blocks"
   ]
  },
  {
   "cell_type": "markdown",
   "metadata": {},
   "source": [
    "\n",
    "Python uses indentation to define code blocks.  \n",
    "Code blocks are used to group related code.  \n",
    "Indentation is typically 4 spaces (see pep8).  \n",
    "It can be a tab (make sure your editor uses 4 spaces when pressing tab), spaces are recommended.  \n",
    "It is used after a colon to start a code block. (if you press enter after a colon, your IDE will indent the next line of code)"
   ]
  },
  {
   "cell_type": "code",
   "execution_count": null,
   "metadata": {},
   "outputs": [],
   "source": [
    "def example():\n",
    "    \"\"\"\n",
    "    This is an example\n",
    "    of a multiline comment,\n",
    "    also called a docstring.\n",
    "    \"\"\"\n",
    "    return \"This is a return statement from the example function.\"\n",
    "\n",
    "print(example()) # this will print the return value of the function\n",
    "print(\"----------------------------------\") # separator for clarity\n",
    "help(example) # help() function provides a way to access the documentation of a function, class, or module."
   ]
  },
  {
   "cell_type": "code",
   "execution_count": null,
   "metadata": {},
   "outputs": [],
   "source": [
    "print(example.__doc__) # this will print the docstring of the function\n",
    "print(\"----------------------------------\") # separator for clarity\n",
    "print(help(print)) # this will print the help documentation of the print function"
   ]
  },
  {
   "cell_type": "markdown",
   "metadata": {},
   "source": [
    "[Back to Top](#Outline)"
   ]
  },
  {
   "cell_type": "markdown",
   "metadata": {},
   "source": [
    "## 1.1 Data Types"
   ]
  },
  {
   "cell_type": "markdown",
   "metadata": {},
   "source": [
    "### And variables"
   ]
  },
  {
   "cell_type": "markdown",
   "metadata": {},
   "source": [
    "Variables must start with a letter or an underscore ``_`` (not a number).  \n",
    "They cannot contain spaces.  \n",
    "Variables can contain letters, numbers, and underscores.  \n",
    "Variables should not use Python's built-in function names as variable names, such as print or input.  \n",
    "Best practice is to use descriptive names in lowercase, separating words with underscores (snake_case)."
   ]
  },
  {
   "cell_type": "code",
   "execution_count": null,
   "metadata": {},
   "outputs": [],
   "source": [
    "string = \"1\" # this is a string. Strings are enclosed in quotes.\n",
    "string2 = \"Hello, Python!\" # this is also a string.\n",
    "integer = 10 # this is an integer. Integers are whole numbers.\n",
    "f_loat = 12.4 # example of a float. Floats are numbers with decimals.\n",
    "done = False # this is a boolean. Booleans are True or False."
   ]
  },
  {
   "cell_type": "markdown",
   "metadata": {},
   "source": [
    "Concatenation of strings with the + operator.  \n",
    "What is concatenation? It is the process of joining two strings together.  \n",
    "This is a common operation in programming."
   ]
  },
  {
   "cell_type": "code",
   "execution_count": null,
   "metadata": {},
   "outputs": [],
   "source": [
    "print(string + string)\n",
    "print(string2 + string2)\n",
    "print(string2 + \" \" + \"random string\" + \" \" + string2) # concatenation of strings and variables"
   ]
  },
  {
   "cell_type": "code",
   "execution_count": null,
   "metadata": {},
   "outputs": [],
   "source": [
    "# you can also access a string character by its index, starting from 0.\n",
    "print(string2[0]) # this will print the first character of the string (H)\n",
    "print(string2[1]) # this will print the second character of the string (e)\n",
    "print(string2[2]) # this will print the third character of the string (l)\n",
    "print(string2[3]) # this will print the fourth character of the string (l)\n",
    "print(string2[4]) # this will print the fifth character of the string (o)\n",
    "# etc."
   ]
  },
  {
   "cell_type": "markdown",
   "metadata": {},
   "source": [
    "``type()`` is used to check the data type of a variable.  \n",
    "Data types are important in programming.  \n",
    "They tell the computer how to interpret the data.  \n",
    "Python is a dynamically typed language, meaning you don't have to declare the data type of a variable.  \n",
    "The interpreter will figure it out based on the value assigned to the variable.  \n",
    "This is different from statically typed languages like C++ or Java.  \n",
    "In those languages, you have to declare the data type of a variable before using it."
   ]
  },
  {
   "cell_type": "code",
   "execution_count": null,
   "metadata": {},
   "outputs": [],
   "source": [
    "x = int(string)  # convert a string to an integer\n",
    "print(type(string), string) # print the type and value of the variable\n",
    "print(type(x), x) # print the type and value of the variable\n",
    "print() # print a blank line, helps with readability when there are multiple print statements\n",
    "\n",
    "int2 = 1\n",
    "print(bool(int2))  # convert an integer to a boolean inside the print function instead of storing it in a variable\n",
    "print() # print a blank line\n",
    "\n",
    "bool1 = True\n",
    "bool2 = False\n",
    "print(int(bool1), bool1)  # convert a boolean to an integer\n",
    "print(int(bool2), bool2)"
   ]
  },
  {
   "cell_type": "markdown",
   "metadata": {},
   "source": [
    "[Back to Top](#Outline)"
   ]
  },
  {
   "cell_type": "markdown",
   "metadata": {},
   "source": [
    "### 1.1.1 String Methods"
   ]
  },
  {
   "cell_type": "code",
   "execution_count": null,
   "metadata": {},
   "outputs": [],
   "source": [
    "# String methods are built-in functions that work on strings\n",
    "text = \"Hello, Python World!\""
   ]
  },
  {
   "cell_type": "code",
   "execution_count": null,
   "metadata": {},
   "outputs": [],
   "source": [
    "# Case methods\n",
    "print(text.lower())        # hello, python world!\n",
    "print(text.upper())        # HELLO, PYTHON WORLD!\n",
    "print(text.title())        # Hello, Python World!\n",
    "print(text.capitalize())   # Hello, python world!"
   ]
  },
  {
   "cell_type": "code",
   "execution_count": null,
   "metadata": {},
   "outputs": [],
   "source": [
    "# Checking string content\n",
    "print(text.isalpha())      # False (contains punctuation and spaces)\n",
    "print(\"Hello\".isalpha())   # True\n",
    "print(\"123\".isdigit())     # True\n",
    "print(\"Hello123\".isalnum()) # True"
   ]
  },
  {
   "cell_type": "code",
   "execution_count": null,
   "metadata": {},
   "outputs": [],
   "source": [
    "# Finding and replacing\n",
    "print(text.find(\"Python\"))    # 7 (index where \"Python\" starts)\n",
    "print(text.replace(\"Python\", \"Java\"))  # Hello, Java World!\n",
    "print(text.count(\"l\"))        # 3 (number of 'l' characters)"
   ]
  },
  {
   "cell_type": "code",
   "execution_count": null,
   "metadata": {},
   "outputs": [],
   "source": [
    "# Splitting and joining\n",
    "words = text.split()          # ['Hello,', 'Python', 'World!']\n",
    "print(\" - \".join(words))      # Hello, - Python - World!"
   ]
  },
  {
   "cell_type": "code",
   "execution_count": null,
   "metadata": {},
   "outputs": [],
   "source": [
    "# Stripping whitespace\n",
    "messy_text = \"  Hello World  \"\n",
    "print(messy_text.strip())     # \"Hello World\""
   ]
  },
  {
   "cell_type": "markdown",
   "metadata": {},
   "source": [
    "[Back to Top](#Outline)"
   ]
  },
  {
   "cell_type": "markdown",
   "metadata": {},
   "source": [
    "## 1.2 Basic Operators"
   ]
  },
  {
   "cell_type": "markdown",
   "metadata": {},
   "source": [
    "Arithmetic Operators\n",
    "\n",
    "These operators perform mathematical calculations.\n",
    "\n",
    "| Operator | Operation           | Example | Result |\n",
    "|----------|---------------------|---------|--------|\n",
    "| +        | Addition            | 2 + 3   | 5      |\n",
    "| -        | Subtraction         | 7 - 4   | 3      |\n",
    "| *        | Multiplication      | 6 * 3   | 18     |\n",
    "| /        | Division            | 10 / 2  | 5.0    |\n",
    "| //       | Floor Division      | 10 // 3 | 3      |\n",
    "| %        | Modulus (Remainder) | 10 % 3  | 1      |\n",
    "| **       | Exponentiation      | 2 ** 3  | 8      |"
   ]
  },
  {
   "cell_type": "code",
   "execution_count": null,
   "metadata": {},
   "outputs": [],
   "source": [
    "print(2 + 3) # Addition\n",
    "print(2 - 3) # Subtraction\n",
    "print(2 * 3) # Multiplication\n",
    "print(10 / 2) # Division (will always give a float)\n",
    "print(10 // 3) # Floor Division (rounded down to nearest integer)\n",
    "print(10 % 3) # Modulus (remainder)\n",
    "print(2 ** 3) # Exponentiation"
   ]
  },
  {
   "cell_type": "markdown",
   "metadata": {},
   "source": [
    "[Back to Top](#Outline)"
   ]
  },
  {
   "cell_type": "markdown",
   "metadata": {},
   "source": [
    "Assignment Operators\n",
    "\n",
    "Used to assign and modify the value of a variable.  \n",
    "+=: Adds the value to the variable's value.  \n",
    "-=: Subtracts the value from the variable's value.  \n",
    "*=: Multiplies the current value by the variable's value.  \n",
    "/=: Divides the current value by the variable's value.  \n",
    "//=: Performs floor division on the variable's value.  \n",
    "%=: Sets the variable to the remainder of the division of the variable's value.  \n",
    "**=: Raises the current value to the power of the variable's value.  \n",
    "\n",
    "| Operator | Operation                 | Example | Equivalent To  |\n",
    "|----------|---------------------------|---------|----------------|\n",
    "| =        | Assignment                | x = 14  | Assign 14 to x |\n",
    "| +=       | Addition Assignment       | x += 49 | x = x + 49     |\n",
    "| -=       | Subtraction Assignment    | x -= 12 | x = x - 12     |\n",
    "| *=       | Multiplication Assignment | x *= 54 | x = x * 54     |\n",
    "| /=       | Division Assignment       | x /= 2  | x = x / 2      |\n",
    "| //=      | Floor Division Assignment | x //= 3 | x = x // 3     |\n",
    "| %=       | Modulus Assignment        | x %= 4  | x = x % 4      |\n",
    "| **=      | Exponentiation Assignment | x **= 9 | x = x ** 9     |"
   ]
  },
  {
   "cell_type": "code",
   "execution_count": null,
   "metadata": {},
   "outputs": [],
   "source": [
    "# Assignment Operators Example\n",
    "x = 14\n",
    "print(x)\n",
    "\n",
    "x += 49\n",
    "print(x)\n",
    "\n",
    "x -= 12\n",
    "print(x)\n",
    "\n",
    "x *= 54\n",
    "print(x)\n",
    "\n",
    "x /= 2\n",
    "print(x)\n",
    "\n",
    "x //= 3\n",
    "print(x)\n",
    "\n",
    "x %= 4\n",
    "print(x)\n",
    "\n",
    "x **= 9\n",
    "print(x)"
   ]
  },
  {
   "cell_type": "markdown",
   "metadata": {},
   "source": [
    "[Back to Top](#Outline)"
   ]
  },
  {
   "cell_type": "markdown",
   "metadata": {},
   "source": [
    "Comparison Operators\n",
    "\n",
    "``==``: checks if two values are equal. Returns ``True`` if both values are the same, and ``False`` otherwise.  \n",
    "``!=``: checks if two values are not equal. Returns ``True`` if the values are different, and ``False`` if they are the same.  \n",
    "``>``: checks if the value on the left is greater than the value on the right. Returns ``True`` if the left value is greater, and ``False`` otherwise.  \n",
    "``<``: checks if the value on the left is less than the value on the right. Returns ``True`` if the left value is smaller, and ``False`` otherwise.  \n",
    "``>=``: checks if the value on the left is greater than or equal to the value on the right. Returns ``True`` if the left value is greater or equal, and ``False`` otherwise.  \n",
    "``<=``: checks if the value on the left is less than or equal to the value on the right. Returns ``True`` if the left value is smaller or equal, and ``False`` otherwise.  \n",
    "\n",
    "| Operator | Operation        | Example | Result |\n",
    "|----------|------------------|---------|--------|\n",
    "| ==       | Equal            | 5 == 5  | True   |\n",
    "| !=       | Not Equal        | 5 != 3  | True   |\n",
    "| >\t       | Greater Than     | 7 > 5   | True   |\n",
    "| <\t       | Less Than        | 3 < 4   | True   |\n",
    "| >=       | Greater or Equal | 6 >= 6  | True   |\n",
    "| <=       | Less or Equal    | 4 <= 5  | True   |"
   ]
  },
  {
   "cell_type": "code",
   "execution_count": null,
   "metadata": {},
   "outputs": [],
   "source": [
    "# Example: Equal\n",
    "# note: two different types will not be equal\n",
    "a = 5\n",
    "b = 5\n",
    "c = \"5\"\n",
    "print(a == b)  # Output will be True because both are 5\n",
    "print(a == c)  # Output will be False because 5 is not equal to \"5\"\n",
    "# 5 is an integer, \"5\" is a string\n",
    "print() # print a blank line"
   ]
  },
  {
   "cell_type": "code",
   "execution_count": null,
   "metadata": {},
   "outputs": [],
   "source": [
    "# Example: Not Equal\n",
    "# note: two different types will not be equal\n",
    "a = 5\n",
    "b = 3\n",
    "c = \"5\"\n",
    "print(a != b)  # Output will be True because 5 is not equal to 3\n",
    "print(a != c)  # Output will be True because 5 is not equal to \"5\", different types\n",
    "print() # print a blank line"
   ]
  },
  {
   "cell_type": "code",
   "execution_count": null,
   "metadata": {},
   "outputs": [],
   "source": [
    "# Example: Greater Than\n",
    "a = 7\n",
    "b = 5\n",
    "print(a > b)  # Output will be True because 7 is greater than 5\n",
    "print() # print a blank line"
   ]
  },
  {
   "cell_type": "code",
   "execution_count": null,
   "metadata": {},
   "outputs": [],
   "source": [
    "# Example: Less Than\n",
    "a = 3\n",
    "b = 4\n",
    "print(a < b)  # Output will be True because 3 is less than 4\n",
    "print() # print a blank line"
   ]
  },
  {
   "cell_type": "code",
   "execution_count": null,
   "metadata": {},
   "outputs": [],
   "source": [
    "# Example: Greater or Equal\n",
    "a = 6\n",
    "b = 6\n",
    "print(a >= b)  # Output will be True because 6 is equal to 6\n",
    "print() # print a blank line"
   ]
  },
  {
   "cell_type": "code",
   "execution_count": null,
   "metadata": {},
   "outputs": [],
   "source": [
    "# Example: Less or Equal\n",
    "a = 4\n",
    "b = 5\n",
    "print(a <= b)  # Output will be True because 4 is less than 5"
   ]
  },
  {
   "cell_type": "markdown",
   "metadata": {},
   "source": [
    "[Back to Top](#Outline)"
   ]
  },
  {
   "cell_type": "markdown",
   "metadata": {},
   "source": [
    "Logical Operators\n",
    "\n",
    "``and``: Returns ``True`` if both operands are ``True``, otherwise returns ``False``.  \n",
    "``or``: Returns ``True`` if at least one operand is ``True``, otherwise returns ``False``.  \n",
    "``not``: Negates (reverses, opposite) the boolean value of the operand. If the operand is ``True``, it returns ``False``, and if it is ``False``, it returns ``True``.  \n",
    "\n",
    "| Operator | Operation                      | Example             | Result |\n",
    "|----------|--------------------------------|---------------------|--------|\n",
    "| and      | True if both are True          | (5 > 3) and (4 > 2) | True   |\n",
    "| or       | True if at least one is True   | (5 > 7) or (4 > 2)  | True   |\n",
    "| not      | Inverts the result             | not (5 > 3)         | False  |"
   ]
  },
  {
   "cell_type": "markdown",
   "metadata": {},
   "source": [
    "Truth table for AND\n",
    "|   A   |   B   |  A and B |\n",
    "|-------|-------|----------|\n",
    "| True  | True  | True     |\n",
    "| True  | False | False    |\n",
    "| False | True  | False    |\n",
    "| False | False | False    |\n",
    "\n",
    "Truth table for OR\n",
    "|   A   |   B   |  A or B |\n",
    "|-------|-------|---------|\n",
    "| True  | True  | True    |\n",
    "| True  | False | True    |\n",
    "| False | True  | True    |\n",
    "| False | False | False   |\n",
    "\n",
    "Truth table for NOT\n",
    "|   A   |  not A  |\n",
    "|-------|---------|\n",
    "| True  | False   |\n",
    "| False | True    |"
   ]
  },
  {
   "cell_type": "code",
   "execution_count": null,
   "metadata": {},
   "outputs": [],
   "source": [
    "print((5 > 3) and (4 > 2)) # (True) and (True) = True\n",
    "print((5 > 7) or (4 > 2)) # (False) or (True) = True\n",
    "print(not (5 > 3)) # not (True) = False"
   ]
  },
  {
   "cell_type": "markdown",
   "metadata": {},
   "source": [
    "[Back to Top](#Outline)"
   ]
  },
  {
   "cell_type": "markdown",
   "metadata": {},
   "source": [
    "## 1.3 Summary of Basic Syntax"
   ]
  },
  {
   "cell_type": "code",
   "execution_count": null,
   "metadata": {},
   "outputs": [],
   "source": [
    "basic_syntax_summary = {\n",
    "    \"Print Function\": \"Use print() to display output and debug your code.\",\n",
    "    \"Comments\": \"Use # for single-line comments and triple quotes for multi-line comments.\",\n",
    "    \"Variables\": \"Store different data types: strings, numbers, and booleans.\",\n",
    "    \"String Methods\": \"Manipulate text with methods like upper(), lower(), and split().\",\n",
    "    \"Operators\": \"Perform math (+, -, *, /), compare values (==, !=, <, >), and combine conditions (and, or, not).\",\n",
    "    \"Indentation\": \"Use 4 spaces to define code blocks instead of curly braces.\"\n",
    "}\n",
    "\n",
    "print(\"Basic Syntax Summary:\")\n",
    "for concept, description in basic_syntax_summary.items():\n",
    "    print(f\"{concept}: {description}\")"
   ]
  },
  {
   "cell_type": "markdown",
   "metadata": {},
   "source": [
    "[Back to Top](#Outline)"
   ]
  },
  {
   "cell_type": "markdown",
   "metadata": {},
   "source": [
    "# 2. Data Structures"
   ]
  },
  {
   "cell_type": "markdown",
   "metadata": {},
   "source": [
    "## 2.1 Lists"
   ]
  },
  {
   "cell_type": "code",
   "execution_count": null,
   "metadata": {},
   "outputs": [],
   "source": [
    "# Lists, indexing, slicing\n",
    "my_list = [1, 2, 3, 4, 5]\n",
    "print(my_list[0])  # Accessing elements by index\n",
    "print(my_list[1:4])  # Slicing a list\n",
    "print(my_list[-1])  # Accessing the last element\n",
    "print(my_list[-2:])  # Slicing from the second last element to the end"
   ]
  },
  {
   "cell_type": "code",
   "execution_count": null,
   "metadata": {},
   "outputs": [],
   "source": [
    "# Adding and removing elements\n",
    "my_list.append(6)  # Adding an element to the end of the list\n",
    "print(my_list)  # Output: [1, 2, 3, 4, 5, 6]\n",
    "my_list.remove(3)  # Removing an element from the list\n",
    "print(my_list)  # Output: [1, 2, 4, 5, 6]"
   ]
  },
  {
   "cell_type": "code",
   "execution_count": null,
   "metadata": {},
   "outputs": [],
   "source": [
    "# Getting the length of a list, which is the number of elements in the list\n",
    "print(len(my_list))"
   ]
  },
  {
   "cell_type": "markdown",
   "metadata": {},
   "source": [
    "[Back to Top](#Outline)"
   ]
  },
  {
   "cell_type": "markdown",
   "metadata": {},
   "source": [
    "### 2.1.1 List Methods"
   ]
  },
  {
   "cell_type": "code",
   "execution_count": null,
   "metadata": {},
   "outputs": [],
   "source": [
    "# List methods are built-in functions that modify or work with lists\n",
    "my_list = [1, 2, 3]\n",
    "print(my_list)"
   ]
  },
  {
   "cell_type": "code",
   "execution_count": null,
   "metadata": {},
   "outputs": [],
   "source": [
    "# Adding elements\n",
    "my_list.append(4)           # Add single element to end: [1, 2, 3, 4]\n",
    "print(my_list)\n",
    "\n",
    "my_list.extend([5, 6])      # Add multiple elements: [1, 2, 3, 4, 5, 6]\n",
    "print(my_list)\n",
    "\n",
    "my_list.insert(0, 0)        # Insert at specific index: [0, 1, 2, 3, 4, 5, 6]\n",
    "print(my_list)"
   ]
  },
  {
   "cell_type": "code",
   "execution_count": null,
   "metadata": {},
   "outputs": [],
   "source": [
    "# Removing elements\n",
    "my_list.remove(3)           # Remove first occurrence of value\n",
    "print(my_list)\n",
    "\n",
    "popped = my_list.pop()      # Remove and return last element\n",
    "print(popped)\n",
    "\n",
    "popped_index = my_list.pop(0)  # Remove and return element at index\n",
    "print(popped_index)"
   ]
  },
  {
   "cell_type": "code",
   "execution_count": null,
   "metadata": {},
   "outputs": [],
   "source": [
    "# Finding elements\n",
    "index = my_list.index(2)    # Find index of first occurrence\n",
    "print(index)\n",
    "\n",
    "my_list.append(4)  # Adding another 4 to demonstrate count\n",
    "count = my_list.count(4)    # Count occurrences of value\n",
    "print(count)"
   ]
  },
  {
   "cell_type": "code",
   "execution_count": null,
   "metadata": {},
   "outputs": [],
   "source": [
    "# Organizing lists\n",
    "my_list.sort()              # Sort in place (ascending)\n",
    "print(my_list)\n",
    "\n",
    "my_list.sort(reverse=True)  # Sort in place (descending)\n",
    "print(my_list)\n",
    "\n",
    "my_list.reverse()           # Reverse the list in place\n",
    "print(my_list)"
   ]
  },
  {
   "cell_type": "code",
   "execution_count": null,
   "metadata": {},
   "outputs": [],
   "source": [
    "# Copying lists\n",
    "new_list = my_list.copy()   # Create a shallow copy\n",
    "print(new_list)"
   ]
  },
  {
   "cell_type": "markdown",
   "metadata": {},
   "source": [
    "[Back to Top](#Outline)"
   ]
  },
  {
   "cell_type": "markdown",
   "metadata": {},
   "source": [
    "### 2.1.2 List Comprehension"
   ]
  },
  {
   "cell_type": "markdown",
   "metadata": {},
   "source": [
    "List comprehension is a concise way to create lists in Python.  \n",
    "It consists of brackets containing an expression followed by a for clause,  \n",
    "and can also include an optional if clause to filter items.  \n",
    "The general syntax is: \n",
    "```py \n",
    "[expression for item in iterable if condition]\n",
    "```\n",
    "\n",
    "In the example below:  \n",
    "\"x for x in range(10)\" iterates through numbers 0 to 9. (see explainer of range() below)  \n",
    "\"if x % 2 == 0\" filters only even numbers.  \n",
    "The resulting list contains all even numbers from 0 to 9.  \n",
    "List comprehension improves code readability and reduces the need for verbose loops.  \n",
    "\n",
    "Similar syntax can be used to create sets and dictionaries, which we will see next in 2.2 and 2.3:  \n",
    "\"{x for x in iterable}\" for set comprehension  \n",
    "\"{k: v for k, v in iterable}\" for dictionary comprehension"
   ]
  },
  {
   "cell_type": "code",
   "execution_count": null,
   "metadata": {},
   "outputs": [],
   "source": [
    "# we haven't seen the range() function yet, but it's a built-in function that generates a sequence of numbers.\n",
    "# it can be used to create lists of numbers.\n",
    "my_range_list = list(range(10))  # Creating a list from a range of numbers\n",
    "print(my_range_list)  # Output: [0, 1, 2, 3, 4, 5, 6, 7, 8, 9]"
   ]
  },
  {
   "cell_type": "code",
   "execution_count": null,
   "metadata": {},
   "outputs": [],
   "source": [
    "# List Comprehension\n",
    "s = [x for x in range(10) if x % 2 == 0]  # List comprehension to create a list of even numbers\n",
    "print(s)  # Output: [0, 2, 4, 6, 8]"
   ]
  },
  {
   "cell_type": "markdown",
   "metadata": {},
   "source": [
    "[Back to Top](#Outline)"
   ]
  },
  {
   "cell_type": "markdown",
   "metadata": {},
   "source": [
    "## 2.2 Tuples"
   ]
  },
  {
   "cell_type": "code",
   "execution_count": null,
   "metadata": {},
   "outputs": [],
   "source": [
    "# Tuples and their immutability\n",
    "my_tuple = (1, 2, 3, 4, 5)\n",
    "print(my_tuple[0])  # Accessing elements by index (similar to lists)\n",
    "print(my_tuple[1:4])  # Slicing a tuple\n",
    "print(my_tuple[-1])  # Accessing the last element\n",
    "print(my_tuple[-2:])  # Slicing from the second last element to the end"
   ]
  },
  {
   "cell_type": "code",
   "execution_count": null,
   "metadata": {},
   "outputs": [],
   "source": [
    "# Tuples are immutable, meaning their elements cannot be changed after creation.\n",
    "# Attempting to modify a tuple will raise an error\n",
    "try: # we use a try-except block to catch the error, otherwise the program will crash, and the rest of the code won't run.\n",
    "    my_tuple[0] = 10  # This will raise a TypeError\n",
    "except TypeError as e:\n",
    "    print(f\"Error: {e}\")"
   ]
  },
  {
   "cell_type": "code",
   "execution_count": null,
   "metadata": {},
   "outputs": [],
   "source": [
    "# However, you can create a new tuple by concatenating or slicing existing tuples\n",
    "new_tuple = my_tuple + (6,)  # Concatenating a tuple\n",
    "print(new_tuple)"
   ]
  },
  {
   "cell_type": "code",
   "execution_count": null,
   "metadata": {},
   "outputs": [],
   "source": [
    "# Tuple unpacking\n",
    "a, b, c, d, e = my_tuple  # Unpacking a tuple into variables\n",
    "print(a, b, c, d, e)"
   ]
  },
  {
   "cell_type": "code",
   "execution_count": null,
   "metadata": {},
   "outputs": [],
   "source": [
    "# Tuples do not have a direct comprehension syntax like lists, but you can use generator expressions\n",
    "# to create tuples in a similar way:\n",
    "tuple_comp = tuple(x for x in range(10) if x % 2 == 0)  # Creating a tuple of even numbers\n",
    "print(tuple_comp)"
   ]
  },
  {
   "cell_type": "code",
   "execution_count": null,
   "metadata": {},
   "outputs": [],
   "source": [
    "# Getting the length of a tuple, which is the number of elements in the tuple\n",
    "print(len(my_tuple))"
   ]
  },
  {
   "cell_type": "markdown",
   "metadata": {},
   "source": [
    "[Back to Top](#Outline)"
   ]
  },
  {
   "cell_type": "markdown",
   "metadata": {},
   "source": [
    "## 2.3 Dictionaries"
   ]
  },
  {
   "cell_type": "code",
   "execution_count": null,
   "metadata": {},
   "outputs": [],
   "source": [
    "# Dictionaries and key-value pairs\n",
    "person = {\"name\": \"Alice\", \"age\": 22, \"city\": \"New York\"}\n",
    "print(person[\"name\"])  # Accessing values using keys\n",
    "print(person[\"age\"])  # Accessing another value using a different key\n",
    "print(person.get(\"city\"))  # Using the get method to access a value"
   ]
  },
  {
   "cell_type": "code",
   "execution_count": null,
   "metadata": {},
   "outputs": [],
   "source": [
    "# Dictionaries are mutable, meaning you can change their contents after creation.\n",
    "person[\"age\"] = 24  # Modifying an existing key-value pair\n",
    "print(person)"
   ]
  },
  {
   "cell_type": "code",
   "execution_count": null,
   "metadata": {},
   "outputs": [],
   "source": [
    "# Removing a key-value pair\n",
    "del person[\"age\"]  # Removing the 'age' key-value pair\n",
    "print(person)"
   ]
  },
  {
   "cell_type": "code",
   "execution_count": null,
   "metadata": {},
   "outputs": [],
   "source": [
    "\"age\" in person  # Checking if a key exists in the dictionary"
   ]
  },
  {
   "cell_type": "code",
   "execution_count": null,
   "metadata": {},
   "outputs": [],
   "source": [
    "# Adding a new key-value pair\n",
    "person[\"occupation\"] = \"Tinkerer\"\n",
    "person[\"job\"] = \"Engineer\"\n",
    "person[\"age\"] = 24"
   ]
  },
  {
   "cell_type": "code",
   "execution_count": null,
   "metadata": {},
   "outputs": [],
   "source": [
    "\"age\" in person  # Checking if a key exists in the dictionary, after we adding it back"
   ]
  },
  {
   "cell_type": "code",
   "execution_count": null,
   "metadata": {},
   "outputs": [],
   "source": [
    "# Iterating through a dictionary\n",
    "for key, value in person.items(): # we haven't seen for loops yet, but this is a simple way to iterate through a dictionary\n",
    "    # person.items() returns a view object that displays a list of a dictionary's key-value tuple\n",
    "    print(f\"{key}: {value}\")  # Output each key-value pair"
   ]
  },
  {
   "cell_type": "code",
   "execution_count": null,
   "metadata": {},
   "outputs": [],
   "source": [
    "# Dictionary comprehension\n",
    "# Creating a new dictionary with string values only, age will be excluded, because it is an integer\n",
    "new_dict = {key: value for key, value in person.items() if isinstance(value, str)}\n",
    "print(new_dict) "
   ]
  },
  {
   "cell_type": "markdown",
   "metadata": {},
   "source": [
    "[Back to Top](#Outline)"
   ]
  },
  {
   "cell_type": "markdown",
   "metadata": {},
   "source": [
    "## 2.4 Sets"
   ]
  },
  {
   "cell_type": "code",
   "execution_count": null,
   "metadata": {},
   "outputs": [],
   "source": [
    "# Sets, for unique values\n",
    "my_set = {1, 2, 2, 3, 4, 4, 5, 5}\n",
    "print(my_set)  # Sets automatically remove duplicate values"
   ]
  },
  {
   "cell_type": "code",
   "execution_count": null,
   "metadata": {},
   "outputs": [],
   "source": [
    "len(my_set)  # Finding the size of a set"
   ]
  },
  {
   "cell_type": "code",
   "execution_count": null,
   "metadata": {},
   "outputs": [],
   "source": [
    "# Adding elements to a set\n",
    "my_set.add(6)  # Adding an element to the set\n",
    "print(my_set)"
   ]
  },
  {
   "cell_type": "code",
   "execution_count": null,
   "metadata": {},
   "outputs": [],
   "source": [
    "# Removing elements from a set\n",
    "my_set.remove(3)  # Removing element 3 from the set\n",
    "                  # Note: raises KeyError if element doesn't exist\n",
    "                  # Use my_set.discard(3) to avoid errors\n",
    "\n",
    "# We will see how to handle errors in Python later, but for now, let's use a try-except block to prove the benefits of .discard()\n",
    "try:\n",
    "    my_set.remove(3)  # Removing the same element again will raise an error\n",
    "except KeyError as e:\n",
    "    print(f\"Error was raised, the element {3} is missing\")"
   ]
  },
  {
   "cell_type": "code",
   "execution_count": null,
   "metadata": {},
   "outputs": [],
   "source": [
    "my_set.add(3)  # Adding it back to the set\n",
    "print(my_set)"
   ]
  },
  {
   "cell_type": "code",
   "execution_count": null,
   "metadata": {},
   "outputs": [],
   "source": [
    "my_set.discard(3) # Discarding an element (does not raise an error if it doesn't exist)\n",
    "my_set.discard(3) # lets try to discard the same element again, it won't raise an error\n",
    "print(my_set)"
   ]
  },
  {
   "cell_type": "code",
   "execution_count": null,
   "metadata": {},
   "outputs": [],
   "source": [
    "# Set comprehension\n",
    "set_comp = {x for x in range(10) if x % 2 == 0}  # Creating a set of even numbers\n",
    "print(set_comp)  # Output: {0, 2, 4, 6, 8}"
   ]
  },
  {
   "cell_type": "code",
   "execution_count": null,
   "metadata": {},
   "outputs": [],
   "source": [
    "# Set operations\n",
    "set_a = {1, 2, 3}\n",
    "set_b = {3, 4, 5}\n",
    "print(set_a.union(set_b))  # Union of two sets\n",
    "print(set_a.intersection(set_b))  # Intersection of two sets\n",
    "print(set_a.difference(set_b))  # Difference of two sets\n",
    "print(set_a.symmetric_difference(set_b))  # Symmetric difference of two sets"
   ]
  },
  {
   "cell_type": "code",
   "execution_count": null,
   "metadata": {},
   "outputs": [],
   "source": [
    "# Set operations can also be performed using operators\n",
    "print(set_a | set_b)  # Union using |\n",
    "print(set_a & set_b)  # Intersection using &\n",
    "print(set_a - set_b)  # Difference using -\n",
    "print(set_a ^ set_b)  # Symmetric difference using ^"
   ]
  },
  {
   "cell_type": "markdown",
   "metadata": {},
   "source": [
    "[Back to Top](#Outline)"
   ]
  },
  {
   "cell_type": "markdown",
   "metadata": {},
   "source": [
    "## 2.5 More Examples"
   ]
  },
  {
   "cell_type": "markdown",
   "metadata": {},
   "source": [
    "### More operations on data structures"
   ]
  },
  {
   "cell_type": "code",
   "execution_count": null,
   "metadata": {},
   "outputs": [],
   "source": [
    "# Iterating through data structures, preview to for loops\n",
    "for item in my_list:\n",
    "    print(item)\n",
    "\n",
    "for key, value in person.items():\n",
    "    print(f\"{key}: {value}\")\n",
    "\n",
    "for number in my_set:\n",
    "    print(number)"
   ]
  },
  {
   "cell_type": "code",
   "execution_count": null,
   "metadata": {},
   "outputs": [],
   "source": [
    "# Converting between data structures\n",
    "my_list = [1, 2, 3, 4, 5]\n",
    "my_tuple = tuple(my_list)  # Converting a list to a tuple\n",
    "new_list = list(my_tuple)  # Converting a tuple to a list\n",
    "my_set = set(my_list)  # Converting a list to a set"
   ]
  },
  {
   "cell_type": "code",
   "execution_count": null,
   "metadata": {},
   "outputs": [],
   "source": [
    "# Nested data structures, not easy. try to focus\n",
    "nested_dict = {\"person1\": {\"name\": \"Alice\", \"age\": 30}, \"person2\": {\"name\": \"Bob\", \"age\": 25}}\n",
    "print(nested_dict[\"person1\"][\"name\"])  # Accessing nested dictionary values"
   ]
  },
  {
   "cell_type": "markdown",
   "metadata": {},
   "source": [
    "[Back to Top](#Outline)"
   ]
  },
  {
   "cell_type": "markdown",
   "metadata": {},
   "source": [
    "## 2.6 Summary of data structures"
   ]
  },
  {
   "cell_type": "code",
   "execution_count": null,
   "metadata": {},
   "outputs": [
    {
     "name": "stdout",
     "output_type": "stream",
     "text": [
      "=== SECTION 2: DATA STRUCTURES COMPREHENSIVE SUMMARY ===\n",
      "\n",
      "2.1 LISTS:\n",
      "  Definition: Ordered, mutable collections that can hold different data types\n",
      "  Creation: my_list = [1, 2, 3] or list()\n",
      "  Indexing: Access elements: my_list[0], my_list[-1]\n",
      "  Slicing: Extract portions: my_list[1:3], my_list[:2], my_list[2:]\n",
      "  Key Methods:\n",
      "    • append(item) - Add to end\n",
      "    • insert(index, item) - Insert at position\n",
      "    • remove(item) - Remove first occurrence\n",
      "    • pop(index) - Remove and return element\n",
      "    • index(item) - Find first occurrence index\n",
      "    • count(item) - Count occurrences\n",
      "    • sort() / sort(reverse=True) - Sort in place\n",
      "    • reverse() - Reverse in place\n",
      "    • extend(iterable) - Add multiple items\n",
      "    • copy() - Create shallow copy\n",
      "  List Comprehension: [expression for item in iterable if condition]\n",
      "\n",
      "2.2 TUPLES:\n",
      "  Definition: Ordered, immutable collections - cannot be changed after creation\n",
      "  Creation: my_tuple = (1, 2, 3) or tuple()\n",
      "  Access: Same as lists: indexing and slicing\n",
      "  Key Features:\n",
      "    • Immutable - cannot modify elements\n",
      "    • Tuple unpacking: a, b, c = my_tuple\n",
      "    • Concatenation creates new tuple: tuple1 + tuple2\n",
      "    • Generator to tuple: tuple(x for x in range(10))\n",
      "\n",
      "2.3 DICTIONARIES:\n",
      "  Definition: Unordered collections of key-value pairs\n",
      "  Creation: my_dict = {'key': 'value'} or dict()\n",
      "  Access: my_dict['key'] or my_dict.get('key')\n",
      "  Modification: my_dict['key'] = new_value\n",
      "  Key Operations:\n",
      "    • del my_dict['key'] - Remove key-value pair\n",
      "    • 'key' in my_dict - Check if key exists\n",
      "    • my_dict.items() - Get key-value pairs\n",
      "    • my_dict.keys() - Get all keys\n",
      "    • my_dict.values() - Get all values\n",
      "  Dict Comprehension: {key: value for key, value in iterable if condition}\n",
      "\n",
      "2.4 SETS:\n",
      "  Definition: Unordered collections of unique elements - no duplicates\n",
      "  Creation: my_set = {1, 2, 3} or set()\n",
      "  Key Methods:\n",
      "    • add(item) - Add single element\n",
      "    • remove(item) - Remove element (raises error if not found)\n",
      "    • discard(item) - Remove element (no error if not found)\n",
      "    • union(other) or | - Combine sets\n",
      "    • intersection(other) or & - Common elements\n",
      "    • difference(other) or - - Elements in first set only\n",
      "    • symmetric_difference(other) or ^ - Elements in either set, not both\n",
      "  Set Comprehension: {expression for item in iterable if condition}\n",
      "\n",
      "2.5 ADDITIONAL CONCEPTS:\n",
      "  • Converting between data structures: list(), tuple(), set(), dict()\n",
      "  • Nested data structures: dictionaries containing dictionaries\n",
      "  • Iteration through all data structures using for loops\n",
      "  • Length function: len() works on all data structures\n",
      "\n",
      "=== KEY TAKEAWAYS ===\n",
      "• Lists: Mutable, ordered, allow duplicates - use for changing collections\n",
      "• Tuples: Immutable, ordered, allow duplicates - use for fixed data\n",
      "• Dictionaries: Key-value pairs, fast lookup - use for structured data\n",
      "• Sets: Unique elements only, fast membership testing - use for uniqueness\n"
     ]
    }
   ],
   "source": [
    "data_structures = {\n",
    "    \"Lists\": \"Ordered, mutable collections with indexing, slicing, and methods like append(), remove(), extend().\",\n",
    "    \"List Methods\": \"Powerful operations including append(), remove(), pop(), sort(), reverse(), and count().\",\n",
    "    \"List Comprehension\": \"Concise way to create lists using [expression for item in iterable if condition].\",\n",
    "    \"Tuples\": \"Ordered, immutable collections that cannot be changed after creation, ideal for fixed data.\",\n",
    "    \"Dictionaries\": \"Unordered collections of key-value pairs with methods like keys(), values(), items(), get().\",\n",
    "    \"Sets\": \"Unordered collections of unique items with operations like union(), intersection(), difference().\"\n",
    "}\n",
    "\n",
    "print(\"\\nData Structures Summary:\")\n",
    "for ds, description in data_structures.items():\n",
    "    print(f\"{ds}: {description}\")\n",
    "\n",
    "# This concludes the basic introduction to Python data structures.\n",
    "# We have covered lists, tuples, dictionaries, and sets.\n",
    "\n",
    "# Next, Flow Control!\n"
   ]
  },
  {
   "cell_type": "markdown",
   "metadata": {},
   "source": [
    "[Back to Top](#Outline)"
   ]
  },
  {
   "cell_type": "markdown",
   "metadata": {},
   "source": [
    "# 3. Flow Control"
   ]
  },
  {
   "cell_type": "markdown",
   "metadata": {},
   "source": [
    "## 3.1 Conditional Statements"
   ]
  },
  {
   "cell_type": "code",
   "execution_count": null,
   "metadata": {},
   "outputs": [],
   "source": [
    "# Conditional statements (if, elif, else)\n",
    "x = 10  # Example variable for conditional statements\n",
    "\n",
    "if x > 5:\n",
    "    print(\"x is greater than 5\")\n",
    "elif x == 5:\n",
    "    print(\"x is equal to 5\")\n",
    "else:\n",
    "    print(\"x is less than 5\")"
   ]
  },
  {
   "cell_type": "markdown",
   "metadata": {},
   "source": [
    "[Back to Top](#Outline)"
   ]
  },
  {
   "cell_type": "markdown",
   "metadata": {},
   "source": [
    "## 3.2 For Loops"
   ]
  },
  {
   "cell_type": "markdown",
   "metadata": {},
   "source": [
    "For loops are used to iterate over a sequence (like a list, tuple, or string) or other iterable objects.  \n",
    "They are useful when you know the number of iterations in advance.  \n",
    "You, the human, don't have to know the number of iterations in advance, the interpreter knows the length of the iterable."
   ]
  },
  {
   "cell_type": "code",
   "execution_count": null,
   "metadata": {},
   "outputs": [],
   "source": [
    "# Basic for loop\n",
    "for i in range(5):  # Looping from 0 to 4\n",
    "    print(f\"Iteration {i}\")"
   ]
  },
  {
   "cell_type": "code",
   "execution_count": null,
   "metadata": {},
   "outputs": [],
   "source": [
    "# if, elif, else\n",
    "for i in range(5):\n",
    "    if i == 0: # check if i is zero\n",
    "        print(\"i is zero\")\n",
    "    elif i % 2 == 0: # check if i is even\n",
    "        print(f\"{i} is even\")\n",
    "    else:   # if i is not zero and not even, it must be odd\n",
    "        print(f\"{i} is odd\")"
   ]
  },
  {
   "cell_type": "code",
   "execution_count": null,
   "metadata": {},
   "outputs": [],
   "source": [
    "\n",
    "# Nested loops\n",
    "for i in range(3):  # Outer loop\n",
    "    for j in range(2):  # Inner loop\n",
    "        print(f\"i = {i}, j = {j}\")  # Print the current values of i and j"
   ]
  },
  {
   "cell_type": "markdown",
   "metadata": {},
   "source": [
    "[Back to Top](#Outline)"
   ]
  },
  {
   "cell_type": "markdown",
   "metadata": {},
   "source": [
    "### for-else"
   ]
  },
  {
   "cell_type": "markdown",
   "metadata": {},
   "source": [
    "Python has a unique feature: else blocks can be used with loops  \n",
    "The else block executes only when the loop completes normally (without break)"
   ]
  },
  {
   "cell_type": "code",
   "execution_count": null,
   "metadata": {},
   "outputs": [],
   "source": [
    "# Example 1: for-else without break\n",
    "print(\"Example 1: for-else without break\")\n",
    "for i in range(3):\n",
    "    print(f\"Processing {i}\")\n",
    "else:\n",
    "    print(\"Loop completed normally\")"
   ]
  },
  {
   "cell_type": "code",
   "execution_count": null,
   "metadata": {},
   "outputs": [],
   "source": [
    "# Example 2: for-else with break\n",
    "print(\"Example 2: for-else with break\")\n",
    "for i in range(5):\n",
    "    if i == 2:\n",
    "        print(f\"Breaking at {i}\")\n",
    "        break\n",
    "    print(f\"Processing {i}\")\n",
    "else:\n",
    "    print(\"Loop completed normally\")  # This will NOT execute"
   ]
  },
  {
   "cell_type": "markdown",
   "metadata": {},
   "source": [
    "[Back to Top](#Outline)"
   ]
  },
  {
   "cell_type": "markdown",
   "metadata": {},
   "source": [
    "## 3.3 While Loops"
   ]
  },
  {
   "cell_type": "markdown",
   "metadata": {},
   "source": [
    "While loops are used for repeated execution as long as a condition is true, useful when the number of iterations is not known beforehand."
   ]
  },
  {
   "cell_type": "code",
   "execution_count": null,
   "metadata": {},
   "outputs": [],
   "source": [
    "# While loops\n",
    "x = 5  # Initialize x to 5\n",
    "while x >= 1:\n",
    "    print(x)\n",
    "    print(\"abracadabra\")\n",
    "    x -= 1\n",
    "    print(x)"
   ]
  },
  {
   "cell_type": "markdown",
   "metadata": {},
   "source": [
    "### while-else"
   ]
  },
  {
   "cell_type": "markdown",
   "metadata": {},
   "source": [
    "As stated above, else blocks can be used with loops, not just for loops, but also while loops."
   ]
  },
  {
   "cell_type": "code",
   "execution_count": null,
   "metadata": {},
   "outputs": [],
   "source": [
    "# Example 3: while-else without break\n",
    "print(\"Example 3: while-else without break\")\n",
    "x = 0\n",
    "while x < 3:\n",
    "    print(f\"x = {x}\")\n",
    "    x += 1\n",
    "else:\n",
    "    print(\"While loop completed\")"
   ]
  },
  {
   "cell_type": "code",
   "execution_count": null,
   "metadata": {},
   "outputs": [],
   "source": [
    "# Example 4: while-else with break\n",
    "print(\"Example 4: while-else with break\")\n",
    "x = 0\n",
    "while x < 10:\n",
    "    if x == 2:\n",
    "        print(f\"Breaking at x = {x}\")\n",
    "        break\n",
    "    print(f\"x = {x}\")\n",
    "    x += 1\n",
    "else:\n",
    "    print(\"While loop completed\")  # This will NOT execute"
   ]
  },
  {
   "cell_type": "markdown",
   "metadata": {},
   "source": [
    "### else blocks with loops, practical example"
   ]
  },
  {
   "cell_type": "code",
   "execution_count": null,
   "metadata": {},
   "outputs": [],
   "source": [
    "# Practical example: Searching in a list\n",
    "print(\"Practical example: Searching for a value\")\n",
    "numbers = [1, 3, 5, 7, 9]\n",
    "search_value = 6\n",
    "\n",
    "for num in numbers:\n",
    "    if num == search_value:\n",
    "        print(f\"Found {search_value}!\")\n",
    "        break\n",
    "    print(f\"Checking {num}...\")\n",
    "else:\n",
    "    print(f\"{search_value} not found in the list\") # this will execute if the loop completes without a break\n"
   ]
  },
  {
   "cell_type": "markdown",
   "metadata": {},
   "source": [
    "Lets change the above list to include the search value 6 and see how the output changes.  \n",
    "Same code, but with a different list, which includes the search value."
   ]
  },
  {
   "cell_type": "code",
   "execution_count": null,
   "metadata": {},
   "outputs": [],
   "source": [
    "# Practical example: Searching in a list\n",
    "print(\"Practical example: Searching for a value\")\n",
    "numbers = [1, 3, 5, 6, 7, 9]\n",
    "search_value = 6\n",
    "\n",
    "for num in numbers:\n",
    "    if num == search_value:\n",
    "        print(f\"Found {search_value}!\")\n",
    "        break\n",
    "    print(f\"Checking {num}...\")\n",
    "else:\n",
    "    print(f\"{search_value} not found in the list\") # this will execute if the loop completes without a break"
   ]
  },
  {
   "cell_type": "markdown",
   "metadata": {},
   "source": [
    "[Back to Top](#Outline)"
   ]
  },
  {
   "cell_type": "markdown",
   "metadata": {},
   "source": [
    "## 3.4 Loop Control Statements"
   ]
  },
  {
   "cell_type": "markdown",
   "metadata": {},
   "source": [
    "Loop control statements: continue, break, pass"
   ]
  },
  {
   "cell_type": "markdown",
   "metadata": {},
   "source": [
    "These applies to for loops and while loops."
   ]
  },
  {
   "cell_type": "markdown",
   "metadata": {},
   "source": [
    "##### Example: continue"
   ]
  },
  {
   "cell_type": "markdown",
   "metadata": {},
   "source": [
    "The `continue` statement is used to skip the rest of the current iteration and move to the next iteration of the loop.  \n",
    "It is often used when a certain condition is met, and you want to skip the rest of the loop body for that iteration.  \n",
    "In this example, we will skip the iteration when i is divisible by 3."
   ]
  },
  {
   "cell_type": "code",
   "execution_count": null,
   "metadata": {},
   "outputs": [],
   "source": [
    "print(\"Example: continue\")\n",
    "for i in range(1, 22):\n",
    "    if i%3 == 0: # Check if i is divisible by 3\n",
    "        print(\"Skipping number divisible by 3\")  # Inform that we're skipping this iteration\n",
    "        continue  # Skip the rest of the loop body when i is divisible by 3\n",
    "    print(f\"i = {i}\")  # This line is skipped when i is divisible by 3, but executed for other values of i"
   ]
  },
  {
   "cell_type": "markdown",
   "metadata": {},
   "source": [
    "[Back to Top](#Outline)"
   ]
  },
  {
   "cell_type": "markdown",
   "metadata": {},
   "source": [
    "##### Example: break"
   ]
  },
  {
   "cell_type": "markdown",
   "metadata": {},
   "source": [
    "The `break` statement is used to exit a loop prematurely when a certain condition is met.  \n",
    "It is often used when you want to stop the loop based on a specific condition.  \n",
    "In this example, we will skip the iteration when i is 4."
   ]
  },
  {
   "cell_type": "code",
   "execution_count": null,
   "metadata": {},
   "outputs": [],
   "source": [
    "print(\"\\nExample: break\")\n",
    "for i in range(1, 6):\n",
    "    if i == 4:\n",
    "        print(\"Breaking at 4\")  # Inform that we're about to break\n",
    "        print(\"Exiting the loop\")\n",
    "        break  # Exit the loop when i == 4\n",
    "    print(f\"i = {i}\")  # This line is not executed when i == 4\n",
    "\n",
    "# Normally, if we were to run this loop without the break statement, it would continue until it prints all values from 1 to 5.\n",
    "# But with the break statement, it stops at 4 and exits the loop."
   ]
  },
  {
   "cell_type": "markdown",
   "metadata": {},
   "source": [
    "[Back to Top](#Outline)"
   ]
  },
  {
   "cell_type": "markdown",
   "metadata": {},
   "source": [
    "##### Example: pass"
   ]
  },
  {
   "cell_type": "markdown",
   "metadata": {},
   "source": [
    "The `pass` statement is a null operation; it does nothing when executed.  \n",
    "It is often used as a placeholder in loops, functions, or classes where code will be added later.  \n",
    "In this example, we will skip the iteration when i is 3."
   ]
  },
  {
   "cell_type": "code",
   "execution_count": null,
   "metadata": {},
   "outputs": [],
   "source": [
    "for i in range(0, 6):\n",
    "    if i == 3:\n",
    "        # Doing nothing for this iteration\n",
    "        pass  # This does nothing, just a placeholder\n",
    "    else:\n",
    "        print(f\"i = {i}\")  # This line is executed for all other values of i\n",
    "\n",
    "# Here we don't have any output for i == 3, but the loop continues for other values."
   ]
  },
  {
   "cell_type": "markdown",
   "metadata": {},
   "source": [
    "[Back to Top](#Outline)"
   ]
  },
  {
   "cell_type": "markdown",
   "metadata": {},
   "source": [
    "## 3.5 range(), enumerate() and zip() Functions"
   ]
  },
  {
   "cell_type": "markdown",
   "metadata": {},
   "source": [
    "A small intro to functions that helps with loops"
   ]
  },
  {
   "cell_type": "markdown",
   "metadata": {},
   "source": [
    "### Range Function"
   ]
  },
  {
   "cell_type": "markdown",
   "metadata": {},
   "source": [
    "Using `range()` with for loops (works the same with while loops).  \n"
   ]
  },
  {
   "cell_type": "markdown",
   "metadata": {},
   "source": [
    "The `range()` function generates a sequence of numbers.  \n",
    "It can take up to three arguments: `range(start, stop, step)`.  \n",
    "The first argument is the starting number (inclusive),  \n",
    "the second is the stopping number (exclusive),  \n",
    "and the third is the step size (default is 1)."
   ]
  },
  {
   "cell_type": "markdown",
   "metadata": {},
   "source": [
    "```py\n",
    "help(range)\n",
    "\n",
    "Help on class range in module builtins:  \n",
    "\n",
    "class range(object)  \n",
    " |  range(stop) -> range object  \n",
    " |  range(start, stop[, step]) -> range object  \n",
    " |\n",
    " |  Return an object that produces a sequence of integers from start (inclusive)  \n",
    " |  to stop (exclusive) by step.  range(i, j) produces i, i+1, i+2, ..., j-1.  \n",
    " |  start defaults to 0, and stop is omitted!  range(4) produces 0, 1, 2, 3.  \n",
    " |  These are exactly the valid indices for a list of 4 elements.  \n",
    " |  When step is given, it specifies the increment (or decrement).\n",
    " ```"
   ]
  },
  {
   "cell_type": "code",
   "execution_count": null,
   "metadata": {},
   "outputs": [],
   "source": [
    "# 1. range(stop): Generates numbers from 0 to stop-1.\n",
    "for i in range(5):  # Generates numbers from 0 to 4\n",
    "    print(i)"
   ]
  },
  {
   "cell_type": "code",
   "execution_count": null,
   "metadata": {},
   "outputs": [],
   "source": [
    "# 2. range(start, stop): Generates numbers from start to stop-1.\n",
    "for i in range(1, 5):  # Generates numbers from 1 to 4\n",
    "    print(i)"
   ]
  },
  {
   "cell_type": "code",
   "execution_count": null,
   "metadata": {},
   "outputs": [],
   "source": [
    "# 3. range(start, stop, step): Generates numbers from start to stop-1, incrementing by step.\n",
    "for i in range(1, 10, 2):  # Generates odd numbers from 1 to 9\n",
    "    print(i)"
   ]
  },
  {
   "cell_type": "code",
   "execution_count": null,
   "metadata": {},
   "outputs": [],
   "source": [
    "# 4. range with negative step: Generates numbers in reverse order.\n",
    "for i in range(10, 0, -2):  # Generates even numbers from 10 to 2\n",
    "    print(i)"
   ]
  },
  {
   "cell_type": "code",
   "execution_count": null,
   "metadata": {},
   "outputs": [],
   "source": [
    "# Separating even and odd numbers\n",
    "x1 = []\n",
    "x2 = []\n",
    "for num in range(20): # range gives you 20 elements, from 0 to 19. think of range(0,20,1)\n",
    "    if num % 2 == 0:\n",
    "        x1.append(num)\n",
    "    else:\n",
    "        x2.append(num)\n",
    "\n",
    "print(x1)\n",
    "print(x2)"
   ]
  },
  {
   "cell_type": "markdown",
   "metadata": {},
   "source": [
    "[Back to Top](#Outline)"
   ]
  },
  {
   "cell_type": "markdown",
   "metadata": {},
   "source": [
    "### Enumerate Function"
   ]
  },
  {
   "cell_type": "markdown",
   "metadata": {},
   "source": [
    "Using `enumerate()` with for loops (works the same with while loops)"
   ]
  },
  {
   "cell_type": "markdown",
   "metadata": {},
   "source": [
    "The `enumerate()` function adds a counter (index) to an iterable and returns it as an enumerate object.  \n",
    "This is more efficient and readable than using `range(len())`.  \n",
    "It allows you to loop through both the index and the value of the items in a list or any iterable."
   ]
  },
  {
   "cell_type": "markdown",
   "metadata": {},
   "source": [
    "```python\n",
    "help(enumerate)\n",
    "\n",
    "Help on class enumerate in module builtins:\n",
    "\n",
    "class enumerate(object)\n",
    " |  enumerate(iterable, start=0)\n",
    " |\n",
    " |  Return an enumerate object.\n",
    " |\n",
    " |    iterable\n",
    " |      an object supporting iteration\n",
    " |\n",
    " |  The enumerate object yields pairs containing a count (from start, which\n",
    " |  defaults to zero) and a value yielded by the iterable argument.\n",
    " |\n",
    " |  enumerate is useful for obtaining an indexed list:\n",
    " |      (0, seq[0]), (1, seq[1]), (2, seq[2]), ...\n",
    "```"
   ]
  },
  {
   "cell_type": "code",
   "execution_count": null,
   "metadata": {},
   "outputs": [],
   "source": [
    "# Example of using enumerate with a list\n",
    "for index, value in enumerate([\"yo\", \"patate\", \"cheese\"]):\n",
    "# This will print the index and value of each item in the list\n",
    "    print(f\"Index: {index}, Value: {value}\") # quick reminder to use f-string, to format the output nicely"
   ]
  },
  {
   "cell_type": "code",
   "execution_count": null,
   "metadata": {},
   "outputs": [],
   "source": [
    "# Example of using enumerate with a string\n",
    "for index, char in enumerate(\"Hello\"):\n",
    "# This will print the index and character of each character in the string\n",
    "    print(f\"Index: {index}, Character: {char}\") "
   ]
  },
  {
   "cell_type": "code",
   "execution_count": null,
   "metadata": {},
   "outputs": [],
   "source": [
    "# Example of using enumerate with a tuple\n",
    "for index, item in enumerate((1, 2, 3)):\n",
    "# This will print the index and item of each item in the tuple\n",
    "    print(f\"Index: {index}, Item: {item}\")"
   ]
  },
  {
   "cell_type": "code",
   "execution_count": null,
   "metadata": {},
   "outputs": [],
   "source": [
    "\n",
    "# Example of using enumerate with a dictionary\n",
    "for index, (key, value) in enumerate({\"a\": 1, \"b\": 2}.items()):\n",
    "# This will print the index, key, and value of each key-value pair in the dictionary\n",
    "    print(f\"Index: {index}, Key: {key}, Value: {value}\")"
   ]
  },
  {
   "cell_type": "code",
   "execution_count": null,
   "metadata": {},
   "outputs": [],
   "source": [
    "# Example of using enumerate with a set\n",
    "for index, item in enumerate({1, 2, 3}):\n",
    "# This will print the index and item of each item in the set\n",
    "    print(f\"Index: {index}, Item: {item}\")"
   ]
  },
  {
   "cell_type": "markdown",
   "metadata": {},
   "source": [
    "[Back to Top](#Outline)"
   ]
  },
  {
   "cell_type": "markdown",
   "metadata": {},
   "source": [
    "### Zip Function"
   ]
  },
  {
   "cell_type": "markdown",
   "metadata": {},
   "source": [
    "Using `zip()` with for loops (works the same with while loops)"
   ]
  },
  {
   "cell_type": "markdown",
   "metadata": {},
   "source": [
    "The `zip()` function pairs corresponding elements (using the index) from multiple iterables.  \n",
    "It stops when the shortest iterable is exhausted."
   ]
  },
  {
   "cell_type": "markdown",
   "metadata": {},
   "source": [
    "```python\n",
    "help(zip)\n",
    "\n",
    "Help on class zip in module builtins:\n",
    "\n",
    "class zip(object)\n",
    " |  zip(*iterables, strict=False)\n",
    " |\n",
    " |  The zip object yields n-length tuples, where n is the number of iterables\n",
    " |  passed as positional arguments to zip().  The i-th element in every tuple\n",
    " |  comes from the i-th iterable argument to zip().  This continues until the\n",
    " |  shortest argument is exhausted.\n",
    " |\n",
    " |  If strict is true and one of the arguments is exhausted before the others,\n",
    " |  raise a ValueError.\n",
    " |\n",
    " |     >>> list(zip('abcdefg', range(3), range(4)))\n",
    " |     [('a', 0, 0), ('b', 1, 1), ('c', 2, 2)]\n",
    "```"
   ]
  },
  {
   "cell_type": "code",
   "execution_count": null,
   "metadata": {},
   "outputs": [],
   "source": [
    "# The zip() function pairs corresponding elements from multiple iterables\n",
    "names = ['Alice', 'Bob', 'Charlie']\n",
    "ages = [25, 30, 35]"
   ]
  },
  {
   "cell_type": "code",
   "execution_count": null,
   "metadata": {},
   "outputs": [],
   "source": [
    "# Using zip() in a for loop\n",
    "for zipped in zip(names, ages):\n",
    "    print(f\"{zipped}\")\n"
   ]
  },
  {
   "cell_type": "code",
   "execution_count": null,
   "metadata": {},
   "outputs": [],
   "source": [
    "# Converting zip object to list to see the pairs\n",
    "zipped = zip(names, ages)\n",
    "result = list(zipped)  # Convert the zip object to a list\n",
    "print(list(result))"
   ]
  },
  {
   "cell_type": "code",
   "execution_count": null,
   "metadata": {},
   "outputs": [],
   "source": [
    "# zip() stops when the shortest iterable is exhausted\n",
    "list1 = [1, 2, 3, 4, 5, 6, 7, 8, 9]\n",
    "list2 = [\"a\", \"b\", \"c\", \"d\", \"e\"]\n",
    "result = list(zip(list1, list2))\n",
    "print(result)"
   ]
  },
  {
   "cell_type": "code",
   "execution_count": null,
   "metadata": {},
   "outputs": [],
   "source": [
    "# Using zip() with three lists\n",
    "colors = [\"red\", \"green\", \"blue\"]\n",
    "numbers = [1, 2, 3]\n",
    "letters = [\"a\", \"b\", \"c\"]"
   ]
  },
  {
   "cell_type": "code",
   "execution_count": null,
   "metadata": {},
   "outputs": [],
   "source": [
    "for color, number, letter in zip(colors, numbers, letters):\n",
    "    print(f\"{color}-{number}-{letter}\")"
   ]
  },
  {
   "cell_type": "markdown",
   "metadata": {},
   "source": [
    "[Back to Top](#Outline)"
   ]
  },
  {
   "cell_type": "markdown",
   "metadata": {},
   "source": [
    "## 3.6 Exception Handling (the basics)"
   ]
  },
  {
   "cell_type": "markdown",
   "metadata": {},
   "source": [
    "Exceptions are errors that occur during program execution.  \n",
    "They can crash your program if not handled properly.  \n",
    "Python provides a way to \"catch\" and handle these errors gracefully."
   ]
  },
  {
   "cell_type": "code",
   "execution_count": null,
   "metadata": {},
   "outputs": [],
   "source": [
    "# Basic try-except structure\n",
    "try:\n",
    "    number = int(input(\"Enter a number: \"))\n",
    "    result = 10 / number\n",
    "    print(f\"Result: {result}\")\n",
    "except ValueError:\n",
    "    print(\"Error: Please enter a valid number!\")\n",
    "except ZeroDivisionError:\n",
    "    print(\"Error: Cannot divide by zero!\")"
   ]
  },
  {
   "cell_type": "code",
   "execution_count": null,
   "metadata": {},
   "outputs": [],
   "source": [
    "# More practical examples\n",
    "def safe_divide(a, b):\n",
    "    try:\n",
    "        return a / b\n",
    "    except ZeroDivisionError:\n",
    "        print(\"Cannot divide by zero!\")\n",
    "        return None\n",
    "    except TypeError:\n",
    "        print(\"Both arguments must be numbers!\")\n",
    "        return None\n",
    "\n",
    "print(safe_divide(10, 2))   # Output: 5.0\n",
    "print(safe_divide(10, 0))   # Output: Cannot divide by zero!\n",
    "print(safe_divide(10, \"a\")) # Output: Both arguments must be numbers!"
   ]
  },
  {
   "cell_type": "code",
   "execution_count": null,
   "metadata": {},
   "outputs": [],
   "source": [
    "# Common Exception Types\n",
    "common_exceptions = {\n",
    "    \"ValueError\": \"Invalid value for operation (e.g., int('abc'))\",\n",
    "    \"TypeError\": \"Wrong data type (e.g., 'hello' + 5)\",\n",
    "    \"KeyError\": \"Dictionary key doesn't exist\",\n",
    "    \"IndexError\": \"List index out of range\",\n",
    "    \"FileNotFoundError\": \"File doesn't exist\",\n",
    "    \"ZeroDivisionError\": \"Division by zero\"\n",
    "}\n",
    "\n",
    "print(\"Common Exception Types:\")\n",
    "for exc, desc in common_exceptions.items():\n",
    "    print(f\"{exc}: {desc}\")"
   ]
  },
  {
   "cell_type": "code",
   "execution_count": null,
   "metadata": {},
   "outputs": [],
   "source": [
    "# Using finally block\n",
    "def read_file_example():\n",
    "    file = None\n",
    "    try:\n",
    "        file = open(\"example.txt\", \"r\")\n",
    "        content = file.read()\n",
    "        print(content)\n",
    "    except FileNotFoundError:\n",
    "        print(\"File not found!\")\n",
    "    finally:\n",
    "        if file:\n",
    "            file.close()\n",
    "            print(\"File closed successfully\")\n",
    "        print(\"This always runs, regardless of errors\")\n",
    "\n",
    "read_file_example()"
   ]
  },
  {
   "cell_type": "markdown",
   "metadata": {},
   "source": [
    "[Back to Top](#Outline)"
   ]
  },
  {
   "cell_type": "markdown",
   "metadata": {},
   "source": [
    "## 3.7 Summary of flow control"
   ]
  },
  {
   "cell_type": "code",
   "execution_count": null,
   "metadata": {},
   "outputs": [],
   "source": [
    "# Summary of flow control\n",
    "flow_control = {\n",
    "    \"if\": \"Used to execute a block of code if a condition is true.\",\n",
    "    \"elif\": \"Used to check multiple conditions after an if statement.\",\n",
    "    \"else\": \"Used to execute a block of code if all previous conditions are false.\",\n",
    "    \"for\": \"Used to iterate over a sequence (like a list or string).\",\n",
    "    \"while\": \"Used to repeat a block of code as long as a condition is true.\",\n",
    "    \"break\": \"Used to exit a loop prematurely.\",\n",
    "    \"continue\": \"Used to skip the current iteration of a loop and continue with the next one.\",\n",
    "    \"pass\": \"A null operation placeholder that does nothing when executed.\",\n",
    "    \"for-else\": \"Else block that executes when for loop completes normally (without break).\",\n",
    "    \"while-else\": \"Else block that executes when while loop completes normally (without break).\",\n",
    "    \"try\": \"Used to wrap code that might raise an exception.\",\n",
    "    \"except\": \"Used to handle specific exceptions that occur in try block.\",\n",
    "    \"finally\": \"Code block that always executes, regardless of exceptions.\",\n",
    "    \"range()\": \"Function that generates a sequence of numbers for iteration.\",\n",
    "    \"enumerate()\": \"Function that returns index-value pairs when iterating over sequences.\"\n",
    "}\n",
    "\n",
    "print(\"\\nFlow Control Summary:\")\n",
    "for fc, description in flow_control.items():\n",
    "    print(f\"{fc}: {description}\")\n",
    "\n",
    "# This concludes the basic introduction to Python flow control.\n",
    "# We have covered conditional statements, loops, control flow statements, and exception handling.\n",
    "\n",
    "# Next, Functions!"
   ]
  },
  {
   "cell_type": "markdown",
   "metadata": {},
   "source": [
    "[Back to Top](#Outline)"
   ]
  },
  {
   "cell_type": "markdown",
   "metadata": {},
   "source": [
    "# 4. Functions"
   ]
  },
  {
   "cell_type": "markdown",
   "metadata": {},
   "source": [
    "Functions are reusable blocks of code that perform a specific task.  \n",
    "They can take inputs (parameters) and return outputs (return values).  \n",
    "Functions are defined using the `def` keyword, followed by the function name and parentheses.  \n",
    "The body of the function is indented below the definition."
   ]
  },
  {
   "cell_type": "markdown",
   "metadata": {},
   "source": [
    "> **note**: Don't forget, docstrings are used to document functions, classes, and modules."
   ]
  },
  {
   "cell_type": "markdown",
   "metadata": {},
   "source": [
    "## 4.1 Defining and Calling Functions"
   ]
  },
  {
   "cell_type": "code",
   "execution_count": null,
   "metadata": {},
   "outputs": [],
   "source": [
    "# Simple function definition, docstring, and print statement\n",
    "def greet():\n",
    "    \"\"\"\n",
    "    This function greets the person with the given name.\n",
    "    \"\"\"\n",
    "    print(f\"Hello, world!\")"
   ]
  },
  {
   "cell_type": "code",
   "execution_count": null,
   "metadata": {},
   "outputs": [],
   "source": [
    "# Calling the function\n",
    "greet()"
   ]
  },
  {
   "cell_type": "code",
   "execution_count": null,
   "metadata": {},
   "outputs": [],
   "source": [
    "# Show the function's docstring\n",
    "print(greet.__doc__)"
   ]
  },
  {
   "cell_type": "code",
   "execution_count": null,
   "metadata": {},
   "outputs": [],
   "source": [
    "# Display help information for the function\n",
    "help(greet)"
   ]
  },
  {
   "cell_type": "markdown",
   "metadata": {},
   "source": [
    "[Back to Top](#Outline)"
   ]
  },
  {
   "cell_type": "markdown",
   "metadata": {},
   "source": [
    "## 4.2 Parameters and Arguments"
   ]
  },
  {
   "cell_type": "code",
   "execution_count": null,
   "metadata": {},
   "outputs": [],
   "source": [
    "# basic function with parameters\n",
    "def greet(name):\n",
    "    \"\"\"\n",
    "    This function greets the person with the given name.\n",
    "    :param name: The name of the person to greet.\n",
    "    \"\"\"\n",
    "    print(f\"Hello, {name}!\")"
   ]
  },
  {
   "cell_type": "code",
   "execution_count": null,
   "metadata": {},
   "outputs": [],
   "source": [
    "# Calling the function with an argument\n",
    "greet(\"Alice\")"
   ]
  },
  {
   "cell_type": "code",
   "execution_count": null,
   "metadata": {},
   "outputs": [],
   "source": [
    "# Calling the function without an argument (will raise an error)\n",
    "# Running this line will raise a TypeError, this is expected behavior\n",
    "greet()"
   ]
  },
  {
   "cell_type": "markdown",
   "metadata": {},
   "source": [
    "### Default parameters"
   ]
  },
  {
   "cell_type": "markdown",
   "metadata": {},
   "source": [
    "Default parameters are used to provide a value for a parameter if no argument is passed when calling the function.  \n",
    "This is useful for creating functions that can be called with or without certain arguments."
   ]
  },
  {
   "cell_type": "code",
   "execution_count": null,
   "metadata": {},
   "outputs": [],
   "source": [
    "# Let's upgrade our greet function to have a default parameter\n",
    "def greet(name=\"World\"):\n",
    "    print(f\"Hello, {name}!\")"
   ]
  },
  {
   "cell_type": "code",
   "execution_count": null,
   "metadata": {},
   "outputs": [],
   "source": [
    "# Calling the function with an argument\n",
    "greet(\"Alice\")"
   ]
  },
  {
   "cell_type": "code",
   "execution_count": null,
   "metadata": {},
   "outputs": [],
   "source": [
    "# Calling the function without an argument\n",
    "# This will use the default value \"World\" and will not raise an error\n",
    "greet()"
   ]
  },
  {
   "cell_type": "markdown",
   "metadata": {},
   "source": [
    "[Back to Top](#Outline)"
   ]
  },
  {
   "cell_type": "markdown",
   "metadata": {},
   "source": [
    "## 4.3 Return Statements"
   ]
  },
  {
   "cell_type": "code",
   "execution_count": null,
   "metadata": {},
   "outputs": [],
   "source": [
    "# Return statements\n",
    "def add(x, y):\n",
    "    return x + y\n",
    "\n",
    "result = add(3, 5) # Calling the function and storing the result\n",
    "print(result) \n",
    "\n",
    "# The return statement allows a function to send back a value to the caller.\n",
    "# It ends the function execution and sends the specified value back to where the function was called."
   ]
  },
  {
   "cell_type": "markdown",
   "metadata": {},
   "source": [
    "[Back to Top](#Outline)"
   ]
  },
  {
   "cell_type": "markdown",
   "metadata": {},
   "source": [
    "## 4.4 Lambda Function"
   ]
  },
  {
   "cell_type": "code",
   "execution_count": null,
   "metadata": {},
   "outputs": [],
   "source": [
    "# Lambda functions\n",
    "add_lambda = lambda x, y: x + y  # A simple lambda function to add two numbers\n",
    "print(add_lambda(3, 5))  # Calling the lambda function\n",
    "\n",
    "# A lambda function is an anonymous function defined with the `lambda` keyword.\n",
    "# It can take any number of arguments but can only have one expression.\n",
    "# Lambda functions are often used for short, throwaway functions that are not needed elsewhere in the code.\n",
    "# It's a concise way to define small functions without formally defining them using the `def` keyword.\n",
    "# It's a slick one-liner just like list comprehensions.\n"
   ]
  },
  {
   "cell_type": "markdown",
   "metadata": {},
   "source": [
    "[Back to Top](#Outline)"
   ]
  },
  {
   "cell_type": "markdown",
   "metadata": {},
   "source": [
    "## 4.5 Summary of Functions"
   ]
  },
  {
   "cell_type": "code",
   "execution_count": null,
   "metadata": {},
   "outputs": [],
   "source": [
    "functions_summary = {\n",
    "    \"Function Definition\": \"Use 'def' keyword to define a function followed by name and parentheses.\",\n",
    "    \"Function Call\": \"Call a function by its name followed by parentheses with arguments if needed.\",\n",
    "    \"Parameters\": \"Functions can take parameters to accept input values when called.\",\n",
    "    \"Arguments\": \"Values passed to functions when calling them, can be positional or keyword arguments.\",\n",
    "    \"Default Parameters\": \"Parameters with default values that are used if no argument is provided.\",\n",
    "    \"Return Statement\": \"Use 'return' to send back a value from a function and end execution.\",\n",
    "    \"None Return\": \"Functions without explicit return statement automatically return None.\",\n",
    "    \"Docstrings\": \"Triple-quoted strings that document what a function does, accessible via help().\",\n",
    "    \"Lambda Functions\": \"Anonymous functions defined with 'lambda', useful for short, simple operations.\",\n",
    "    \"Code Reusability\": \"Functions allow writing code once and using it multiple times throughout a program.\"\n",
    "}\n",
    "\n",
    "print(\"\\nFunctions Summary:\")\n",
    "for key, value in functions_summary.items():\n",
    "    print(f\"{key}: {value}\")\n",
    "\n",
    "# This concludes the basic introduction to Python functions.\n",
    "# We have covered defining functions, calling them, parameters, return statements, docstrings, and lambda functions.\n",
    "\n",
    "# Next, Object-Oriented Programming (OOP)!"
   ]
  },
  {
   "cell_type": "markdown",
   "metadata": {},
   "source": [
    "[Back to Top](#Outline)"
   ]
  },
  {
   "cell_type": "markdown",
   "metadata": {},
   "source": [
    "# 5. Introduction to OOP"
   ]
  },
  {
   "cell_type": "markdown",
   "metadata": {},
   "source": [
    "### (Object Oriented Programming)"
   ]
  },
  {
   "cell_type": "markdown",
   "metadata": {},
   "source": [
    "what is OOP?  \n",
    "\n",
    "Object-Oriented Programming (OOP) is a programming paradigm that uses \"objects\" to represent data and methods.  \n",
    "Objects are instances of classes, which can contain both data (attributes) and functions (methods).  \n",
    "OOP allows for encapsulation, inheritance, and polymorphism, making code more modular and reusable."
   ]
  },
  {
   "cell_type": "markdown",
   "metadata": {},
   "source": [
    "## 5.1 Classes and Objects"
   ]
  },
  {
   "cell_type": "code",
   "execution_count": null,
   "metadata": {},
   "outputs": [],
   "source": [
    "# Classes and objects\n",
    "\n",
    "class Dog:\n",
    "    def __init__(self, name, breed):\n",
    "        self.name = name\n",
    "        self.breed = breed\n",
    "\n",
    "    def bark(self):\n",
    "        return f\"{self.name} the {self.breed} is barking.\""
   ]
  },
  {
   "cell_type": "markdown",
   "metadata": {},
   "source": [
    "[Back to Top](#Outline)"
   ]
  },
  {
   "cell_type": "markdown",
   "metadata": {},
   "source": [
    "## 5.2 The \\_\\_init\\_\\_ method constructor"
   ]
  },
  {
   "cell_type": "code",
   "execution_count": null,
   "metadata": {},
   "outputs": [],
   "source": [
    "# The __init__ method is a special method called a constructor.\n",
    "# It is automatically called when an object of the class is created.\n",
    "# It initializes the object's attributes with the provided values.\n",
    "\n",
    "# Creating objects aka instantiation, using the __init__ method in the background\n",
    "dog1 = Dog(\"Fido\", \"Labrador\") # creating an instance of the Dog class\n",
    "dog2 = Dog(\"Buddy\", \"Golden Retriever\")\n",
    "\n",
    "print(dog1.bark())\n",
    "print(dog2.bark())"
   ]
  },
  {
   "cell_type": "markdown",
   "metadata": {},
   "source": [
    "[Back to Top](#Outline)"
   ]
  },
  {
   "cell_type": "markdown",
   "metadata": {},
   "source": [
    "## 5.3 Attributes and Methods"
   ]
  },
  {
   "cell_type": "code",
   "execution_count": null,
   "metadata": {},
   "outputs": [],
   "source": [
    "# Attributes are variables that belong to an object, while methods are functions that belong to an object.\n",
    "# In the Dog class, name and breed are attributes, while bark is a method.\n",
    "\n",
    "class Rectangle:\n",
    "    def __init__(self, width, height):\n",
    "        self.width = width\n",
    "        self.height = height\n",
    "\n",
    "    def area(self):\n",
    "        return self.width * self.height\n",
    "    \n",
    "    def perimeter(self):\n",
    "        return 2 * (self.width + self.height)\n",
    "\n",
    "# The Rectangle class has two attributes: width and height, and two methods: area and perimeter.\n",
    "# The area method calculates the area of the rectangle, while the perimeter method calculates the perimeter.\n",
    "# The __init__ method initializes the width and height attributes when a Rectangle object is created.\n",
    "# The area and perimeter methods can be called on the Rectangle objects to get the respective values.\n",
    "\n",
    "# Creating objects from the Rectangle class\n",
    "rect1 = Rectangle(5, 8)\n",
    "rect2 = Rectangle(4, 7)\n",
    "\n",
    "# Calculating and printing the areas of the rectangles\n",
    "print(\"Area of Rectangle 1:\", rect1.area())  # Output: Area of Rectangle 1: 40\n",
    "print(\"Area of Rectangle 2:\", rect2.area())  # Output: Area of Rectangle 2: 28\n",
    "\n",
    "# Calculating and printing the perimeters of the rectangles\n",
    "print(\"Perimeter of Rectangle 1:\", rect1.perimeter())  # Output: Perimeter of Rectangle 1: 26\n",
    "print(\"Perimeter of Rectangle 2:\", rect2.perimeter())  # Output: Perimeter of Rectangle 2: 22\n"
   ]
  },
  {
   "cell_type": "code",
   "execution_count": null,
   "metadata": {},
   "outputs": [],
   "source": [
    "# more Attributes and methods examples\n",
    "\n",
    "class Circle:\n",
    "    def __init__(self, radius):\n",
    "        self.radius = radius\n",
    "\n",
    "    def area(self):\n",
    "        return 3.14 * self.radius * self.radius\n",
    "\n",
    "    def circumference(self):\n",
    "        return 2 * 3.14 * self.radius\n",
    "    \n",
    "\n",
    "# Creating a Circle object\n",
    "circle = Circle(5)\n",
    "\n",
    "# Accessing attributes and calling methods\n",
    "print(\"Radius of the circle:\", circle.radius)  # Output: Radius of the circle: 5\n",
    "print(\"Area of the circle:\", circle.area())  # Output: Area of the circle: 78.5\n",
    "print(\"Circumference of the circle:\", circle.circumference())  # Output: Circumference of the circle: 31.4"
   ]
  },
  {
   "cell_type": "markdown",
   "metadata": {},
   "source": [
    "[Back to Top](#Outline)"
   ]
  },
  {
   "cell_type": "markdown",
   "metadata": {},
   "source": [
    "## 5.4 Inheritance"
   ]
  },
  {
   "cell_type": "markdown",
   "metadata": {},
   "source": [
    "Inheritance is a fundamental concept in Object-Oriented Programming (OOP).  \n",
    "It allows a class to inherit attributes and methods from another class.  \n",
    "This promotes code reuse and establishes a relationship between classes.  \n",
    "For example, a class `Vehicle` can be a parent class, and classes like `Car` and `Bike` can inherit from it."
   ]
  },
  {
   "cell_type": "code",
   "execution_count": null,
   "metadata": {},
   "outputs": [],
   "source": [
    "class Vehicle:\n",
    "    def __init__(self, make, model):\n",
    "        self.make = make\n",
    "        self.model = model\n",
    "\n",
    "    def start(self):\n",
    "        return f\"{self.make} {self.model} is starting.\""
   ]
  },
  {
   "cell_type": "code",
   "execution_count": null,
   "metadata": {},
   "outputs": [],
   "source": [
    "class Car(Vehicle):\n",
    "    def __init__(self, make, model, num_doors):\n",
    "        super().__init__(make, model)  # Call the parent class constructor\n",
    "        self.num_doors = num_doors\n",
    "    def honk(self):\n",
    "        return f\"{self.make} {self.model} is honking.\""
   ]
  },
  {
   "cell_type": "code",
   "execution_count": null,
   "metadata": {},
   "outputs": [],
   "source": [
    "class Bike(Vehicle):\n",
    "    def __init__(self, make, model, type_of_bike):\n",
    "        super().__init__(make, model)  # Call the parent class constructor\n",
    "        self.type_of_bike = type_of_bike\n",
    "    def ring_bell(self):\n",
    "        return f\"{self.make} {self.model} is ringing the bell.\""
   ]
  },
  {
   "cell_type": "code",
   "execution_count": null,
   "metadata": {},
   "outputs": [],
   "source": [
    "# Creating objects of the Car and Bike classes\n",
    "car = Car(\"Toyota\", \"Camry\", 4) # Creating an instance of the Car class\n",
    "bike = Bike(\"Yamaha\", \"MT-07\", \"Sport\") # Creating an instance of the Bike class"
   ]
  },
  {
   "cell_type": "code",
   "execution_count": null,
   "metadata": {},
   "outputs": [],
   "source": [
    "# Accessing attributes and calling methods from the parent class\n",
    "print(car.start())  # Output: Toyota Camry is starting. Method from Vehicle class\n",
    "print(bike.start())  # Output: Yamaha MT-07 is starting. Method from Vehicle class"
   ]
  },
  {
   "cell_type": "code",
   "execution_count": null,
   "metadata": {},
   "outputs": [],
   "source": [
    "# Accessing attributes and calling methods from the child classes\n",
    "print(car.honk())  # Output: Toyota Camry is honking. Method from Car class\n",
    "print(bike.ring_bell())  # Output: Yamaha MT-07 is ringing the bell. Method from Bike class"
   ]
  },
  {
   "cell_type": "markdown",
   "metadata": {},
   "source": [
    "[Back to Top](#Outline)"
   ]
  },
  {
   "cell_type": "markdown",
   "metadata": {},
   "source": [
    "## 5.5 Encapsulation"
   ]
  },
  {
   "cell_type": "code",
   "execution_count": null,
   "metadata": {},
   "outputs": [],
   "source": [
    "# Encapsulation is a key principle of Object-Oriented Programming (OOP).\n",
    "# It restricts direct access to an object's attributes and methods, allowing controlled interaction through public methods.\n",
    "\n",
    "class BankAccount:\n",
    "    def __init__(self, account_number, balance=0):\n",
    "        self.__account_number = account_number  # Private attribute\n",
    "        self.__balance = balance  # Private attribute\n",
    "\n",
    "    def deposit(self, amount):\n",
    "        if amount > 0:\n",
    "            self.__balance += amount\n",
    "            print(f\"Deposited: {amount}. New balance: {self.__balance}\")\n",
    "        else:\n",
    "            print(\"Deposit amount must be positive.\")\n",
    "\n",
    "    def withdraw(self, amount):\n",
    "        if 0 < amount <= self.__balance:\n",
    "            self.__balance -= amount\n",
    "            print(f\"Withdrew: {amount}. New balance: {self.__balance}\")\n",
    "        else:\n",
    "            print(\"Insufficient funds or invalid withdrawal amount.\")\n",
    "\n",
    "    def get_balance(self):\n",
    "        return self.__balance  # Public method to access private attribute\n",
    "    \n",
    "    def get_account_number(self):\n",
    "        return self.__account_number\n"
   ]
  },
  {
   "cell_type": "markdown",
   "metadata": {},
   "source": [
    "The BankAccount class demonstrates encapsulation by using private attributes (__account_number and __balance).  \n",
    "It provides public methods (deposit, withdraw, get_balance, and get_account_number) to interact with these attributes.  \n",
    "This allows controlled access to the private attributes, ensuring that they cannot be modified directly from outside the class.  \n",
    "The deposit method allows adding money to the account, while the withdraw method allows taking money out of the account.  \n",
    "The get_balance method provides a way to check the current balance without allowing direct modification.  \n",
    "The get_account_number method allows access to the account number without exposing it directly to manipulation."
   ]
  },
  {
   "cell_type": "code",
   "execution_count": null,
   "metadata": {},
   "outputs": [],
   "source": [
    "# Creating a BankAccount object\n",
    "account = BankAccount(\"123456789\", 1000)  # Creating an instance of the BankAccount class"
   ]
  },
  {
   "cell_type": "code",
   "execution_count": null,
   "metadata": {},
   "outputs": [],
   "source": [
    "# Accessing the account balance using the public method\n",
    "# This is the recommended way to access private attributes\n",
    "# It allows controlled access to the private attribute __balance\n",
    "print(f\"Initial balance: {account.get_balance()}\")  # Output: Initial balance: 1000"
   ]
  },
  {
   "cell_type": "code",
   "execution_count": null,
   "metadata": {},
   "outputs": [],
   "source": [
    "# Depositing money into the account\n",
    "account.deposit(500)  # Output: Deposited: 500. New balance: 1500"
   ]
  },
  {
   "cell_type": "code",
   "execution_count": null,
   "metadata": {},
   "outputs": [],
   "source": [
    "# Withdrawing money from the account\n",
    "account.withdraw(200)  # Output: Withdrew: 200. New balance: 1300"
   ]
  },
  {
   "cell_type": "code",
   "execution_count": null,
   "metadata": {},
   "outputs": [],
   "source": [
    "# Attempting to access private attributes directly (not recommended)\n",
    "try:\n",
    "    print(account.__balance)  # This will raise an AttributeError\n",
    "except AttributeError as e:\n",
    "    print(f\"Error: {e}\")"
   ]
  },
  {
   "cell_type": "markdown",
   "metadata": {},
   "source": [
    "[Back to Top](#Outline)"
   ]
  },
  {
   "cell_type": "markdown",
   "metadata": {},
   "source": [
    "## 5.6 Polymorphism"
   ]
  },
  {
   "cell_type": "markdown",
   "metadata": {},
   "source": [
    "Polymorphism is a core concept in Object-Oriented Programming (OOP).  \n",
    "It allows objects of different classes to be treated as objects of a common superclass.  \n",
    "Polymorphism enables methods to be defined in a way that they can operate on objects of different types,  \n",
    "allowing for flexibility and code reuse."
   ]
  },
  {
   "cell_type": "code",
   "execution_count": null,
   "metadata": {},
   "outputs": [],
   "source": [
    "class Animal:\n",
    "    def speak(self):\n",
    "        raise NotImplementedError(\"Subclasses must implement this method\")  # Abstract method"
   ]
  },
  {
   "cell_type": "code",
   "execution_count": null,
   "metadata": {},
   "outputs": [],
   "source": [
    "class Dog(Animal):\n",
    "    def speak(self):\n",
    "        return \"Woof!\"  # Implementation of the speak method for Dog"
   ]
  },
  {
   "cell_type": "code",
   "execution_count": null,
   "metadata": {},
   "outputs": [],
   "source": [
    "class Cat(Animal):\n",
    "    def speak(self):\n",
    "        return \"Meow!\"  # Implementation of the speak method for Cat"
   ]
  },
  {
   "cell_type": "code",
   "execution_count": null,
   "metadata": {},
   "outputs": [],
   "source": [
    "class Cow(Animal):\n",
    "    def speak(self):\n",
    "        return \"Moo!\"  # Implementation of the speak method for Cow"
   ]
  },
  {
   "cell_type": "markdown",
   "metadata": {},
   "source": [
    "The Animal class is a base class with an abstract method speak.  \n",
    "The Dog, Cat, and Cow classes inherit from Animal and provide their own implementations of the speak method.  \n",
    "This allows us to treat all these classes as Animal objects and call the speak method on them."
   ]
  },
  {
   "cell_type": "code",
   "execution_count": null,
   "metadata": {},
   "outputs": [],
   "source": [
    "# Creating a list of Animal objects\n",
    "animals = [Dog(), Cat(), Cow()]  # List of different Animal objects"
   ]
  },
  {
   "cell_type": "code",
   "execution_count": null,
   "metadata": {},
   "outputs": [],
   "source": [
    "# Iterating through the list and calling the speak method on each Animal object\n",
    "for animal in animals:\n",
    "    print(animal.speak())  # Output: Woof!, Meow!, Moo!\n"
   ]
  },
  {
   "cell_type": "markdown",
   "metadata": {},
   "source": [
    "In this example, we have a base class Animal with an abstract method speak.  \n",
    "The Dog, Cat, and Cow classes inherit from Animal and implement the speak method.  \n",
    "This demonstrates polymorphism, as we can treat all these classes as Animal objects and call the speak method on them.  \n",
    "Polymorphism allows us to write code that can work with different types of objects,  \n",
    "making our code more flexible and reusable."
   ]
  },
  {
   "cell_type": "markdown",
   "metadata": {},
   "source": [
    "[Back to Top](#Outline)"
   ]
  },
  {
   "cell_type": "markdown",
   "metadata": {},
   "source": [
    "## 5.7 Composition"
   ]
  },
  {
   "cell_type": "markdown",
   "metadata": {},
   "source": [
    "Composition is a design principle in Object-Oriented Programming (OOP).  \n",
    "It allows a class to contain instances of other classes as attributes, creating a \"has-a\" relationship."
   ]
  },
  {
   "cell_type": "code",
   "execution_count": null,
   "metadata": {},
   "outputs": [],
   "source": [
    "class Engine:\n",
    "    def __init__(self, horsepower):\n",
    "        self.horsepower = horsepower\n",
    "\n",
    "    def start(self):\n",
    "        return f\"Engine with {self.horsepower} HP is starting.\""
   ]
  },
  {
   "cell_type": "code",
   "execution_count": null,
   "metadata": {},
   "outputs": [],
   "source": [
    "class Car:\n",
    "    def __init__(self, make, model, engine):\n",
    "        self.make = make\n",
    "        self.model = model\n",
    "        self.engine = engine  # Composition: Car has an Engine\n",
    "\n",
    "    def start(self):\n",
    "        return f\"{self.make} {self.model} is starting. {self.engine.start()}\""
   ]
  },
  {
   "cell_type": "markdown",
   "metadata": {},
   "source": [
    "The Car class has an instance of the Engine class as an attribute.  \n",
    "This demonstrates composition, where the Car \"has-a\" Engine."
   ]
  },
  {
   "cell_type": "code",
   "execution_count": null,
   "metadata": {},
   "outputs": [],
   "source": [
    "# Creating an Engine object\n",
    "engine = Engine(150)  # Creating an instance of the Engine class with 150 horsepower"
   ]
  },
  {
   "cell_type": "code",
   "execution_count": null,
   "metadata": {},
   "outputs": [],
   "source": [
    "# Creating a Car object with the Engine instance\n",
    "car = Car(\"Toyota\", \"Camry\", engine)  # Creating an instance of the Car class with the Engine instance"
   ]
  },
  {
   "cell_type": "code",
   "execution_count": null,
   "metadata": {},
   "outputs": [],
   "source": [
    "# Starting the car and its engine\n",
    "print(car.start())  # Output: Toyota Camry is starting. Engine with 150 HP is starting."
   ]
  },
  {
   "cell_type": "markdown",
   "metadata": {},
   "source": [
    "In this example, the Car class contains an instance of the Engine class as an attribute.  \n",
    "This allows the Car class to use the Engine's methods and attributes, demonstrating composition.  \n",
    "Composition allows for more flexible and modular code, as we can easily change the Engine class without affecting the Car class."
   ]
  },
  {
   "cell_type": "markdown",
   "metadata": {},
   "source": [
    "[Back to Top](#Outline)"
   ]
  },
  {
   "cell_type": "markdown",
   "metadata": {},
   "source": [
    "## 5.8 Magic Methods"
   ]
  },
  {
   "cell_type": "markdown",
   "metadata": {},
   "source": [
    "Magic methods, also known as dunder methods (double underscore methods),  \n",
    "are special methods in Python that allow you to define the behavior of objects for built-in operations.  \n",
    "They are prefixed and suffixed with double underscores (e.g., __init__, __str__, __add__).  \n",
    "Magic methods allow you to customize how objects behave with built-in functions and operators."
   ]
  },
  {
   "cell_type": "code",
   "execution_count": null,
   "metadata": {},
   "outputs": [],
   "source": [
    "class Point:\n",
    "    def __init__(self, x, y):\n",
    "        self.x = x\n",
    "        self.y = y\n",
    "\n",
    "    def __str__(self):\n",
    "        return f\"Point({self.x}, {self.y})\"  # String representation of the object\n",
    "\n",
    "    def __add__(self, other):\n",
    "        if isinstance(other, Point):\n",
    "            return Point(self.x + other.x, self.y + other.y)  # Adding two Point objects\n",
    "        return NotImplemented  # Return NotImplemented if the other object is not a Point"
   ]
  },
  {
   "cell_type": "markdown",
   "metadata": {},
   "source": [
    "The `__init__` method is the constructor that initializes the attributes of the Point object.  \n",
    "The `__str__` method defines how the object should be represented as a string when printed.  \n",
    "The `__add__` method allows you to use the + operator to add two Point objects together. Also called operator overloading.  \n",
    "Magic methods can be used to define the behavior of objects for various operations, such as addition, subtraction, string representation, and more."
   ]
  },
  {
   "cell_type": "code",
   "execution_count": null,
   "metadata": {},
   "outputs": [],
   "source": [
    "# Creating Point objects\n",
    "point1 = Point(2, 3)  # Creating an instance of the Point class with x=2 and y=3\n",
    "point2 = Point(4, 5)  # Creating another instance of the Point class with x=4 and y=5"
   ]
  },
  {
   "cell_type": "code",
   "execution_count": null,
   "metadata": {},
   "outputs": [],
   "source": [
    "# Printing the Point objects\n",
    "print(point1)  # Output: Point(2, 3)\n",
    "print(point2)  # Output: Point(4, 5)"
   ]
  },
  {
   "cell_type": "code",
   "execution_count": null,
   "metadata": {},
   "outputs": [],
   "source": [
    "# Adding two Point objects using the + operator\n",
    "point3 = point1 + point2  # This will call the __add__ method\n",
    "print(point3)  # Output: Point(6, 8) - the result of adding the two points\n"
   ]
  },
  {
   "cell_type": "markdown",
   "metadata": {},
   "source": [
    "[Back to Top](#Outline)"
   ]
  },
  {
   "cell_type": "markdown",
   "metadata": {},
   "source": [
    "## 5.9 Summary of OOP concepts"
   ]
  },
  {
   "cell_type": "code",
   "execution_count": null,
   "metadata": {},
   "outputs": [],
   "source": [
    "# Summary of OOP concepts\n",
    "oop_summary = {\n",
    "    \"Classes\": \"Blueprints for creating objects, defining attributes and methods using 'class' keyword.\",\n",
    "    \"Objects\": \"Instances of classes, representing specific data and behavior in memory.\",\n",
    "    \"__init__ Method\": \"Constructor method that initializes object attributes when object is created.\",\n",
    "    \"Attributes\": \"Variables that belong to an object, storing the object's state and data.\",\n",
    "    \"Methods\": \"Functions that belong to a class, defining what objects can do.\",\n",
    "    \"Encapsulation\": \"Restricting direct access to object's attributes using private variables (__attribute).\",\n",
    "    \"Inheritance\": \"Creating new classes based on existing ones using class Child(Parent) syntax.\",\n",
    "    \"super()\": \"Function to call parent class methods from child classes.\",\n",
    "    \"Polymorphism\": \"Using a common interface for different data types, enabling method overriding.\",\n",
    "    \"Composition\": \"Building complex objects by combining simpler ones, creating 'has-a' relationships.\",\n",
    "    \"@property\": \"Decorator that allows methods to be accessed like attributes with validation.\",\n",
    "    \"@staticmethod\": \"Decorator for methods that don't need access to self or cls.\",\n",
    "    \"@classmethod\": \"Decorator for methods that receive the class as first argument (cls).\",\n",
    "    \"Magic Methods\": \"Special dunder methods (__str__, __add__, etc.) that define object behavior.\"\n",
    "}\n",
    "\n",
    "print(\"\\nOOP Concepts Summary:\")\n",
    "for concept, description in oop_summary.items():\n",
    "    print(f\"{concept}: {description}\")\n",
    "\n",
    "# This concludes the basic introduction to Object-Oriented Programming (OOP) in Python.\n",
    "# We have covered classes, objects, encapsulation, inheritance, polymorphism, composition, and magic methods.\n",
    "\n",
    "# Next, Modules and Packages!"
   ]
  },
  {
   "cell_type": "markdown",
   "metadata": {},
   "source": [
    "[Back to Top](#Outline)"
   ]
  },
  {
   "cell_type": "markdown",
   "metadata": {},
   "source": [
    "# 6. Modules and Libraries"
   ]
  },
  {
   "cell_type": "markdown",
   "metadata": {},
   "source": [
    "## 6.1 Importing Modules"
   ]
  },
  {
   "cell_type": "markdown",
   "metadata": {},
   "source": [
    "Modules and packages are essential for organizing and reusing code in Python.  \n",
    "A module is a single file containing Python code,  \n",
    "while a package is a collection of modules organized in a directory hierarchy."
   ]
  },
  {
   "cell_type": "code",
   "execution_count": null,
   "metadata": {},
   "outputs": [],
   "source": [
    "import math  # Importing the built-in math module\n",
    "\n",
    "print(math.pi)  # Output: 3.141592653589793 (value of pi)"
   ]
  },
  {
   "cell_type": "code",
   "execution_count": null,
   "metadata": {},
   "outputs": [],
   "source": [
    "from math import sqrt  # Importing the sqrt function from the math module\n",
    "\n",
    "print(sqrt(16))  # Output: 4.0 (square root of 16)"
   ]
  },
  {
   "cell_type": "code",
   "execution_count": null,
   "metadata": {},
   "outputs": [],
   "source": [
    "from math import sin, cos  # Importing sin and cos functions from the math module\n",
    "\n",
    "print(sin(math.pi / 2))  # Output: 1.0 (sine of 90 degrees)"
   ]
  },
  {
   "cell_type": "code",
   "execution_count": null,
   "metadata": {},
   "outputs": [],
   "source": [
    "import random as rnd  # Importing the random module with an alias\n",
    "\n",
    "print(rnd.randint(1, 10))  # Output: Random integer between 1 and 10"
   ]
  },
  {
   "cell_type": "code",
   "execution_count": null,
   "metadata": {},
   "outputs": [],
   "source": [
    "from math import *  # Importing all functions from the math module\n",
    "\n",
    "# Note: Using 'from module import *' is not recommended as it can lead to naming conflicts."
   ]
  },
  {
   "cell_type": "markdown",
   "metadata": {},
   "source": [
    "[Back to Top](#Outline)"
   ]
  },
  {
   "cell_type": "markdown",
   "metadata": {},
   "source": [
    "## 6.2 Standard Libraries"
   ]
  },
  {
   "cell_type": "code",
   "execution_count": null,
   "metadata": {},
   "outputs": [],
   "source": [
    "import os  # Module for interacting with the operating system\n",
    "import sys  # Module for system-specific parameters and functions\n",
    "import datetime  # Module for working with dates and times\n",
    "\n",
    "# Using the os module to get the current working directory\n",
    "print(os.getcwd())  # Output: Current working directory path\n",
    "\n",
    "# Using the sys module to get the Python version\n",
    "print(sys.version)  # Output: Python version information\n",
    "\n",
    "# Using the datetime module to get the current date and time\n",
    "now = datetime.datetime.now()  # Getting the current date and time\n",
    "print(now)  # Output: Current date and time in the format YYYY-MM-DD HH:MM:SS.ssssss"
   ]
  },
  {
   "cell_type": "markdown",
   "metadata": {},
   "source": [
    "[Back to Top](#Outline)"
   ]
  },
  {
   "cell_type": "markdown",
   "metadata": {},
   "source": [
    "## 6.3 Custom Modules and Packages"
   ]
  },
  {
   "cell_type": "code",
   "execution_count": null,
   "metadata": {},
   "outputs": [],
   "source": [
    "# Using a custom module\n",
    "import my_module\n",
    "\n",
    "# Accessing functions and variables from the custom module\n",
    "my_module.my_function()\n",
    "print(my_module.my_variable)"
   ]
  },
  {
   "cell_type": "code",
   "execution_count": null,
   "metadata": {},
   "outputs": [],
   "source": [
    "# Example 7: Run terminal commands\n",
    "\n",
    "# execute these codes one after the other in your terminal without the docstring, spot the difference\n",
    "\"\"\"\n",
    "python main_script.py\n",
    "python my_module.py\n",
    "\n",
    "\"\"\" "
   ]
  },
  {
   "cell_type": "code",
   "execution_count": null,
   "metadata": {},
   "outputs": [],
   "source": [
    "# Creating a package\n",
    "# A package is a directory containing multiple modules and an __init__.py file.\n",
    "# The __init__.py file can be empty or contain initialization code for the package.\n",
    "\n",
    "# Example of a package structure:\n",
    "# my_package/\n",
    "# ├── __init__.py\n",
    "# ├── module1.py\n",
    "# └── module2.py"
   ]
  },
  {
   "cell_type": "code",
   "execution_count": null,
   "metadata": {},
   "outputs": [],
   "source": [
    "# To use a package, you can import it like this:\n",
    "from my_package import module1, module2\n",
    "\n",
    "# Assuming my_package/module1.py contains a function called my_function\n",
    "module1.hello()\n",
    "module2.greet() # Calling the greet function from module1 with no arguments\n",
    "\n",
    "# Importing a specific function from a module in a package\n",
    "from my_package.module1 import hello\n",
    "from my_package.module2 import greet\n",
    "hello()\n",
    "greet() # Calling the hello function from module1 with no arguments\n",
    "\n",
    "greet(\"Zed\")  # Calling the greet function from module2 with an argument"
   ]
  },
  {
   "cell_type": "markdown",
   "metadata": {},
   "source": [
    "[Back to Top](#Outline)"
   ]
  },
  {
   "cell_type": "markdown",
   "metadata": {},
   "source": [
    "## 6.4 Summary of Modules and Packages"
   ]
  },
  {
   "cell_type": "code",
   "execution_count": null,
   "metadata": {},
   "outputs": [],
   "source": [
    "# Summary of modules and packages\n",
    "modules_packages_summary = {\n",
    "    \"Modules\": \"Single files containing Python code, can be imported using 'import' statement.\",\n",
    "    \"Packages\": \"Directories containing multiple modules and an __init__.py file, allowing for organized code structure.\",\n",
    "    \"Standard Libraries\": \"Built-in modules like math, random, time, datetime, sys, os that come with Python installation.\",\n",
    "    \"Custom Modules\": \"User-created .py files containing functions, classes, and variables that can be imported.\",\n",
    "    \"Import Methods\": \"Various ways to import: 'import module', 'from module import function', 'import module as alias'.\",\n",
    "    \"__name__ == '__main__'\": \"Special condition that allows code to run only when file is executed directly, not when imported.\",\n",
    "    \"Package Structure\": \"Organized directory hierarchy with __init__.py files to create namespaced modules.\",\n",
    "    \"Aliasing\": \"Use 'import module_name as alias' to import a module with an alias for easier reference.\"\n",
    "}\n",
    "print(\"\\nModules and Packages Summary:\")\n",
    "for concept, description in modules_packages_summary.items():\n",
    "    print(f\"{concept}: {description}\")\n",
    "# This concludes the basic introduction to Python modules and packages.\n",
    "# We have covered importing modules, using built-in modules, \n",
    "# creating custom modules, and organizing code into packages."
   ]
  },
  {
   "cell_type": "markdown",
   "metadata": {},
   "source": [
    "[Back to Top](#Outline)"
   ]
  },
  {
   "cell_type": "markdown",
   "metadata": {},
   "source": [
    "## BONUS: Decorators"
   ]
  },
  {
   "cell_type": "markdown",
   "metadata": {},
   "source": [
    "### What is a Decorator?\n",
    "\n",
    "A decorator in Python is a special function that lets you add new behavior to an existing function or method, without changing its code.\n",
    "\n",
    "Decorators use the `@` symbol (called \"pie\" syntax) just above the function you want to decorate.  \n",
    "They are commonly used for code reuse, logging, access control, and more.\n",
    "\n",
    "How it works:  \n",
    "A decorator is a function that takes another function as input, wraps it in some extra code, and returns a new function with the added behavior.\n",
    "\n",
    "In short:  \n",
    "Decorators let you \"wrap\" extra functionality around your functions in a clean and readable way."
   ]
  },
  {
   "cell_type": "markdown",
   "metadata": {},
   "source": [
    "#### Common Built-in Decorators\n",
    "\n",
    "##### @property\n",
    "- Allows you to define methods that can be accessed like attributes."
   ]
  },
  {
   "cell_type": "code",
   "execution_count": null,
   "metadata": {},
   "outputs": [],
   "source": [
    "class Person:\n",
    "    def __init__(self, name):\n",
    "        self._name = name\n",
    "\n",
    "    @property\n",
    "    def name(self):\n",
    "        return self._name\n",
    "\n",
    "p = Person(\"Alice\")\n",
    "print(p.name)  # Accesses as an attribute, not a method"
   ]
  },
  {
   "cell_type": "markdown",
   "metadata": {},
   "source": [
    "[Back to Top](#Outline)"
   ]
  },
  {
   "cell_type": "markdown",
   "metadata": {},
   "source": [
    "##### @classmethod and @staticmethod\n",
    "- `@classmethod`: Method receives the class as the first argument (`cls`).\n",
    "- `@staticmethod`: Method does not receive the instance or class as the first argument."
   ]
  },
  {
   "cell_type": "code",
   "execution_count": null,
   "metadata": {},
   "outputs": [],
   "source": [
    "class Math:\n",
    "    @staticmethod\n",
    "    def add(x, y):\n",
    "        return x + y\n",
    "\n",
    "    @classmethod\n",
    "    def description(cls):\n",
    "        return f\"This is {cls.__name__} class\"\n",
    "\n",
    "print(Math.add(2, 3))\n",
    "print(Math.description())"
   ]
  },
  {
   "cell_type": "markdown",
   "metadata": {},
   "source": [
    "[Back to Top](#Outline)"
   ]
  },
  {
   "cell_type": "markdown",
   "metadata": {},
   "source": [
    "##### Custom Function Decorators"
   ]
  },
  {
   "cell_type": "code",
   "execution_count": null,
   "metadata": {},
   "outputs": [],
   "source": [
    "def my_decorator(func):\n",
    "    def wrapper():\n",
    "        print(\"Before function\")\n",
    "        func()\n",
    "        print(\"After function\")\n",
    "    return wrapper\n",
    "\n",
    "@my_decorator\n",
    "def say_hello():\n",
    "    print(\"Hello!\")\n",
    "\n",
    "say_hello()"
   ]
  },
  {
   "cell_type": "markdown",
   "metadata": {},
   "source": [
    "## Summary of Decorators"
   ]
  },
  {
   "cell_type": "code",
   "execution_count": null,
   "metadata": {},
   "outputs": [],
   "source": [
    "# Summary of decorators\n",
    "decorators_summary = {\n",
    "    \"Decorator Definition\": \"Special functions that modify or extend the behavior of other functions without changing their code.\",\n",
    "    \"@property\": \"Allows methods to be accessed like attributes, enabling getter/setter-like behavior.\",\n",
    "    \"@classmethod\": \"Method that receives the class (cls) as the first argument instead of the instance.\",\n",
    "    \"@staticmethod\": \"Method that doesn't receive self or cls, behaves like a regular function but belongs to the class.\",\n",
    "    \"@ Syntax\": \"The 'pie' syntax placed above function definitions to apply decorators cleanly.\",\n",
    "    \"Custom Decorators\": \"User-defined decorators that wrap functions with additional functionality like logging or timing.\",\n",
    "    \"Wrapper Pattern\": \"Decorators use wrapper functions to add behavior before, after, or around the original function.\",\n",
    "    \"Function Enhancement\": \"Decorators provide code reusability and clean separation of concerns for cross-cutting functionality.\"\n",
    "}\n",
    "\n",
    "print(\"\\nDecorators Summary:\")\n",
    "for concept, description in decorators_summary.items():\n",
    "    print(f\"{concept}: {description}\")\n",
    "\n",
    "# This concludes the bonus introduction to Python decorators.\n",
    "# We have covered what decorators are, built-in decorators (@property, @classmethod, @staticmethod), \n",
    "# and how to create custom function decorators."
   ]
  },
  {
   "cell_type": "markdown",
   "metadata": {},
   "source": [
    "[Back to Top](#Outline)"
   ]
  }
 ],
 "metadata": {
  "kernelspec": {
   "display_name": "Python 3",
   "language": "python",
   "name": "python3"
  },
  "language_info": {
   "codemirror_mode": {
    "name": "ipython",
    "version": 3
   },
   "file_extension": ".py",
   "mimetype": "text/x-python",
   "name": "python",
   "nbconvert_exporter": "python",
   "pygments_lexer": "ipython3",
   "version": "3.13.2"
  },
  "orig_nbformat": 4
 },
 "nbformat": 4,
 "nbformat_minor": 2
}
