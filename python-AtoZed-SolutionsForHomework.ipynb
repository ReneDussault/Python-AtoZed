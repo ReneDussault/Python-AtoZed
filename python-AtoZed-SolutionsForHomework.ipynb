{
 "cells": [
  {
   "cell_type": "markdown",
   "metadata": {},
   "source": [
    "# 1a. Basic Syntax\n",
    "# Recap, Easy questions\n",
    "---"
   ]
  },
  {
   "cell_type": "markdown",
   "metadata": {},
   "source": [
    "#### Write a Python program that prints your Hello World! to the console."
   ]
  },
  {
   "cell_type": "code",
   "execution_count": 1,
   "metadata": {},
   "outputs": [
    {
     "name": "stdout",
     "output_type": "stream",
     "text": [
      "Hello World!\n"
     ]
    }
   ],
   "source": [
    "# code here\n",
    "print(\"Hello World!\")"
   ]
  },
  {
   "cell_type": "code",
   "execution_count": 2,
   "metadata": {},
   "outputs": [],
   "source": [
    "# and here if needed"
   ]
  },
  {
   "cell_type": "markdown",
   "metadata": {},
   "source": [
    "#### Write a Python program that prints your name to the console.  \n",
    "#### Use a variable for your firstname and a variable for your name.  \n",
    "#### And use an F-String to print in this format: My name is John Doe."
   ]
  },
  {
   "cell_type": "code",
   "execution_count": 3,
   "metadata": {},
   "outputs": [
    {
     "name": "stdout",
     "output_type": "stream",
     "text": [
      "My name is John Doe.\n"
     ]
    }
   ],
   "source": [
    "# code here\n",
    "\n",
    "firstname = \"John\"\n",
    "name = \"Doe\"\n",
    "print(f\"My name is {firstname} {name}.\")"
   ]
  },
  {
   "cell_type": "code",
   "execution_count": 4,
   "metadata": {},
   "outputs": [],
   "source": [
    "# and here if needed"
   ]
  },
  {
   "cell_type": "markdown",
   "metadata": {},
   "source": [
    "#### Create a Python program that calculates the area of a rectangle.  \n",
    "#### Prompt the user to enter the length and width, and then print the area.\n"
   ]
  },
  {
   "cell_type": "code",
   "execution_count": 5,
   "metadata": {},
   "outputs": [
    {
     "name": "stdout",
     "output_type": "stream",
     "text": [
      "The area of the rectangle is: 15.0\n"
     ]
    }
   ],
   "source": [
    "# code here\n",
    "\n",
    "length = float(input(\"Enter the length: \"))\n",
    "width = float(input(\"Enter the width: \"))\n",
    "\n",
    "area = length * width\n",
    "\n",
    "print(f\"The area of the rectangle is: {area}\")"
   ]
  },
  {
   "cell_type": "code",
   "execution_count": 6,
   "metadata": {},
   "outputs": [],
   "source": [
    "# and here if needed"
   ]
  },
  {
   "cell_type": "markdown",
   "metadata": {},
   "source": [
    "#### Write Python code that shows a multiline comment or also known as docstring.  \n",
    "#### The comment should describe the purpose of the program."
   ]
  },
  {
   "cell_type": "code",
   "execution_count": 7,
   "metadata": {},
   "outputs": [
    {
     "data": {
      "text/plain": [
       "\"\\nThis program is a simple example of a multiline comment using a docstring.\\nIt doesn't perform any specific task but serves as an illustration.\\n\""
      ]
     },
     "execution_count": 7,
     "metadata": {},
     "output_type": "execute_result"
    }
   ],
   "source": [
    "# code here\n",
    "\n",
    "\"\"\"\n",
    "This program is a simple example of a multiline comment using a docstring.\n",
    "It doesn't perform any specific task but serves as an illustration.\n",
    "\"\"\""
   ]
  },
  {
   "cell_type": "code",
   "execution_count": 8,
   "metadata": {},
   "outputs": [],
   "source": [
    "# and here if needed"
   ]
  },
  {
   "cell_type": "markdown",
   "metadata": {},
   "source": [
    "#### Calculate the sum of the first 10 positive integers (1, 2, 3, ..., 10) and print the result.\n",
    "#### Use a for loop.\n",
    "#### Hint: You can also use range()"
   ]
  },
  {
   "cell_type": "code",
   "execution_count": 9,
   "metadata": {},
   "outputs": [
    {
     "name": "stdout",
     "output_type": "stream",
     "text": [
      "The sum of the first 10 positive integers is: 55\n"
     ]
    }
   ],
   "source": [
    "# code here\n",
    "\n",
    "total = 0\n",
    "\n",
    "for i in range(1, 11):\n",
    "    total += i\n",
    "\n",
    "print(f\"The sum of the first 10 positive integers is: {total}\")\n"
   ]
  },
  {
   "cell_type": "code",
   "execution_count": 10,
   "metadata": {},
   "outputs": [],
   "source": [
    "# and here if needed"
   ]
  },
  {
   "cell_type": "markdown",
   "metadata": {},
   "source": [
    "#### Create a variable my_string and assign it a string value. \n",
    "#### Then, print the length of the string.\n"
   ]
  },
  {
   "cell_type": "code",
   "execution_count": 11,
   "metadata": {},
   "outputs": [
    {
     "name": "stdout",
     "output_type": "stream",
     "text": [
      "The length of the string is: 13\n"
     ]
    }
   ],
   "source": [
    "# code here\n",
    "\n",
    "my_string = \"Hello, Python\"\n",
    "\n",
    "length = len(my_string)\n",
    "\n",
    "print(\"The length of the string is:\", length)"
   ]
  },
  {
   "cell_type": "code",
   "execution_count": 12,
   "metadata": {},
   "outputs": [],
   "source": [
    "# and here if needed"
   ]
  },
  {
   "cell_type": "markdown",
   "metadata": {},
   "source": [
    "# 1b. Basic Syntax\n",
    "# Knowledge check, Medium-Hard questions\n",
    "---"
   ]
  },
  {
   "cell_type": "markdown",
   "metadata": {},
   "source": [
    "#### Combine two strings using concatenation and print the result.  \n",
    "#### For example, if you have two strings, \"Hello\" and \"World,\" your program should print \"Hello World.\""
   ]
  },
  {
   "cell_type": "code",
   "execution_count": 13,
   "metadata": {},
   "outputs": [
    {
     "name": "stdout",
     "output_type": "stream",
     "text": [
      "Hello World\n"
     ]
    }
   ],
   "source": [
    "# code here\n",
    "\n",
    "string1 = \"Hello\"\n",
    "string2 = \"World\"\n",
    "\n",
    "result = string1 + \" \" + string2\n",
    "\n",
    "print(result)"
   ]
  },
  {
   "cell_type": "code",
   "execution_count": 14,
   "metadata": {},
   "outputs": [],
   "source": [
    "# and here if needed"
   ]
  },
  {
   "cell_type": "markdown",
   "metadata": {},
   "source": [
    "#### Write a Python program that determines whether a given integer is even or odd.  \n",
    "#### Prompt the user to enter an integer and print \"Even\" or \"Odd\" accordingly.\n",
    "\n"
   ]
  },
  {
   "cell_type": "code",
   "execution_count": 15,
   "metadata": {},
   "outputs": [
    {
     "name": "stdout",
     "output_type": "stream",
     "text": [
      "Odd\n"
     ]
    }
   ],
   "source": [
    "# code here\n",
    "\n",
    "number = int(input(\"Enter an integer: \"))\n",
    "\n",
    "if number % 2 == 0:\n",
    "    print(\"Even\")\n",
    "else:\n",
    "    print(\"Odd\")"
   ]
  },
  {
   "cell_type": "code",
   "execution_count": 16,
   "metadata": {},
   "outputs": [],
   "source": [
    "# and here if needed"
   ]
  },
  {
   "cell_type": "markdown",
   "metadata": {},
   "source": [
    "#### Create a variable my_integer and assign it an integer value.  \n",
    "#### Prompt the user to enter an integer.  \n",
    "#### Then, write a program to check if it's a positive number and print \"Positive,\" \"Negative,\" or \"Zero\" accordingly.\n",
    "\n"
   ]
  },
  {
   "cell_type": "code",
   "execution_count": 17,
   "metadata": {},
   "outputs": [
    {
     "name": "stdout",
     "output_type": "stream",
     "text": [
      "Positive\n"
     ]
    }
   ],
   "source": [
    "# code here\n",
    "\n",
    "my_integer = int(input(\"Enter an integer: \"))\n",
    "\n",
    "if my_integer > 0:\n",
    "    print(\"Positive\")\n",
    "elif my_integer < 0:\n",
    "    print(\"Negative\")\n",
    "else:\n",
    "    print(\"Zero\")"
   ]
  },
  {
   "cell_type": "code",
   "execution_count": 18,
   "metadata": {},
   "outputs": [],
   "source": [
    "# and here if needed"
   ]
  },
  {
   "cell_type": "markdown",
   "metadata": {},
   "source": [
    "#### Write a Python program that calculates the volume of a cylinder.  \n",
    "#### Prompt the user to enter the radius and height of the cylinder, and then print the volume.  \n",
    "#### Import the math module to access pi  \n",
    "#### Hint: math.pi\n",
    "#### Use the formula:  \n",
    "#### Volume = pi * (radius^2) * height. (You can use the math module for the value of π)\n",
    "\n",
    "# $$\\pi r^2 h$$"
   ]
  },
  {
   "cell_type": "code",
   "execution_count": 19,
   "metadata": {},
   "outputs": [
    {
     "name": "stdout",
     "output_type": "stream",
     "text": [
      "The volume of the cylinder is: {volume}\n"
     ]
    }
   ],
   "source": [
    "# code here\n",
    "\n",
    "import math\n",
    "\n",
    "radius = float(input(\"Enter the radius of the cylinder: \"))\n",
    "height = float(input(\"Enter the height of the cylinder: \"))\n",
    "\n",
    "volume = math.pi * (radius ** 2) * height\n",
    "\n",
    "print(\"The volume of the cylinder is: {volume}\")"
   ]
  },
  {
   "cell_type": "code",
   "execution_count": 20,
   "metadata": {},
   "outputs": [],
   "source": [
    "# and here if needed"
   ]
  },
  {
   "cell_type": "markdown",
   "metadata": {},
   "source": [
    "#### Create a Python program that converts a temperature in degrees Fahrenheit to degrees Celsius.  \n",
    "#### Prompt the user to enter a temperature in Fahrenheit and print the equivalent temperature in Celsius.  \n",
    "#### Use the formula: Celsius = (Fahrenheit - 32) * 5/9.\n",
    "\n",
    "# $$\\text{C} = \\frac{F - 32 * 5}{9}$$"
   ]
  },
  {
   "cell_type": "code",
   "execution_count": 21,
   "metadata": {},
   "outputs": [
    {
     "name": "stdout",
     "output_type": "stream",
     "text": [
      "The equivalent temperature in Celsius is: 20.555555555555557\n"
     ]
    }
   ],
   "source": [
    "# code here\n",
    "\n",
    "fahrenheit = float(input(\"Enter the temperature in Fahrenheit: \"))\n",
    "celsius = (fahrenheit - 32) * 5/9\n",
    "\n",
    "print(f\"The equivalent temperature in Celsius is: {celsius}\")"
   ]
  },
  {
   "cell_type": "code",
   "execution_count": 22,
   "metadata": {},
   "outputs": [],
   "source": [
    "# and here if needed"
   ]
  }
 ],
 "metadata": {
  "kernelspec": {
   "display_name": "Python 3",
   "language": "python",
   "name": "python3"
  },
  "language_info": {
   "codemirror_mode": {
    "name": "ipython",
    "version": 3
   },
   "file_extension": ".py",
   "mimetype": "text/x-python",
   "name": "python",
   "nbconvert_exporter": "python",
   "pygments_lexer": "ipython3",
   "version": "3.11.3"
  },
  "orig_nbformat": 4
 },
 "nbformat": 4,
 "nbformat_minor": 2
}
