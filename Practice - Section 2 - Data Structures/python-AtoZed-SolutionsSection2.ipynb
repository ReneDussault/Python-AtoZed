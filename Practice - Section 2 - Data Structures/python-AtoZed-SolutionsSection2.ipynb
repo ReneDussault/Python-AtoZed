{
 "cells": [
  {
   "cell_type": "markdown",
   "metadata": {},
   "source": [
    "# 2a. Data Structures\n",
    "# Recap, Easy questions\n",
    "---"
   ]
  },
  {
   "cell_type": "markdown",
   "metadata": {},
   "source": [
    "#### Create a list called fruits with the names of three different fruits.  \n",
    "#### Print the first fruit in the list."
   ]
  },
  {
   "cell_type": "code",
   "execution_count": 1,
   "metadata": {},
   "outputs": [
    {
     "name": "stdout",
     "output_type": "stream",
     "text": [
      "apple\n"
     ]
    }
   ],
   "source": [
    "# code here\n",
    "\n",
    "fruits = [\"apple\", \"banana\", \"orange\"]\n",
    "print(fruits[0])"
   ]
  },
  {
   "cell_type": "code",
   "execution_count": 2,
   "metadata": {},
   "outputs": [],
   "source": [
    "# and here if needed"
   ]
  },
  {
   "cell_type": "markdown",
   "metadata": {},
   "source": [
    "#### Write a program that adds a new item to the fruits list.  \n",
    "#### Removes one item from it.  \n",
    "#### And then prints the length of the list."
   ]
  },
  {
   "cell_type": "code",
   "execution_count": 3,
   "metadata": {},
   "outputs": [
    {
     "name": "stdout",
     "output_type": "stream",
     "text": [
      "3\n"
     ]
    }
   ],
   "source": [
    "# code here\n",
    "\n",
    "fruits.append(\"grape\")  # Adding a new fruit\n",
    "fruits.remove(\"banana\")  # Removing \"banana\"\n",
    "print(len(fruits))  # Printing the length of the list."
   ]
  },
  {
   "cell_type": "code",
   "execution_count": 4,
   "metadata": {},
   "outputs": [],
   "source": [
    "# and here if needed"
   ]
  },
  {
   "cell_type": "markdown",
   "metadata": {},
   "source": [
    "#### Given a tuple days_of_week with the days of the week  \n",
    "#### Print the second day (Tuesday)."
   ]
  },
  {
   "cell_type": "code",
   "execution_count": 5,
   "metadata": {},
   "outputs": [
    {
     "name": "stdout",
     "output_type": "stream",
     "text": [
      "Tuesday\n"
     ]
    }
   ],
   "source": [
    "# code here\n",
    "\n",
    "days_of_week = (\"Monday\", \"Tuesday\", \"Wednesday\", \"Thursday\", \"Friday\", \"Saturday\", \"Sunday\")\n",
    "print(days_of_week[1])"
   ]
  },
  {
   "cell_type": "code",
   "execution_count": 6,
   "metadata": {},
   "outputs": [],
   "source": [
    "# and here if needed"
   ]
  },
  {
   "cell_type": "markdown",
   "metadata": {},
   "source": [
    "#### Create a dictionary student with keys \"name\", \"age\" and \"grade\" and corresponding values.  \n",
    "#### Print the student's name."
   ]
  },
  {
   "cell_type": "code",
   "execution_count": 7,
   "metadata": {},
   "outputs": [
    {
     "name": "stdout",
     "output_type": "stream",
     "text": [
      "Alice\n"
     ]
    }
   ],
   "source": [
    "# code here\n",
    "\n",
    "student = {\"name\": \"Alice\", \"age\": 25, \"grade\": \"A\"}\n",
    "print(student[\"name\"])"
   ]
  },
  {
   "cell_type": "code",
   "execution_count": 8,
   "metadata": {},
   "outputs": [],
   "source": [
    "# and here if needed"
   ]
  },
  {
   "cell_type": "markdown",
   "metadata": {},
   "source": [
    "#### Create a set called unique_numbers with a few duplicate numbers.  \n",
    "#### Then print the set to see how duplicates are automatically removed."
   ]
  },
  {
   "cell_type": "code",
   "execution_count": 9,
   "metadata": {},
   "outputs": [
    {
     "name": "stdout",
     "output_type": "stream",
     "text": [
      "{9, 3, 12, 6}\n"
     ]
    }
   ],
   "source": [
    "# code here\n",
    "\n",
    "unique_numbers = {3, 6, 3, 9, 12, 6}\n",
    "print(unique_numbers)  # This will automatically remove duplicates."
   ]
  },
  {
   "cell_type": "code",
   "execution_count": 10,
   "metadata": {},
   "outputs": [],
   "source": [
    "# and here if needed"
   ]
  },
  {
   "cell_type": "markdown",
   "metadata": {},
   "source": [
    "# 2b. Data Structures\n",
    "# Knowledge check, Medium-Hard questions\n",
    "---"
   ]
  },
  {
   "cell_type": "markdown",
   "metadata": {},
   "source": [
    "#### Given a list of temperatures in degrees Fahrenheit:  \n",
    "#### temperatures = [68, 75, 82, 93, 70]  \n",
    "#### Write a program (function) to convert each temperature to degrees Celsius and store the results in a new list.  \n",
    "#### Print the new list."
   ]
  },
  {
   "cell_type": "code",
   "execution_count": 11,
   "metadata": {},
   "outputs": [],
   "source": [
    "temperatures = [68, 75, 82, 93, 70]"
   ]
  },
  {
   "cell_type": "code",
   "execution_count": 12,
   "metadata": {},
   "outputs": [],
   "source": [
    "# code here\n",
    "\n",
    "def fahrenheit_to_celsius(fahrenheit):\n",
    "    return (fahrenheit - 32) * 5/9\n",
    "\n",
    "celsius_temperatures = [fahrenheit_to_celsius(temp) for temp in temperatures]"
   ]
  },
  {
   "cell_type": "code",
   "execution_count": 13,
   "metadata": {},
   "outputs": [
    {
     "name": "stdout",
     "output_type": "stream",
     "text": [
      "[20.0, 23.88888888888889, 27.77777777777778, 33.888888888888886, 21.11111111111111]\n"
     ]
    }
   ],
   "source": [
    "# and here if needed\n",
    "\n",
    "print(celsius_temperatures)"
   ]
  },
  {
   "cell_type": "markdown",
   "metadata": {},
   "source": [
    "#### Create a dictionary book with keys \"title,\" \"author,\" and \"year.\"  \n",
    "#### Add a new key-value pair for the \"genre\" of the book.  \n",
    "#### Then remove the \"year\" from the dictionary.  \n",
    "#### Check if \"year\" still exists in the dictionary."
   ]
  },
  {
   "cell_type": "code",
   "execution_count": 14,
   "metadata": {},
   "outputs": [],
   "source": [
    "# code here\n",
    "\n",
    "book = {\"title\": \"Python Programming\", \"author\": \"John Smith\", \"year\": 2022}\n",
    "\n",
    "book[\"genre\"] = \"Programming\"\n",
    "\n",
    "del book[\"year\"]"
   ]
  },
  {
   "cell_type": "code",
   "execution_count": 15,
   "metadata": {},
   "outputs": [
    {
     "name": "stdout",
     "output_type": "stream",
     "text": [
      "False\n"
     ]
    }
   ],
   "source": [
    "# and here if needed\n",
    "\n",
    "print(\"year\" in book)  # This will print False."
   ]
  },
  {
   "cell_type": "markdown",
   "metadata": {},
   "source": [
    "#### Given a set of numbers: prime_numbers = {2, 3, 5, 7, 11}  \n",
    "#### Add a new prime number to the set.  \n",
    "#### Remove a non-prime number.  \n",
    "#### Then print the size of the set."
   ]
  },
  {
   "cell_type": "code",
   "execution_count": 16,
   "metadata": {},
   "outputs": [],
   "source": [
    "prime_numbers = {2, 3, 5, 7, 11}"
   ]
  },
  {
   "cell_type": "code",
   "execution_count": 17,
   "metadata": {},
   "outputs": [
    {
     "name": "stdout",
     "output_type": "stream",
     "text": [
      "6\n"
     ]
    }
   ],
   "source": [
    "# code here\n",
    "\n",
    "prime_numbers.add(13)  # Adding a new prime number\n",
    "prime_numbers.discard(9)  # Removing a non-prime number (9)\n",
    "print(len(prime_numbers))  # Printing the size of the set."
   ]
  },
  {
   "cell_type": "code",
   "execution_count": 18,
   "metadata": {},
   "outputs": [],
   "source": [
    "# and here if needed"
   ]
  },
  {
   "cell_type": "markdown",
   "metadata": {},
   "source": [
    "#### Iterate through the days_of_week tuple (from section 2a)  \n",
    "#### And print each day of the week."
   ]
  },
  {
   "cell_type": "code",
   "execution_count": 19,
   "metadata": {},
   "outputs": [
    {
     "name": "stdout",
     "output_type": "stream",
     "text": [
      "Monday\n",
      "Tuesday\n",
      "Wednesday\n",
      "Thursday\n",
      "Friday\n",
      "Saturday\n",
      "Sunday\n"
     ]
    }
   ],
   "source": [
    "# code here\n",
    "\n",
    "for day in days_of_week:\n",
    "    print(day)"
   ]
  },
  {
   "cell_type": "code",
   "execution_count": 20,
   "metadata": {},
   "outputs": [],
   "source": [
    "# and here if needed"
   ]
  },
  {
   "cell_type": "markdown",
   "metadata": {},
   "source": [
    "#### Access the \"name\" of \"person2\" in the nested_dict and print it."
   ]
  },
  {
   "cell_type": "code",
   "execution_count": 21,
   "metadata": {},
   "outputs": [],
   "source": [
    "nested_dict = {\"person1\": {\"name\": \"Alice\", \"age\": 30}, \"person2\": {\"name\": \"Bob\", \"age\": 25}}"
   ]
  },
  {
   "cell_type": "code",
   "execution_count": 22,
   "metadata": {},
   "outputs": [
    {
     "name": "stdout",
     "output_type": "stream",
     "text": [
      "Bob\n"
     ]
    }
   ],
   "source": [
    "# code here\n",
    "\n",
    "nested_dict = {\"person1\": {\"name\": \"Alice\", \"age\": 30}, \"person2\": {\"name\": \"Bob\", \"age\": 25}}\n",
    "name_of_person2 = nested_dict[\"person2\"][\"name\"]\n",
    "\n",
    "print(name_of_person2)  # This will print \"Bob\"."
   ]
  },
  {
   "cell_type": "code",
   "execution_count": 23,
   "metadata": {},
   "outputs": [],
   "source": [
    "# and here if needed"
   ]
  },
  {
   "cell_type": "code",
   "execution_count": null,
   "metadata": {},
   "outputs": [],
   "source": []
  }
 ],
 "metadata": {
  "kernelspec": {
   "display_name": "Python 3",
   "language": "python",
   "name": "python3"
  },
  "language_info": {
   "codemirror_mode": {
    "name": "ipython",
    "version": 3
   },
   "file_extension": ".py",
   "mimetype": "text/x-python",
   "name": "python",
   "nbconvert_exporter": "python",
   "pygments_lexer": "ipython3",
   "version": "3.11.3"
  }
 },
 "nbformat": 4,
 "nbformat_minor": 2
}
