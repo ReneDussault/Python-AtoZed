{
 "cells": [
  {
   "cell_type": "markdown",
   "metadata": {},
   "source": [
    "# 5. Object-Oriented Programming\n",
    "# Solutions\n",
    "---"
   ]
  },
  {
   "cell_type": "markdown",
   "metadata": {},
   "source": [
    "#### 1. Define a `Dog` class with attributes `name` and `breed`, and a method `bark` that returns a string. Create two Dog objects and call their `bark` methods."
   ]
  },
  {
   "cell_type": "code",
   "execution_count": 1,
   "metadata": {},
   "outputs": [
    {
     "name": "stdout",
     "output_type": "stream",
     "text": [
      "Fido the Labrador is barking.\n",
      "Buddy the Golden Retriever is barking.\n"
     ]
    }
   ],
   "source": [
    "class Dog:\n",
    "    def __init__(self, name, breed):\n",
    "        self.name = name\n",
    "        self.breed = breed\n",
    "    def bark(self):\n",
    "        return f\"{self.name} the {self.breed} is barking.\"\n",
    "\n",
    "dog1 = Dog(\"Fido\", \"Labrador\")\n",
    "dog2 = Dog(\"Buddy\", \"Golden Retriever\")\n",
    "print(dog1.bark())\n",
    "print(dog2.bark())"
   ]
  },
  {
   "cell_type": "markdown",
   "metadata": {},
   "source": [
    "#### 2. Create a `Rectangle` class with attributes `width` and `height`, and a method `area` that returns the area. Instantiate two rectangles and print their areas."
   ]
  },
  {
   "cell_type": "code",
   "execution_count": 2,
   "metadata": {},
   "outputs": [
    {
     "name": "stdout",
     "output_type": "stream",
     "text": [
      "Area of Rectangle 1: 24\n",
      "Area of Rectangle 2: 24\n"
     ]
    }
   ],
   "source": [
    "class Rectangle:\n",
    "    def __init__(self, width, height):\n",
    "        self.width = width\n",
    "        self.height = height\n",
    "    def area(self):\n",
    "        return self.width * self.height\n",
    "\n",
    "rect1 = Rectangle(4, 6)\n",
    "rect2 = Rectangle(3, 8)\n",
    "print(\"Area of Rectangle 1:\", rect1.area())\n",
    "print(\"Area of Rectangle 2:\", rect2.area())"
   ]
  },
  {
   "cell_type": "markdown",
   "metadata": {},
   "source": [
    "#### 3. Write a `Circle` class with a `radius` attribute and methods `area` and `circumference`. Create a Circle object and print its area and circumference."
   ]
  },
  {
   "cell_type": "code",
   "execution_count": 3,
   "metadata": {},
   "outputs": [
    {
     "name": "stdout",
     "output_type": "stream",
     "text": [
      "Area of the circle: 78.5\n",
      "Circumference of the circle: 31.400000000000002\n"
     ]
    }
   ],
   "source": [
    "class Circle:\n",
    "    def __init__(self, radius):\n",
    "        self.radius = radius\n",
    "    def area(self):\n",
    "        return 3.14 * self.radius * self.radius\n",
    "    def circumference(self):\n",
    "        return 2 * 3.14 * self.radius\n",
    "\n",
    "circle = Circle(5)\n",
    "print(\"Area of the circle:\", circle.area())\n",
    "print(\"Circumference of the circle:\", circle.circumference())"
   ]
  },
  {
   "cell_type": "markdown",
   "metadata": {},
   "source": [
    "#### 4. Create a `Vehicle` class with attributes `make` and `model`, and a method `description`. Then create a `Car` class that inherits from `Vehicle` and adds a `year` attribute and overrides the `description` method. Instantiate both and print their descriptions."
   ]
  },
  {
   "cell_type": "code",
   "execution_count": 4,
   "metadata": {},
   "outputs": [
    {
     "name": "stdout",
     "output_type": "stream",
     "text": [
      "This is a Ford F-150.\n",
      "This is a 2022 Toyota Camry.\n"
     ]
    }
   ],
   "source": [
    "class Vehicle:\n",
    "    def __init__(self, make, model):\n",
    "        self.make = make\n",
    "        self.model = model\n",
    "    def description(self):\n",
    "        return f\"This is a {self.make} {self.model}.\"\n",
    "\n",
    "class Car(Vehicle):\n",
    "    def __init__(self, make, model, year):\n",
    "        super().__init__(make, model)\n",
    "        self.year = year\n",
    "    def description(self):\n",
    "        return f\"This is a {self.year} {self.make} {self.model}.\"\n",
    "\n",
    "vehicle = Vehicle(\"Ford\", \"F-150\")\n",
    "car = Car(\"Toyota\", \"Camry\", 2022)\n",
    "print(vehicle.description())\n",
    "print(car.description())"
   ]
  },
  {
   "cell_type": "markdown",
   "metadata": {},
   "source": [
    "#### 5. Create a `BankAccount` class with methods for deposit, withdrawal, and checking balance. Test your class by creating an account and performing some operations."
   ]
  },
  {
   "cell_type": "code",
   "execution_count": 5,
   "metadata": {},
   "outputs": [
    {
     "name": "stdout",
     "output_type": "stream",
     "text": [
      "70\n"
     ]
    }
   ],
   "source": [
    "class BankAccount:\n",
    "    def __init__(self, balance=0):\n",
    "        self.balance = balance\n",
    "    def deposit(self, amount):\n",
    "        self.balance += amount\n",
    "    def withdraw(self, amount):\n",
    "        if amount <= self.balance:\n",
    "            self.balance -= amount\n",
    "        else:\n",
    "            print(\"Insufficient funds.\")\n",
    "    def get_balance(self):\n",
    "        return self.balance\n",
    "\n",
    "account = BankAccount()\n",
    "account.deposit(100)\n",
    "account.withdraw(30)\n",
    "print(account.get_balance())"
   ]
  },
  {
   "cell_type": "markdown",
   "metadata": {},
   "source": [
    "#### 6. Extend the `BankAccount` class to create a `SavingsAccount` with an interest rate and a method to add interest. Test your class by creating a savings account and adding interest."
   ]
  },
  {
   "cell_type": "code",
   "execution_count": 6,
   "metadata": {},
   "outputs": [
    {
     "name": "stdout",
     "output_type": "stream",
     "text": [
      "1050.0\n"
     ]
    }
   ],
   "source": [
    "class SavingsAccount(BankAccount):\n",
    "    def __init__(self, balance=0, interest_rate=0.01):\n",
    "        super().__init__(balance)\n",
    "        self.interest_rate = interest_rate\n",
    "    def add_interest(self):\n",
    "        self.balance += self.balance * self.interest_rate\n",
    "\n",
    "savings = SavingsAccount(1000, 0.05)\n",
    "savings.add_interest()\n",
    "print(savings.get_balance())"
   ]
  },
  {
   "cell_type": "code",
   "execution_count": null,
   "metadata": {},
   "outputs": [],
   "source": []
  }
 ],
 "metadata": {
  "kernelspec": {
   "display_name": "Python 3",
   "language": "python",
   "name": "python3"
  },
  "language_info": {
   "codemirror_mode": {
    "name": "ipython",
    "version": 3
   },
   "file_extension": ".py",
   "mimetype": "text/x-python",
   "name": "python",
   "nbconvert_exporter": "python",
   "pygments_lexer": "ipython3",
   "version": "3.13.2"
  }
 },
 "nbformat": 4,
 "nbformat_minor": 2
}
