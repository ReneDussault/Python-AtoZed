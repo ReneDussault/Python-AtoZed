{
    "cells": [
        {
            "cell_type": "markdown",
            "metadata": {},
            "source": [
                "# 6. Modules and Libraries\n",
                "# Solutions\n",
                "---"
            ]
        },
        {
            "cell_type": "markdown",
            "metadata": {},
            "source": [
                "#### 1. Import the `math` module and print the square root of 25 and the value of pi."
            ]
        },
        {
            "cell_type": "code",
            "execution_count": 1,
            "metadata": {},
            "outputs": [
                {
                    "name": "stdout",
                    "output_type": "stream",
                    "text": [
                        "5.0\n",
                        "3.141592653589793\n"
                    ]
                }
            ],
            "source": [
                "import math\n",
                "print(math.sqrt(25))\n",
                "print(math.pi)"
            ]
        },
        {
            "cell_type": "code",
            "execution_count": 2,
            "metadata": {},
            "outputs": [],
            "source": [
                "# and here if needed"
            ]
        },
        {
            "cell_type": "markdown",
            "metadata": {},
            "source": [
                "#### 2. Use the `random` module to generate a random integer between 1 and 100, and shuffle a list `[1, 2, 3, 4, 5]`."
            ]
        },
        {
            "cell_type": "code",
            "execution_count": 3,
            "metadata": {},
            "outputs": [
                {
                    "name": "stdout",
                    "output_type": "stream",
                    "text": [
                        "76\n",
                        "[3, 5, 2, 4, 1]\n"
                    ]
                }
            ],
            "source": [
                "import random\n",
                "print(random.randint(1, 100))\n",
                "lst = [1, 2, 3, 4, 5]\n",
                "random.shuffle(lst)\n",
                "print(lst)"
            ]
        },
        {
            "cell_type": "code",
            "execution_count": 4,
            "metadata": {},
            "outputs": [],
            "source": [
                "# and here if needed"
            ]
        },
        {
            "cell_type": "markdown",
            "metadata": {},
            "source": [
                "#### 3. Use the `time` module to measure how long it takes to run a loop that sums numbers from 1 to 1,000,000."
            ]
        },
        {
            "cell_type": "code",
            "execution_count": 5,
            "metadata": {},
            "outputs": [
                {
                    "name": "stdout",
                    "output_type": "stream",
                    "text": [
                        "Sum: 500000500000\n",
                        "Elapsed time: 0.06479668617248535 seconds\n"
                    ]
                }
            ],
            "source": [
                "import time\n",
                "start = time.time()\n",
                "total = 0\n",
                "for i in range(1, 1000001):\n",
                "    total += i\n",
                "end = time.time()\n",
                "print(\"Sum:\", total)\n",
                "print(\"Elapsed time:\", end - start, \"seconds\")"
            ]
        },
        {
            "cell_type": "code",
            "execution_count": 6,
            "metadata": {},
            "outputs": [],
            "source": [
                "# and here if needed"
            ]
        },
        {
            "cell_type": "markdown",
            "metadata": {},
            "source": [
                "#### 4. Use the `requests` module to fetch the content of `https://www.example.com` and print the status code and content length."
            ]
        },
        {
            "cell_type": "code",
            "execution_count": 7,
            "metadata": {},
            "outputs": [
                {
                    "name": "stdout",
                    "output_type": "stream",
                    "text": [
                        "Status code: 200\n",
                        "Content length: 1256\n"
                    ]
                }
            ],
            "source": [
                "import requests\n",
                "response = requests.get(\"https://www.example.com\")\n",
                "print(\"Status code:\", response.status_code)\n",
                "print(\"Content length:\", len(response.text))"
            ]
        },
        {
            "cell_type": "code",
            "execution_count": 8,
            "metadata": {},
            "outputs": [],
            "source": [
                "# and here if needed"
            ]
        },
        {
            "cell_type": "markdown",
            "metadata": {},
            "source": [
                "#### 5. Use the `sys` module to print the script name and any command-line arguments (simulate arguments if running in a notebook)."
            ]
        },
        {
            "cell_type": "code",
            "execution_count": 9,
            "metadata": {},
            "outputs": [
                {
                    "name": "stdout",
                    "output_type": "stream",
                    "text": [
                        "Script name: notebook\n",
                        "Arguments: ['arg1', 'arg2']\n"
                    ]
                }
            ],
            "source": [
                "import sys\n",
                "sys.argv = ['notebook', 'arg1', 'arg2']  # Simulate arguments\n",
                "print(\"Script name:\", sys.argv[0])\n",
                "print(\"Arguments:\", sys.argv[1:])"
            ]
        },
        {
            "cell_type": "code",
            "execution_count": 10,
            "metadata": {},
            "outputs": [],
            "source": [
                "# and here if needed"
            ]
        },
        {
            "cell_type": "markdown",
            "metadata": {},
            "source": [
                "#### 6. Create a module named `my_math.py` with functions for addition and multiplication. Import and use these functions in the notebook."
            ]
        },
        {
            "cell_type": "code",
            "execution_count": 11,
            "metadata": {},
            "outputs": [],
            "source": [
                "# example my_math.py\n",
                "def add(a, b):\n",
                "    return a + b\n",
                "def multiply(a, b):\n",
                "    return a * b"
            ]
        },
        {
            "cell_type": "code",
            "execution_count": 12,
            "metadata": {},
            "outputs": [
                {
                    "name": "stdout",
                    "output_type": "stream",
                    "text": [
                        "5\n",
                        "20\n"
                    ]
                }
            ],
            "source": [
                "# In the notebook\n",
                "import my_math\n",
                "print(my_math.add(2, 3))\n",
                "print(my_math.multiply(4, 5))"
            ]
        },
        {
            "cell_type": "markdown",
            "metadata": {},
            "source": [
                "#### 7. Use the `datetime` module to create a function that returns the current age given a birthdate (as a `datetime.date` object). Test your function with a sample birthdate."
            ]
        },
        {
            "cell_type": "code",
            "execution_count": 13,
            "metadata": {},
            "outputs": [
                {
                    "name": "stdout",
                    "output_type": "stream",
                    "text": [
                        "25\n"
                    ]
                }
            ],
            "source": [
                "import datetime\n",
                "def calculate_age(birthdate):\n",
                "    today = datetime.date.today()\n",
                "    age = today.year - birthdate.year - ((today.month, today.day) < (birthdate.month, birthdate.day))\n",
                "    return age\n",
                "print(calculate_age(datetime.date(2000, 5, 15)))"
            ]
        },
        {
            "cell_type": "code",
            "execution_count": 14,
            "metadata": {},
            "outputs": [],
            "source": [
                "# and here if needed"
            ]
        },
        {
            "cell_type": "markdown",
            "metadata": {},
            "source": [
                "#### 8a. Create a module named `my_module.py` with a function `my_function` that prints a message, and a variable `my_variable`. Import and use both in your notebook."
            ]
        },
        {
            "cell_type": "code",
            "execution_count": 15,
            "metadata": {},
            "outputs": [
                {
                    "name": "stdout",
                    "output_type": "stream",
                    "text": [
                        "This code runs because my_module.py is the main program.\n"
                    ]
                }
            ],
            "source": [
                "# example my_module.py\n",
                "def my_function():\n",
                "    print(\"Hello from my_module!\")\n",
                "my_variable = \"This is a variable from my_module.\"\n",
                "if __name__ == \"__main__\":\n",
                "    print(\"This code runs because my_module.py is the main program.\")"
            ]
        },
        {
            "cell_type": "code",
            "execution_count": 16,
            "metadata": {},
            "outputs": [
                {
                    "name": "stdout",
                    "output_type": "stream",
                    "text": [
                        "Hello from my_module!\n",
                        "This is a variable from my_module.\n"
                    ]
                }
            ],
            "source": [
                "# In the notebook\n",
                "import my_module\n",
                "my_module.my_function()\n",
                "print(my_module.my_variable)"
            ]
        },
        {
            "cell_type": "markdown",
            "metadata": {},
            "source": [
                "#### 8b. In your `my_module.py`, add an `if __name__ == \"__main__\":` block that prints a message. Run `my_module.py` directly and observe the output. Then import it in your notebook and observe the difference."
            ]
        },
        {
            "cell_type": "code",
            "execution_count": 17,
            "metadata": {},
            "outputs": [],
            "source": [
                "# When you run my_module.py directly, the message inside the if __name__ == \"__main__\": block is printed.\n",
                "# When you import my_module in another script or notebook, that message is NOT printed.\n",
                "# This is because __name__ is set to \"__main__\" only when the file is run directly, not when imported."
            ]
        }
    ],
    "metadata": {
        "kernelspec": {
            "display_name": "Python 3",
            "language": "python",
            "name": "python3"
        },
        "language_info": {
            "codemirror_mode": {
                "name": "ipython",
                "version": 3
            },
            "file_extension": ".py",
            "mimetype": "text/x-python",
            "name": "python",
            "nbconvert_exporter": "python",
            "pygments_lexer": "ipython3",
            "version": "3.13.2"
        }
    },
    "nbformat": 4,
    "nbformat_minor": 2
}
