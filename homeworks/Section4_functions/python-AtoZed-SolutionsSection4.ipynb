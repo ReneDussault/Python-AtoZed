{
    "cells": [
        {
            "cell_type": "markdown",
            "metadata": {},
            "source": [
                "# 4. Functions\n",
                "# Solutions\n",
                "---"
            ]
        },
        {
            "cell_type": "markdown",
            "metadata": {},
            "source": [
                "#### 1. Write a function that takes a list of numbers as input and returns the sum of the numbers.\n",
                "#### Test your function with a sample list."
            ]
        },
        {
            "cell_type": "code",
            "metadata": {},
            "source": [
                "def sum_list(numbers):\n",
                "    total = 0\n",
                "    for num in numbers:\n",
                "        total += num\n",
                "    return total\n",
                "\n",
                "# Test\n",
                "sample_list = [1, 2, 3, 4, 5]\n",
                "print(\"Sum:\", sum_list(sample_list))"
            ],
            "execution_count": null,
            "outputs": []
        },
        {
            "cell_type": "markdown",
            "metadata": {},
            "source": [
                "#### 2. Create a function that checks if a given string is a palindrome. A palindrome is a word that reads the same backward as forward.\n",
                "#### Test your function with various strings."
            ]
        },
        {
            "cell_type": "code",
            "metadata": {},
            "source": [
                "def is_palindrome(s):\n",
                "    return s == s[::-1]\n",
                "\n",
                "# Tests\n",
                "print(is_palindrome(\"racecar\"))  # True\n",
                "print(is_palindrome(\"python\"))   # False\n",
                "print(is_palindrome(\"level\"))    # True"
            ],
            "execution_count": null,
            "outputs": []
        },
        {
            "cell_type": "markdown",
            "metadata": {},
            "source": [
                "#### 3. Write a function that takes a number as input and returns its factorial. Test your function with different numbers."
            ]
        },
        {
            "cell_type": "code",
            "metadata": {},
            "source": [
                "def factorial(n):\n",
                "    result = 1\n",
                "    for i in range(1, n + 1):\n",
                "        result *= i\n",
                "    return result\n",
                "\n",
                "# Tests\n",
                "print(factorial(5))  # 120\n",
                "print(factorial(0))  # 1\n",
                "print(factorial(3))  # 6"
            ],
            "execution_count": null,
            "outputs": []
        },
        {
            "cell_type": "markdown",
            "metadata": {},
            "source": [
                "#### 4. Create a function that takes a string and returns a dictionary with the count of each character in the string.\n",
                "#### Test your function with a sample string."
            ]
        },
        {
            "cell_type": "code",
            "metadata": {},
            "source": [
                "def char_count(s):\n",
                "    count_dict = {}\n",
                "    for char in s:\n",
                "        if char in count_dict:\n",
                "            count_dict[char] += 1\n",
                "        else:\n",
                "            count_dict[char] = 1\n",
                "    return count_dict\n",
                "\n",
                "# Test\n",
                "print(char_count(\"hello world\"))"
            ],
            "execution_count": null,
            "outputs": []
        },
        {
            "cell_type": "markdown",
            "metadata": {},
            "source": [
                "#### 5. Write a function that takes a list of strings and returns a new list containing only the strings that have more than 3 characters.\n",
                "#### Test your function with a sample list."
            ]
        },
        {
            "cell_type": "code",
            "metadata": {},
            "source": [
                "def filter_long_strings(strings):\n",
                "    return [s for s in strings if len(s) > 3]\n",
                "\n",
                "# Test\n",
                "sample_strings = [\"cat\", \"lion\", \"dog\", \"elephant\", \"bat\"]\n",
                "print(filter_long_strings(sample_strings))"
            ],
            "execution_count": null,
            "outputs": []
        }
    ],
    "metadata": {
        "kernelspec": {
            "display_name": "Python 3",
            "language": "python",
            "name": "python3"
        },
        "language_info": {
            "name": "python",
            "version": ""
        }
    },
    "nbformat": 4,
    "nbformat_minor": 2
}