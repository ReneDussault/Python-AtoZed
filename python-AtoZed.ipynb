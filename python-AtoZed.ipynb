{
 "cells": [
  {
   "cell_type": "markdown",
   "metadata": {},
   "source": [
    "# Table of Contents\n",
    "0. [Table of Contents](#Table-of-Contents)  \n",
    "&nbsp;0.1 [Outline](#Outline)  \n",
    "&nbsp;0.2 [Introduction](#Introduction-to-Python)  \n",
    "1. [Basic Syntax](#1.-Basic-Syntax)  \n",
    "&nbsp;1.1 [Data Types](#1.1-Data-Types)  \n",
    "&nbsp;1.2 [Basic Operators](#1.2-Basic-Operators)  \n",
    "&nbsp;&nbsp;&nbsp;&nbsp; 1.2.1 [Arithmetic Operators](#1.2.1-Arithmetic-Operators)  \n",
    "&nbsp;&nbsp;&nbsp;&nbsp; 1.2.2 [Assignment Operators](#1.2.2-Assignment-Operators)  \n",
    "&nbsp;&nbsp;&nbsp;&nbsp; 1.2.3 [Comparison Operators](#1.2.3-Comparison-Operators)  \n",
    "&nbsp;&nbsp;&nbsp;&nbsp; 1.2.4 [Logical Operators](#1.2.4-Logical-Operators)\n",
    "2. [Data Structures](#2.-Data-Structures)\n",
    "4. [Flow Control](#3.-Flow-Control)\n",
    "4. [Functions](#4.-Functions)\n",
    "5. [Object-Oriented Programming](#5.-Introduction-to-OOP)\n",
    "6. [Modules and libraries](#6.-Modules-and-libraries)\n"
   ]
  },
  {
   "cell_type": "markdown",
   "metadata": {},
   "source": [
    "# Outline\n",
    "\n",
    "## [Basic Syntax](#1.-Basic-Syntax):\n",
    "* Printing output with ``print()``.\n",
    "* Commenting code with ``#``.\n",
    "* Multiline comment: the docstring ``\"\"\" \"\"\"``\n",
    "* Indentation and code blocks.  \n",
    "* [Data Types](#1.1-Data-Types) and variables (integers, floats, strings, booleans) and concatenation\n",
    "* [Basic Operators](#1.2-Basic-Operators) with arithmetic \n",
    "\n",
    "\n",
    "## [Data Structures](#2.-Data-Structures):\n",
    "* Lists, indexing, slicing.\n",
    "* Tuples and their immutability.\n",
    "* Dictionaries and key-value pairs.\n",
    "* Sets for unique values.  \n",
    "\n",
    "\n",
    "## [Flow Control](#3.-Flow-Control):\n",
    "* Conditional statements (``if``, ``elif``, ``else``).\n",
    "* Loops (``for`` loops and ``while`` loops).\n",
    "* Using ``range()`` for iteration.  \n",
    "\n",
    "\n",
    "## [Functions](#4.-Functions):\n",
    "* Defining and calling functions.\n",
    "* Parameters and arguments.\n",
    "* Return statements.\n",
    "\n",
    "\n",
    "## [Introduction to OOP](#5.-Introduction-to-OOP) (Object-Oriented Programming):\n",
    "* Classes and objects.\n",
    "* Attributes and methods.\n",
    "* Constructors and inheritance (brief overview).  \n",
    "\n",
    "\n",
    "## [Modules and libraries](#6.-Modules-and-libraries):\n",
    "* Importing modules and using functions from them.\n",
    "* Introduction to commonly used libraries (e.g., math, random).\n",
    "* Intro to custom modules"
   ]
  },
  {
   "cell_type": "markdown",
   "metadata": {},
   "source": [
    "## Introduction to Python\n",
    "\n",
    "This notebook provides a hands-on introduction to fundamental Python concepts with practical examples.  \n",
    "It's designed for both beginners and intermediate learners looking to build a solid foundation and strengthen their Python skills.  \n",
    "\n",
    "What is Python?\n",
    "\n",
    "- Python is a high-level, interpreted, general-purpose programming language created by Guido van Rossum and first released in 1991.  \n",
    "- It was developed with the goal of making programming more accessible and efficient while maintaining versatility.  \n",
    "- Python is renowned for its readability and wide range of applications, from data science and web development to automation and more.  \n",
    "\n",
    "Why choose Python?  \n",
    "- Readability: Its design philosophy emphasizes code clarity.  \n",
    "- Efficiency: Python allows developers to express concepts in fewer lines of code compared to languages like C++ or Java.  \n",
    "- Extensive Library Support: Python's standard library is often described as \"batteries included,\" providing tools for tasks like file handling, networking, and web scraping.  \n",
    "- Community Support: With an extensive user base, Python boasts rich resources, forums, and libraries for virtually every domain.  \n",
    "\n",
    "Key concepts to start with:\n",
    "\n",
    "1. Case Sensitivity: Python distinguishes between uppercase and lowercase letters. For example:\n",
    "    ```py\n",
    "    myVariable = 5\n",
    "    myvariable = 10\n",
    "    print(myVariable) # Outputs: 5\n",
    "    print(myvariable) # Outputs: 10\n",
    "    ```\n",
    "    ``myVariable`` and ``myvariable`` are different variables.  \n",
    "\n",
    "2. Indentation: Unlike many other languages that use curly braces {}, Python uses indentation (typically four spaces, refer to pep8) to define code blocks.  \n",
    "Consistent indentation is mandatory for proper code execution:\n",
    "    ```py\n",
    "    if True:\n",
    "        print(\"Indentation matters!\")\n",
    "    ```\n",
    "\n",
    "We will review most of this in the Basic Syntax section, which is next.  \n",
    "So, let's get started!\n",
    "\n",
    "To see Python in action, run the following code snippet:"
   ]
  },
  {
   "cell_type": "code",
   "execution_count": 75,
   "metadata": {},
   "outputs": [
    {
     "name": "stdout",
     "output_type": "stream",
     "text": [
      "Hello World\n"
     ]
    }
   ],
   "source": [
    "# Hello, World!\n",
    "print(\"Hello World\")"
   ]
  },
  {
   "cell_type": "markdown",
   "metadata": {},
   "source": [
    "---------------------------------------------------------------------------------------------"
   ]
  },
  {
   "cell_type": "markdown",
   "metadata": {},
   "source": [
    "### INTRODUCTION TO PYTHON PROGRAMMING"
   ]
  },
  {
   "cell_type": "markdown",
   "metadata": {},
   "source": [
    "# 1. Basic Syntax"
   ]
  },
  {
   "cell_type": "markdown",
   "metadata": {},
   "source": [
    "print() is used to display output.  \n",
    "Very useful for debugging."
   ]
  },
  {
   "cell_type": "code",
   "execution_count": 5,
   "metadata": {},
   "outputs": [
    {
     "name": "stdout",
     "output_type": "stream",
     "text": [
      "Welcome to Python-AtoZed!!\n"
     ]
    }
   ],
   "source": [
    "print(\"Welcome to Python-AtoZed!!\")"
   ]
  },
  {
   "cell_type": "code",
   "execution_count": 6,
   "metadata": {},
   "outputs": [
    {
     "name": "stdout",
     "output_type": "stream",
     "text": [
      "Click this link to read PEP 8: https://peps.python.org/pep-0008/\n"
     ]
    }
   ],
   "source": [
    "# commenting code with #\n",
    "# for proper syntax references, check PEP 8: https://peps.python.org/pep-0008/\n",
    "pep8 = \"https://peps.python.org/pep-0008/\" # a string being assigned to a variable, from right to left. \n",
    "print(f\"Click this link to read PEP 8: {pep8}\") # example of an f-string, which is a formatted string literal"
   ]
  },
  {
   "cell_type": "markdown",
   "metadata": {},
   "source": [
    "Use triple quotes to create a multiline comment.  \n",
    "Also called a docstring.  \n",
    "This is good practice for readability and maintainability.  \n",
    "Useful for documenting code like functions and classes.  \n",
    "We will cover functions and classes in later lessons."
   ]
  },
  {
   "cell_type": "code",
   "execution_count": 64,
   "metadata": {},
   "outputs": [
    {
     "name": "stdout",
     "output_type": "stream",
     "text": [
      "\n",
      "This is an example\n",
      "of a multiline comment,\n",
      "also called a docstring.\n",
      "\n"
     ]
    }
   ],
   "source": [
    "doc = \"\"\"\n",
    "This is an example\n",
    "of a multiline comment,\n",
    "also called a docstring.\n",
    "\"\"\"\n",
    "\n",
    "print(doc)"
   ]
  },
  {
   "cell_type": "code",
   "execution_count": 13,
   "metadata": {},
   "outputs": [
    {
     "name": "stdout",
     "output_type": "stream",
     "text": [
      "yoyoyo\n",
      "\n",
      "Help on function example in module __main__:\n",
      "\n",
      "example()\n",
      "    This is an example\n",
      "    of a multiline comment,\n",
      "    also called a docstring.\n",
      "\n",
      "None\n"
     ]
    }
   ],
   "source": [
    "# indentation and code blocks\n",
    "# Python uses indentation to define code blocks\n",
    "# code blocks are used to group related code\n",
    "# indentation is typically 4 spaces (see pep8)\n",
    "# indentation can be a tab (make sure your editor uses 4 spaces when pressing tab), spaces are recommended\n",
    "# indentation is used after a colon to start a code block\n",
    "\n",
    "def example():\n",
    "    \"\"\"\n",
    "    This is an example\n",
    "    of a multiline comment,\n",
    "    also called a docstring.\n",
    "    \"\"\"\n",
    "    return \"yoyoyo\"\n",
    "\n",
    "print(example()) # this will print the return value of the function\n",
    "print() # this will print a blank line\n",
    "print(help(example)) # this will print the docstring of the function"
   ]
  },
  {
   "cell_type": "markdown",
   "metadata": {},
   "source": [
    "# 1.1 Data Types"
   ]
  },
  {
   "cell_type": "markdown",
   "metadata": {},
   "source": [
    "## And variables"
   ]
  },
  {
   "cell_type": "markdown",
   "metadata": {},
   "source": [
    "Variables must start with a letter or an underscore ``_`` (not a number).  \n",
    "They cannot contain spaces.  \n",
    "Variables can contain letters, numbers, and underscores.  \n",
    "Variables should not use Python's built-in function names as variable names, such as print or input.  \n",
    "Best practice is to use descriptive names in lowercase, separating words with underscores (snake_case)."
   ]
  },
  {
   "cell_type": "code",
   "execution_count": 63,
   "metadata": {},
   "outputs": [],
   "source": [
    "string = \"1\" # this is a string. Strings are enclosed in quotes.\n",
    "string2 = \"Hello, Python!\" # this is also a string.\n",
    "integer = 10 # this is an integer. Integers are whole numbers.\n",
    "f_loat = 12.4 # example of a float. Floats are numbers with decimals.\n",
    "done = False # this is a boolean. Booleans are True or False."
   ]
  },
  {
   "cell_type": "markdown",
   "metadata": {},
   "source": [
    "Concatenation of strings with the + operator.  \n",
    "What is concatenation? It is the process of joining two strings together.  \n",
    "This is a common operation in programming."
   ]
  },
  {
   "cell_type": "code",
   "execution_count": 51,
   "metadata": {},
   "outputs": [
    {
     "name": "stdout",
     "output_type": "stream",
     "text": [
      "11\n",
      "Hello, Python!Hello, Python!\n",
      "Hello, Python! random string Hello, Python!\n"
     ]
    }
   ],
   "source": [
    "print(string + string)\n",
    "print(string2 + string2)\n",
    "print(string2 + \" \" + \"random string\" + \" \" + string2) # concatenation of strings and variables"
   ]
  },
  {
   "cell_type": "markdown",
   "metadata": {},
   "source": [
    "``type()`` is used to check the data type of a variable.  \n",
    "Data types are important in programming.  \n",
    "They tell the computer how to interpret the data.  \n",
    "Python is a dynamically typed language, meaning you don't have to declare the data type of a variable.  \n",
    "The interpreter will figure it out based on the value assigned to the variable.  \n",
    "This is different from statically typed languages like C++ or Java.  \n",
    "In those languages, you have to declare the data type of a variable before using it."
   ]
  },
  {
   "cell_type": "code",
   "execution_count": 62,
   "metadata": {},
   "outputs": [
    {
     "name": "stdout",
     "output_type": "stream",
     "text": [
      "<class 'str'> 1\n",
      "<class 'int'> 1\n",
      "\n",
      "True\n",
      "\n",
      "1 True\n",
      "0 False\n"
     ]
    }
   ],
   "source": [
    "x = int(string)  # convert a string to an integer\n",
    "print(type(string), string) # print the type and value of the variable\n",
    "print(type(x), x) # print the type and value of the variable\n",
    "print() # print a blank line, helps with readability when there are multiple print statements\n",
    "\n",
    "int2 = 1\n",
    "print(bool(int2))  # convert an integer to a boolean inside the print function instead of storing it in a variable\n",
    "print() # print a blank line\n",
    "\n",
    "bool1 = True\n",
    "bool2 = False\n",
    "print(int(bool1), bool1)  # convert a boolean to an integer\n",
    "print(int(bool2), bool2)"
   ]
  },
  {
   "cell_type": "markdown",
   "metadata": {},
   "source": [
    "# 1.2 Basic Operators"
   ]
  },
  {
   "cell_type": "markdown",
   "metadata": {},
   "source": [
    "### 1.2.1 Arithmetic Operators\n",
    "\n",
    "These operators perform mathematical calculations.\n",
    "\n",
    "| Operator | Operation           | Example | Result |\n",
    "|----------|---------------------|---------|--------|\n",
    "| +        | Addition            | 2 + 3   | 5      |\n",
    "| -        | Subtraction         | 7 - 4   | 3      |\n",
    "| *        | Multiplication      | 6 * 3   | 18     |\n",
    "| /        | Division            | 10 / 2  | 5.0    |\n",
    "| //       | Floor Division      | 10 / 3  | 3.0    |\n",
    "| %        | Modulus (Remainder) | 10 % 3  | 1      |\n",
    "| **       | Exponentiation      | 2 ** 3  | 8      |"
   ]
  },
  {
   "cell_type": "code",
   "execution_count": 25,
   "metadata": {},
   "outputs": [
    {
     "name": "stdout",
     "output_type": "stream",
     "text": [
      "5\n",
      "-1\n",
      "6\n",
      "5.0\n",
      "3\n",
      "1\n",
      "8\n"
     ]
    }
   ],
   "source": [
    "print(2 + 3) # Addition\n",
    "print(2 - 3) # Subtraction\n",
    "print(2 * 3) # Multiplication\n",
    "print(10 / 2) # Division (will always give a float)\n",
    "print(10 // 3) # Floor Division (rounded down to nearest integer)\n",
    "print(10 % 3) # Modulus (remainder)\n",
    "print(2 ** 3) # Exponentiation"
   ]
  },
  {
   "cell_type": "markdown",
   "metadata": {},
   "source": [
    "### 1.2.2 Assignment Operators\n",
    "\n",
    "Used to assign and modify the value of a variable.  \n",
    "+=: Adds the value to the variable's value.  \n",
    "-=: Subtracts the value from the variable's value.  \n",
    "*=: Multiplies the current value by the variable's value.  \n",
    "/=: Divides the current value by the variable's value.  \n",
    "//=: Performs floor division on the variable's value.  \n",
    "%=: Sets the variable to the remainder of the division of the variable's value.  \n",
    "**=: Raises the current value to the power of the variable's value.  \n",
    "\n",
    "| Operator | Operation                 | Example | Equivalent To  |\n",
    "|----------|---------------------------|---------|----------------|\n",
    "| =        | Assignment                | x = 14  | Assign 14 to x |\n",
    "| +=       | Addition Assignment       | x += 49 | x = x + 49     |\n",
    "| -=       | Subtraction Assignment    | x -= 12 | x = x - 12     |\n",
    "| *=       | Multiplication Assignment | x *= 54 | x = x * 54     |\n",
    "| /=       | Division Assignment       | x /= 2  | x = x / 2      |\n",
    "| //=      | Floor Division Assignment | x //= 3 | x = x // 3     |\n",
    "| %=       | Modulus Assignment        | x %= 4  | x = x % 4      |\n",
    "| **=      | Exponentiation Assignment | x **= 9 | x = x ** 9     |"
   ]
  },
  {
   "cell_type": "code",
   "execution_count": 44,
   "metadata": {},
   "outputs": [
    {
     "name": "stdout",
     "output_type": "stream",
     "text": [
      "14\n",
      "63\n",
      "51\n",
      "2754\n",
      "1377.0\n",
      "459.0\n",
      "3.0\n",
      "19683.0\n"
     ]
    }
   ],
   "source": [
    "x = 14\n",
    "print(x) # x is 14\n",
    "\n",
    "x += 49\n",
    "print(x) # add 49 to x(14) and store the result in x(63)\n",
    "\n",
    "x -= 12\n",
    "print(x) # subtract 12 from x(63) and store the result in x(51)\n",
    "\n",
    "x *= 54\n",
    "print(x) # multiply x(51) by 54 and store the result in x(2754)\n",
    "\n",
    "x /= 2\n",
    "print(x) # divide x(2754) by 2 and store the result in x(1377.0)\n",
    "\n",
    "x //= 3\n",
    "print(x) # floor divide x(1377.0) by 3 and store the result in x(459.0)\n",
    "\n",
    "x %= 4\n",
    "print(x) # modulus x(459.0) by 4 and store the result in x(3)\n",
    "\n",
    "x **= 9\n",
    "print(x) # exponentiate x(0) by 2 and store the result in x(19683.0)"
   ]
  },
  {
   "cell_type": "markdown",
   "metadata": {},
   "source": [
    "### 1.2.3 Comparison Operators\n",
    "\n",
    "``==``: checks if two values are equal. Returns ``True`` if both values are the same, and ``False`` otherwise.  \n",
    "``!=``: checks if two values are not equal. Returns ``True`` if the values are different, and ``False`` if they are the same.  \n",
    "``>``: checks if the value on the left is greater than the value on the right. Returns ``True`` if the left value is greater, and ``False`` otherwise.  \n",
    "``<``: checks if the value on the left is less than the value on the right. Returns ``True`` if the left value is smaller, and ``False`` otherwise.  \n",
    "``>=``: checks if the value on the left is greater than or equal to the value on the right. Returns ``True`` if the left value is greater or equal, and ``False`` otherwise.  \n",
    "``<=``: checks if the value on the left is less than or equal to the value on the right. Returns ``True`` if the left value is smaller or equal, and ``False`` otherwise.  \n",
    "\n",
    "| Operator | Operation        | Example | Result |\n",
    "|----------|------------------|---------|--------|\n",
    "| ==       | Equal            | 5 == 5  | True   |\n",
    "| !=       | Not Equal        | 5 != 3  | True   |\n",
    "| >\t       | Greater Than     | 7 > 5   | True   |\n",
    "| <\t       | Less Than        | 3 < 4   | True   |\n",
    "| >=       | Greater or Equal | 6 >= 6  | True   |\n",
    "| <=       | Less or Equal    | 4 <= 5  | True   |"
   ]
  },
  {
   "cell_type": "code",
   "execution_count": 74,
   "metadata": {},
   "outputs": [
    {
     "name": "stdout",
     "output_type": "stream",
     "text": [
      "True\n",
      "False\n",
      "\n",
      "True\n",
      "True\n",
      "\n",
      "True\n",
      "\n",
      "True\n",
      "\n",
      "True\n",
      "\n",
      "True\n"
     ]
    }
   ],
   "source": [
    "# Example: Equal\n",
    "# note: two different types will not be equal\n",
    "a = 5\n",
    "b = 5\n",
    "c = \"5\"\n",
    "print(a == b)  # Output will be True because both are 5\n",
    "print(a == c)  # Output will be False because 5 is not equal to \"5\"\n",
    "print() # print a blank line\n",
    "\n",
    "\n",
    "# Example: Not Equal\n",
    "# note: two different types will not be equal\n",
    "a = 5\n",
    "b = 3\n",
    "c = \"5\"\n",
    "print(a != b)  # Output will be True because 5 is not equal to 3\n",
    "print(a != c)  # Output will be True because 5 is not equal to \"5\", different types\n",
    "print() # print a blank line\n",
    "\n",
    "\n",
    "# Example: Greater Than\n",
    "a = 7\n",
    "b = 5\n",
    "print(a > b)  # Output will be True because 7 is greater than 5\n",
    "print() # print a blank line\n",
    "\n",
    "\n",
    "# Example: Less Than\n",
    "a = 3\n",
    "b = 4\n",
    "print(a < b)  # Output will be True because 3 is less than 4\n",
    "print() # print a blank line\n",
    "\n",
    "\n",
    "# Example: Greater or Equal\n",
    "a = 6\n",
    "b = 6\n",
    "print(a >= b)  # Output will be True because 6 is equal to 6\n",
    "print() # print a blank line\n",
    "\n",
    "\n",
    "# Example: Less or Equal\n",
    "a = 4\n",
    "b = 5\n",
    "print(a <= b)  # Output will be True because 4 is less than 5"
   ]
  },
  {
   "cell_type": "markdown",
   "metadata": {},
   "source": [
    "### 1.2.4 Logical Operators\n",
    "\n",
    "``and``: Returns ``True`` if both operands are ``True``, otherwise returns ``False``.  \n",
    "``or``: Returns ``True`` if at least one operand is ``True``, otherwise returns ``False``.  \n",
    "``not``: Negates (reverses, opposite) the boolean value of the operand. If the operand is ``True``, it returns ``False``, and if it is ``False``, it returns ``True``.  \n",
    "\n",
    "| Operator | Operation                      | Example             | Result |\n",
    "|----------|--------------------------------|---------------------|--------|\n",
    "| and      | True if both are True          | (5 > 3) and (4 > 2) | True   |\n",
    "| or       | True if at least one is True   | (5 > 7) or (4 > 2)  | True   |\n",
    "| not      | Inverts the result             | not (5 > 3)         | False  |"
   ]
  },
  {
   "cell_type": "code",
   "execution_count": 66,
   "metadata": {},
   "outputs": [
    {
     "name": "stdout",
     "output_type": "stream",
     "text": [
      "True\n",
      "True\n",
      "False\n"
     ]
    }
   ],
   "source": [
    "print((5 > 3) and (4 > 2)) # (True) and (True) = True\n",
    "print((5 > 7) or (4 > 2)) # (False) or (True) = True\n",
    "print(not (5 > 3)) # not (True) = False"
   ]
  },
  {
   "cell_type": "markdown",
   "metadata": {},
   "source": [
    "# 2. Data Structures"
   ]
  },
  {
   "cell_type": "code",
   "execution_count": 10,
   "metadata": {},
   "outputs": [
    {
     "name": "stdout",
     "output_type": "stream",
     "text": [
      "1\n",
      "[2, 3, 4]\n"
     ]
    }
   ],
   "source": [
    "# Lists, indexing, slicing\n",
    "my_list = [1, 2, 3, 4, 5]\n",
    "print(my_list[0])  # Accessing elements by index\n",
    "print(my_list[1:4])  # Slicing a list"
   ]
  },
  {
   "cell_type": "code",
   "execution_count": 11,
   "metadata": {},
   "outputs": [
    {
     "name": "stdout",
     "output_type": "stream",
     "text": [
      "1\n"
     ]
    }
   ],
   "source": [
    "# Tuples and their immutability\n",
    "my_tuple = (1, 2, 3, 4, 5)\n",
    "print(my_tuple[0])  # Accessing elements by index (similar to lists)"
   ]
  },
  {
   "cell_type": "code",
   "execution_count": 12,
   "metadata": {},
   "outputs": [
    {
     "name": "stdout",
     "output_type": "stream",
     "text": [
      "Alice\n"
     ]
    }
   ],
   "source": [
    "# Dictionaries and key-value pairs\n",
    "person = {\"name\": \"Alice\", \"age\": 30, \"city\": \"New York\"}\n",
    "print(person[\"name\"])  # Accessing values using keys"
   ]
  },
  {
   "cell_type": "code",
   "execution_count": 13,
   "metadata": {},
   "outputs": [
    {
     "name": "stdout",
     "output_type": "stream",
     "text": [
      "{1, 2, 3, 4, 5}\n"
     ]
    }
   ],
   "source": [
    "# Sets for unique values\n",
    "my_set = {1, 2, 2, 3, 4, 4, 5, 5}\n",
    "print(my_set)  # Sets automatically remove duplicate values"
   ]
  },
  {
   "cell_type": "code",
   "execution_count": 14,
   "metadata": {},
   "outputs": [
    {
     "data": {
      "text/plain": [
       "5"
      ]
     },
     "execution_count": 14,
     "metadata": {},
     "output_type": "execute_result"
    }
   ],
   "source": [
    "# More operations on data structures\n",
    "# Lists\n",
    "my_list.append(6)  # Adding an element to a list\n",
    "my_list.remove(2)  # Removing an element from a list\n",
    "len(my_list)  # Finding the length of a list"
   ]
  },
  {
   "cell_type": "code",
   "execution_count": 15,
   "metadata": {},
   "outputs": [
    {
     "data": {
      "text/plain": [
       "5"
      ]
     },
     "execution_count": 15,
     "metadata": {},
     "output_type": "execute_result"
    }
   ],
   "source": [
    "# Tuples\n",
    "len(my_tuple)  # Finding the length of a tuple"
   ]
  },
  {
   "cell_type": "code",
   "execution_count": 16,
   "metadata": {},
   "outputs": [
    {
     "data": {
      "text/plain": [
       "False"
      ]
     },
     "execution_count": 16,
     "metadata": {},
     "output_type": "execute_result"
    }
   ],
   "source": [
    "# Dictionaries\n",
    "person[\"occupation\"] = \"Engineer\"  # Adding a new key-value pair\n",
    "del person[\"age\"]  # Deleting a key-value pair\n",
    "\"age\" in person  # Checking if a key exists in the dictionary"
   ]
  },
  {
   "cell_type": "code",
   "execution_count": 17,
   "metadata": {},
   "outputs": [
    {
     "data": {
      "text/plain": [
       "5"
      ]
     },
     "execution_count": 17,
     "metadata": {},
     "output_type": "execute_result"
    }
   ],
   "source": [
    "# Sets\n",
    "my_set.add(6)  # Adding an element to a set\n",
    "my_set.remove(3)  # Removing an element from a set\n",
    "len(my_set)  # Finding the size of a set"
   ]
  },
  {
   "cell_type": "code",
   "execution_count": 18,
   "metadata": {},
   "outputs": [
    {
     "name": "stdout",
     "output_type": "stream",
     "text": [
      "1\n",
      "3\n",
      "4\n",
      "5\n",
      "6\n",
      "name: Alice\n",
      "city: New York\n",
      "occupation: Engineer\n",
      "1\n",
      "2\n",
      "4\n",
      "5\n",
      "6\n"
     ]
    }
   ],
   "source": [
    "# Iterating through data structures, preview to for loops\n",
    "for item in my_list:\n",
    "    print(item)\n",
    "\n",
    "for key, value in person.items():\n",
    "    print(f\"{key}: {value}\")\n",
    "\n",
    "for number in my_set:\n",
    "    print(number)"
   ]
  },
  {
   "cell_type": "code",
   "execution_count": 19,
   "metadata": {},
   "outputs": [],
   "source": [
    "# Converting between data structures\n",
    "my_list = [1, 2, 3, 4, 5]\n",
    "my_tuple = tuple(my_list)  # Converting a list to a tuple\n",
    "new_list = list(my_tuple)  # Converting a tuple to a list\n",
    "my_set = set(my_list)  # Converting a list to a set"
   ]
  },
  {
   "cell_type": "code",
   "execution_count": 20,
   "metadata": {},
   "outputs": [
    {
     "name": "stdout",
     "output_type": "stream",
     "text": [
      "Alice\n"
     ]
    }
   ],
   "source": [
    "# Nested data structures, not easy. try to focus\n",
    "nested_dict = {\"person1\": {\"name\": \"Alice\", \"age\": 30}, \"person2\": {\"name\": \"Bob\", \"age\": 25}}\n",
    "print(nested_dict[\"person1\"][\"name\"])  # Accessing nested dictionary values"
   ]
  },
  {
   "cell_type": "markdown",
   "metadata": {},
   "source": [
    "# 3. Flow Control"
   ]
  },
  {
   "cell_type": "code",
   "execution_count": 21,
   "metadata": {},
   "outputs": [
    {
     "name": "stdout",
     "output_type": "stream",
     "text": [
      "x is less than 5\n"
     ]
    }
   ],
   "source": [
    "# Conditional statements (if, elif, else)\n",
    "if x > 5:\n",
    "    print(\"x is greater than 5\")\n",
    "elif x == 5:\n",
    "    print(\"x is equal to 5\")\n",
    "else:\n",
    "    print(\"x is less than 5\")"
   ]
  },
  {
   "cell_type": "code",
   "execution_count": 22,
   "metadata": {},
   "outputs": [
    {
     "name": "stdout",
     "output_type": "stream",
     "text": [
      "1\n",
      "2\n",
      "3\n",
      "4\n",
      "5\n",
      "1\n",
      "abracadabra\n",
      "0\n"
     ]
    }
   ],
   "source": [
    "# Loops (for loops and while loops)\n",
    "for i in range(1, 6):\n",
    "    print(i)\n",
    "\n",
    "while x >= 1:\n",
    "    print(x)\n",
    "    print(\"abracadabra\")\n",
    "    x -= 1\n",
    "    print(x)"
   ]
  },
  {
   "cell_type": "code",
   "execution_count": 23,
   "metadata": {},
   "outputs": [
    {
     "name": "stdout",
     "output_type": "stream",
     "text": [
      "0\n",
      "10\n",
      "20\n",
      "30\n",
      "40\n"
     ]
    }
   ],
   "source": [
    "# Using range() for iteration\n",
    "num1 = range(0, 100, 10)  # Range.. start, stop is exclusive, and step\n",
    "for i in num1:\n",
    "    if i == 50:\n",
    "        break\n",
    "    print(i)"
   ]
  },
  {
   "cell_type": "code",
   "execution_count": 24,
   "metadata": {},
   "outputs": [
    {
     "name": "stdout",
     "output_type": "stream",
     "text": [
      "[0, 2, 4, 6, 8, 10, 12, 14, 16, 18]\n",
      "[1, 3, 5, 7, 9, 11, 13, 15, 17, 19]\n"
     ]
    }
   ],
   "source": [
    "# Separating even and odd numbers\n",
    "x1 = []\n",
    "x2 = []\n",
    "for num in range(20): # range gives you 20 elements, from 0 to 19. think of range(0,20,1)\n",
    "    if num % 2 == 0:\n",
    "        x1.append(num)\n",
    "    else:\n",
    "        x2.append(num)\n",
    "\n",
    "print(x1)\n",
    "print(x2)"
   ]
  },
  {
   "cell_type": "code",
   "execution_count": 25,
   "metadata": {},
   "outputs": [
    {
     "name": "stdout",
     "output_type": "stream",
     "text": [
      "The word at index 0 is yo\n",
      "The word at index 1 is patate\n",
      "The word at index 2 is cheese\n",
      "The word at index 0 is yo\n",
      "The word at index 1 is patate\n",
      "The word at index 2 is cheese\n"
     ]
    }
   ],
   "source": [
    "l3 = [\"yo\", \"patate\", \"cheese\"]\n",
    "len(l3)  # Finding the length of a list\n",
    "l3[-1]  # Accessing the last element of a list with negative indexing\n",
    "\n",
    "# using range(len()) vs Enumerating a list\n",
    "for idx in range(len(l3)):\n",
    "    print(f\"The word at index {idx} is {l3[idx]}\") \n",
    "\n",
    "for idx, word in enumerate(l3):\n",
    "    print(f\"The word at index {idx} is {word}\")"
   ]
  },
  {
   "cell_type": "markdown",
   "metadata": {},
   "source": [
    "# 4. Functions"
   ]
  },
  {
   "cell_type": "code",
   "execution_count": 26,
   "metadata": {},
   "outputs": [
    {
     "name": "stdout",
     "output_type": "stream",
     "text": [
      "This is an example function.\n"
     ]
    }
   ],
   "source": [
    "# Defining and calling functions\n",
    "def example_function():\n",
    "    return \"This is an example function.\"\n",
    "\n",
    "result = example_function()  # Calling the function\n",
    "print(result)"
   ]
  },
  {
   "cell_type": "code",
   "execution_count": 27,
   "metadata": {},
   "outputs": [
    {
     "name": "stdout",
     "output_type": "stream",
     "text": [
      "Hello, Alice!\n",
      "8\n"
     ]
    }
   ],
   "source": [
    "# Parameters and arguments\n",
    "def greet(name):\n",
    "    return f\"Hello, {name}!\"\n",
    "\n",
    "greeting = greet(\"Alice\")  # Passing an argument to the function\n",
    "print(greeting)\n",
    "\n",
    "# Return statements\n",
    "def add(x, y):\n",
    "    return x + y\n",
    "\n",
    "result = add(3, 5)\n",
    "print(result)"
   ]
  },
  {
   "cell_type": "markdown",
   "metadata": {},
   "source": [
    "# 5. Introduction to OOP"
   ]
  },
  {
   "cell_type": "markdown",
   "metadata": {},
   "source": [
    "### (Object Oriented Programming)"
   ]
  },
  {
   "cell_type": "code",
   "execution_count": 28,
   "metadata": {},
   "outputs": [],
   "source": [
    "# Classes and objects\n",
    "\n",
    "class Dog:\n",
    "    def __init__(self, name, breed):\n",
    "        self.name = name\n",
    "        self.breed = breed\n",
    "\n",
    "    def bark(self):\n",
    "        return f\"{self.name} the {self.breed} is barking.\""
   ]
  },
  {
   "cell_type": "code",
   "execution_count": 29,
   "metadata": {},
   "outputs": [
    {
     "name": "stdout",
     "output_type": "stream",
     "text": [
      "Fido the Labrador is barking.\n",
      "Buddy the Golden Retriever is barking.\n"
     ]
    }
   ],
   "source": [
    "# Creating objects aka instantiation\n",
    "dog1 = Dog(\"Fido\", \"Labrador\")\n",
    "dog2 = Dog(\"Buddy\", \"Golden Retriever\")\n",
    "\n",
    "print(dog1.bark())\n",
    "print(dog2.bark())"
   ]
  },
  {
   "cell_type": "code",
   "execution_count": 30,
   "metadata": {},
   "outputs": [],
   "source": [
    "class Rectangle:\n",
    "    def __init__(self, width, height):\n",
    "        self.width = width\n",
    "        self.height = height\n",
    "\n",
    "    def area(self):\n",
    "        return self.width * self.height"
   ]
  },
  {
   "cell_type": "code",
   "execution_count": 31,
   "metadata": {},
   "outputs": [],
   "source": [
    "# Creating objects from the Rectangle class\n",
    "rect1 = Rectangle(4, 6)\n",
    "rect2 = Rectangle(3, 8)"
   ]
  },
  {
   "cell_type": "code",
   "execution_count": 32,
   "metadata": {},
   "outputs": [
    {
     "name": "stdout",
     "output_type": "stream",
     "text": [
      "Area of Rectangle 1: 24\n",
      "Area of Rectangle 2: 24\n"
     ]
    }
   ],
   "source": [
    "# Calculating and printing the areas of the rectangles\n",
    "print(\"Area of Rectangle 1:\", rect1.area())  # Output: Area of Rectangle 1: 24\n",
    "print(\"Area of Rectangle 2:\", rect2.area())  # Output: Area of Rectangle 2: 24"
   ]
  },
  {
   "cell_type": "code",
   "execution_count": 33,
   "metadata": {},
   "outputs": [],
   "source": [
    "# Attributes and methods\n",
    "\n",
    "class Circle:\n",
    "    def __init__(self, radius):\n",
    "        self.radius = radius\n",
    "\n",
    "    def area(self):\n",
    "        return 3.14 * self.radius * self.radius\n",
    "\n",
    "    def circumference(self):\n",
    "        return 2 * 3.14 * self.radius"
   ]
  },
  {
   "cell_type": "code",
   "execution_count": 34,
   "metadata": {},
   "outputs": [],
   "source": [
    "# Creating a Circle object\n",
    "circle = Circle(5)"
   ]
  },
  {
   "cell_type": "code",
   "execution_count": 35,
   "metadata": {},
   "outputs": [
    {
     "name": "stdout",
     "output_type": "stream",
     "text": [
      "Radius of the circle: 5\n",
      "Area of the circle: 78.5\n",
      "Circumference of the circle: 31.400000000000002\n"
     ]
    }
   ],
   "source": [
    "# Accessing attributes and calling methods\n",
    "print(\"Radius of the circle:\", circle.radius)  # Output: Radius of the circle: 5\n",
    "print(\"Area of the circle:\", circle.area())  # Output: Area of the circle: 78.5\n",
    "print(\"Circumference of the circle:\", circle.circumference())  # Output: Circumference of the circle: 31.4"
   ]
  },
  {
   "cell_type": "code",
   "execution_count": 36,
   "metadata": {},
   "outputs": [],
   "source": [
    "# Constructors and inheritance\n",
    "\n",
    "class Vehicle:\n",
    "    def __init__(self, make, model):\n",
    "        self.make = make\n",
    "        self.model = model\n",
    "\n",
    "    def description(self):\n",
    "        return f\"This is a {self.make} {self.model}.\""
   ]
  },
  {
   "cell_type": "code",
   "execution_count": 37,
   "metadata": {},
   "outputs": [],
   "source": [
    "# Creating a derived class Car that inherits from Vehicle\n",
    "class Car(Vehicle):\n",
    "    def __init__(self, make, model, year):\n",
    "        super().__init__(make, model)\n",
    "        self.year = year\n",
    "\n",
    "    def description(self):\n",
    "        return f\"This is a {self.year} {self.make} {self.model}.\""
   ]
  },
  {
   "cell_type": "code",
   "execution_count": 38,
   "metadata": {},
   "outputs": [],
   "source": [
    "# Creating objects from both classes\n",
    "vehicle = Vehicle(\"Ford\", \"F-150\")\n",
    "car = Car(\"Toyota\", \"Camry\", 2022)"
   ]
  },
  {
   "cell_type": "code",
   "execution_count": 39,
   "metadata": {},
   "outputs": [
    {
     "name": "stdout",
     "output_type": "stream",
     "text": [
      "This is a Ford F-150.\n",
      "This is a 2022 Toyota Camry.\n"
     ]
    }
   ],
   "source": [
    "# Calling the description method for both objects\n",
    "print(vehicle.description())  # Output: This is a Ford F-150.\n",
    "print(car.description())  # Output: This is a 2022 Toyota Camry."
   ]
  },
  {
   "cell_type": "markdown",
   "metadata": {},
   "source": [
    "# 6. Modules and Libraries"
   ]
  },
  {
   "cell_type": "code",
   "execution_count": 40,
   "metadata": {},
   "outputs": [
    {
     "name": "stdout",
     "output_type": "stream",
     "text": [
      "4.0\n",
      "5\n"
     ]
    }
   ],
   "source": [
    "# Importing modules and using functions from them\n",
    "import math\n",
    "print(math.sqrt(16))\n",
    "\n",
    "import random\n",
    "print(random.randint(1, 10))"
   ]
  },
  {
   "cell_type": "code",
   "execution_count": 41,
   "metadata": {},
   "outputs": [
    {
     "name": "stdout",
     "output_type": "stream",
     "text": [
      "Square root of 16 is 4.0\n"
     ]
    }
   ],
   "source": [
    "# Example 1: Using the math module for mathematical operations\n",
    "import math\n",
    "\n",
    "# Calculating the square root of a number\n",
    "number = 16\n",
    "sqrt_result = math.sqrt(number)\n",
    "print(f\"Square root of {number} is {sqrt_result}\")  # Output: Square root of 16 is 4.0"
   ]
  },
  {
   "cell_type": "code",
   "execution_count": 42,
   "metadata": {},
   "outputs": [
    {
     "name": "stdout",
     "output_type": "stream",
     "text": [
      "Approximate value of pi: 3.141592653589793, rounded: 3\n"
     ]
    }
   ],
   "source": [
    "# Rounding a number to the nearest integer\n",
    "pi_approx = math.pi\n",
    "rounded_pi = round(pi_approx)\n",
    "print(f\"Approximate value of pi: {pi_approx}, rounded: {rounded_pi}\")"
   ]
  },
  {
   "cell_type": "code",
   "execution_count": 43,
   "metadata": {},
   "outputs": [
    {
     "name": "stdout",
     "output_type": "stream",
     "text": [
      "Random number: 5\n"
     ]
    }
   ],
   "source": [
    "# Example 2: Using the random module for random number generation\n",
    "import random\n",
    "\n",
    "# Generating a random integer between 1 and 10 (inclusive)\n",
    "random_number = random.randint(1, 10)\n",
    "print(f\"Random number: {random_number}\")"
   ]
  },
  {
   "cell_type": "code",
   "execution_count": 44,
   "metadata": {},
   "outputs": [
    {
     "name": "stdout",
     "output_type": "stream",
     "text": [
      "Shuffled list: [3, 2, 1, 4, 5]\n"
     ]
    }
   ],
   "source": [
    "# Shuffling a list\n",
    "my_list = [1, 2, 3, 4, 5]\n",
    "random.shuffle(my_list)\n",
    "print(f\"Shuffled list: {my_list}\")"
   ]
  },
  {
   "cell_type": "code",
   "execution_count": 45,
   "metadata": {},
   "outputs": [
    {
     "name": "stdout",
     "output_type": "stream",
     "text": [
      "Elapsed time: 0.0 seconds\n"
     ]
    }
   ],
   "source": [
    "# Example 3: Using the time module for timing code execution\n",
    "import time\n",
    "\n",
    "# Measuring the time it takes to run a piece of code\n",
    "start_time = time.time()\n",
    "# Code to be timed\n",
    "end_time = time.time()\n",
    "elapsed_time = end_time - start_time\n",
    "print(f\"Elapsed time: {elapsed_time} seconds\")"
   ]
  },
  {
   "cell_type": "code",
   "execution_count": 46,
   "metadata": {},
   "outputs": [
    {
     "name": "stdout",
     "output_type": "stream",
     "text": [
      "Status code: 200\n",
      "Content length: 1256\n"
     ]
    }
   ],
   "source": [
    "# Example 4: Using external libraries (requests) for web requests\n",
    "import requests\n",
    "\n",
    "# Making an HTTP GET request\n",
    "response = requests.get(\"https://www.example.com\")\n",
    "print(\"Status code:\", response.status_code)\n",
    "print(\"Content length:\", len(response.text))"
   ]
  },
  {
   "cell_type": "code",
   "execution_count": 47,
   "metadata": {},
   "outputs": [
    {
     "name": "stdout",
     "output_type": "stream",
     "text": [
      "Script name: c:\\Users\\Zed\\AppData\\Local\\Programs\\Python\\Python311\\Lib\\site-packages\\ipykernel_launcher.py\n",
      "Command-line arguments: ['--ip=127.0.0.1', '--stdin=9008', '--control=9006', '--hb=9005', '--Session.signature_scheme=\"hmac-sha256\"', '--Session.key=b\"df5e3aaf-2b39-4f68-a794-5d51ad6d6500\"', '--shell=9007', '--transport=\"tcp\"', '--iopub=9009', '--f=c:\\\\Users\\\\Zed\\\\AppData\\\\Roaming\\\\jupyter\\\\runtime\\\\kernel-v2-20384usOQluIq3O4F.json']\n"
     ]
    }
   ],
   "source": [
    "# Example 5: Using the sys module for command-line arguments\n",
    "import sys\n",
    "\n",
    "# Accessing command-line arguments\n",
    "script_name = sys.argv[0]\n",
    "arguments = sys.argv[1:]\n",
    "print(f\"Script name: {script_name}\")\n",
    "print(f\"Command-line arguments: {arguments}\")\n",
    "\n",
    "# Note: The sys module's argv feature is used when running Python scripts from the command line."
   ]
  },
  {
   "cell_type": "code",
   "execution_count": 48,
   "metadata": {},
   "outputs": [
    {
     "name": "stdout",
     "output_type": "stream",
     "text": [
      "Hello from my_module!\n",
      "This is a variable from my_module.\n"
     ]
    }
   ],
   "source": [
    "# Example 6: Using a custom module\n",
    "import my_module\n",
    "\n",
    "# Accessing functions and variables from the custom module\n",
    "my_module.my_function()\n",
    "print(my_module.my_variable)"
   ]
  },
  {
   "cell_type": "code",
   "execution_count": 49,
   "metadata": {},
   "outputs": [
    {
     "data": {
      "text/plain": [
       "'\\npython main_script.py\\npython my_module.py\\n\\n'"
      ]
     },
     "execution_count": 49,
     "metadata": {},
     "output_type": "execute_result"
    }
   ],
   "source": [
    "# Example 7: Run terminal commands\n",
    "\n",
    "# execute these codes one after the other in your terminal without the docstring, spot the difference\n",
    "\"\"\"\n",
    "python main_script.py\n",
    "python my_module.py\n",
    "\n",
    "\"\"\" "
   ]
  },
  {
   "cell_type": "code",
   "execution_count": null,
   "metadata": {},
   "outputs": [],
   "source": []
  }
 ],
 "metadata": {
  "kernelspec": {
   "display_name": "Python 3",
   "language": "python",
   "name": "python3"
  },
  "language_info": {
   "codemirror_mode": {
    "name": "ipython",
    "version": 3
   },
   "file_extension": ".py",
   "mimetype": "text/x-python",
   "name": "python",
   "nbconvert_exporter": "python",
   "pygments_lexer": "ipython3",
   "version": "3.13.0"
  },
  "orig_nbformat": 4
 },
 "nbformat": 4,
 "nbformat_minor": 2
}
