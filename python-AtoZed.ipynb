{
 "cells": [
  {
   "cell_type": "markdown",
   "metadata": {},
   "source": [
    "### INTRO:\n",
    "\n",
    "1. Basic Syntax:\n",
    "* Printing output with print().\n",
    "* Commenting code with #.\n",
    "* Multiline comment: the docstring \"\"\" \"\"\"\n",
    "* Indentation and code blocks.  \n",
    "* Variables and Data types (integers, floats, strings, booleans) \n",
    "* Basic Variables operations with arithmetic and concatenation\n",
    "\n",
    "\n",
    "2. Data Structures:\n",
    "* Lists, indexing, slicing.\n",
    "* Tuples and their immutability.\n",
    "* Dictionaries and key-value pairs.\n",
    "* Sets for unique values.  \n",
    "\n",
    "\n",
    "3. Control Flow:\n",
    "* Conditional statements (if, elif, else).\n",
    "* Loops (for loops and while loops).\n",
    "* Using range() for iteration.  \n",
    "\n",
    "\n",
    "4. Functions:\n",
    "* Defining and calling functions.\n",
    "* Parameters and arguments.\n",
    "* Return statements.\n",
    "\n",
    "### EXTRA:\n",
    "\n",
    "5. Introduction to OOP (Object-Oriented Programming):\n",
    "* Classes and objects.\n",
    "* Attributes and methods.\n",
    "* Constructors and inheritance (brief overview).  \n",
    "\n",
    "\n",
    "6. Modules and libraries:\n",
    "* Importing modules and using functions from them.\n",
    "* Introduction to commonly used libraries (e.g., math, random).\n",
    "* Intro to custom modules"
   ]
  },
  {
   "cell_type": "markdown",
   "metadata": {},
   "source": [
    "---------------------------------------------------------------------------------------------"
   ]
  },
  {
   "cell_type": "markdown",
   "metadata": {},
   "source": [
    "### INTRODUCTION TO PYTHON PROGRAMMING"
   ]
  },
  {
   "cell_type": "markdown",
   "metadata": {},
   "source": [
    "# 1. Basic Syntax"
   ]
  },
  {
   "cell_type": "code",
   "execution_count": 1,
   "metadata": {},
   "outputs": [
    {
     "name": "stdout",
     "output_type": "stream",
     "text": [
      "Hello World!\n"
     ]
    }
   ],
   "source": [
    "# Printing output with print()\n",
    "print(\"Hello World!\")"
   ]
  },
  {
   "cell_type": "code",
   "execution_count": 2,
   "metadata": {},
   "outputs": [
    {
     "name": "stdout",
     "output_type": "stream",
     "text": [
      "Click this link to read PEP 8: https://peps.python.org/pep-0008/\n"
     ]
    }
   ],
   "source": [
    "# Commenting code with #\n",
    "# For proper syntax references, check PEP 8: https://peps.python.org/pep-0008/\n",
    "pep8 = \"https://peps.python.org/pep-0008/\" # a string being assigned to a variable\n",
    "print(f\"Click this link to read PEP 8: {pep8}\") # example of an f-string"
   ]
  },
  {
   "cell_type": "code",
   "execution_count": 3,
   "metadata": {},
   "outputs": [
    {
     "name": "stdout",
     "output_type": "stream",
     "text": [
      "\n",
      "This is an example\n",
      "of a multiline comment,\n",
      "also called a docstring.\n",
      "\n"
     ]
    }
   ],
   "source": [
    "# Multiline comment, docstring\n",
    "doc = \"\"\"\n",
    "This is an example\n",
    "of a multiline comment,\n",
    "also called a docstring.\n",
    "\"\"\"\n",
    "\n",
    "print(doc)"
   ]
  },
  {
   "cell_type": "code",
   "execution_count": 4,
   "metadata": {},
   "outputs": [],
   "source": [
    "# Indentation and code blocks\n",
    "def example():\n",
    "    \"\"\"\n",
    "    This is an example\n",
    "    of a multiline comment,\n",
    "    also called a docstring.\n",
    "    \"\"\"\n",
    "    return \"yoyoyo\""
   ]
  },
  {
   "cell_type": "code",
   "execution_count": 5,
   "metadata": {},
   "outputs": [],
   "source": [
    "# Variables, data types (integers, floats, strings, booleans), \n",
    "string = \"1\"  # Example of a string\n",
    "integer = 10  # This is an integer\n",
    "f_loat = 12.4  # Example of a float\n",
    "done = False # This is a boolean"
   ]
  },
  {
   "cell_type": "code",
   "execution_count": 6,
   "metadata": {},
   "outputs": [
    {
     "data": {
      "text/plain": [
       "'11'"
      ]
     },
     "execution_count": 6,
     "metadata": {},
     "output_type": "execute_result"
    }
   ],
   "source": [
    "\n",
    "string + string  # String concatenation"
   ]
  },
  {
   "cell_type": "code",
   "execution_count": 7,
   "metadata": {},
   "outputs": [
    {
     "name": "stdout",
     "output_type": "stream",
     "text": [
      "<class 'str'>\n",
      "<class 'int'>\n",
      "True\n",
      "1\n",
      "0\n"
     ]
    }
   ],
   "source": [
    "# Converting data types\n",
    "x = int(string)  # Convert a string to an integer\n",
    "print(type(string))\n",
    "print(type(x))\n",
    "\n",
    "int2 = 1\n",
    "print(bool(int2))  # Convert an integer to a boolean\n",
    "\n",
    "bool1 = True\n",
    "bool2 = False\n",
    "print(int(bool1))  # Convert a boolean to an integer\n",
    "print(int(bool2))"
   ]
  },
  {
   "cell_type": "code",
   "execution_count": 8,
   "metadata": {},
   "outputs": [
    {
     "data": {
      "text/plain": [
       "100"
      ]
     },
     "execution_count": 8,
     "metadata": {},
     "output_type": "execute_result"
    }
   ],
   "source": [
    "# basic operations\n",
    "f_loat + integer  # Adding a float and an integer\n",
    "integer * 10  # Multiplying an integer by 10"
   ]
  },
  {
   "cell_type": "code",
   "execution_count": 9,
   "metadata": {},
   "outputs": [
    {
     "ename": "TypeError",
     "evalue": "unsupported operand type(s) for +: 'int' and 'str'",
     "output_type": "error",
     "traceback": [
      "\u001b[1;31m---------------------------------------------------------------------------\u001b[0m",
      "\u001b[1;31mTypeError\u001b[0m                                 Traceback (most recent call last)",
      "\u001b[1;32mc:\\Users\\Zed\\Desktop\\My Python Course\\python-AtoZed.ipynb Cell 13\u001b[0m line \u001b[0;36m1\n\u001b[1;32m----> <a href='vscode-notebook-cell:/c%3A/Users/Zed/Desktop/My%20Python%20Course/python-AtoZed.ipynb#X15sZmlsZQ%3D%3D?line=0'>1</a>\u001b[0m integer \u001b[39m+\u001b[39;49m string  \u001b[39m# Attempting to add an integer and a string, error\u001b[39;00m\n",
      "\u001b[1;31mTypeError\u001b[0m: unsupported operand type(s) for +: 'int' and 'str'"
     ]
    }
   ],
   "source": [
    "integer + string  # Attempting to add an integer and a string, error"
   ]
  },
  {
   "cell_type": "markdown",
   "metadata": {},
   "source": [
    "# 2. Data Structures"
   ]
  },
  {
   "cell_type": "code",
   "execution_count": 10,
   "metadata": {},
   "outputs": [
    {
     "name": "stdout",
     "output_type": "stream",
     "text": [
      "1\n",
      "[2, 3, 4]\n"
     ]
    }
   ],
   "source": [
    "# Lists, indexing, slicing\n",
    "my_list = [1, 2, 3, 4, 5]\n",
    "print(my_list[0])  # Accessing elements by index\n",
    "print(my_list[1:4])  # Slicing a list"
   ]
  },
  {
   "cell_type": "code",
   "execution_count": 11,
   "metadata": {},
   "outputs": [
    {
     "name": "stdout",
     "output_type": "stream",
     "text": [
      "1\n"
     ]
    }
   ],
   "source": [
    "# Tuples and their immutability\n",
    "my_tuple = (1, 2, 3, 4, 5)\n",
    "print(my_tuple[0])  # Accessing elements by index (similar to lists)"
   ]
  },
  {
   "cell_type": "code",
   "execution_count": 12,
   "metadata": {},
   "outputs": [
    {
     "name": "stdout",
     "output_type": "stream",
     "text": [
      "Alice\n"
     ]
    }
   ],
   "source": [
    "# Dictionaries and key-value pairs\n",
    "person = {\"name\": \"Alice\", \"age\": 30, \"city\": \"New York\"}\n",
    "print(person[\"name\"])  # Accessing values using keys"
   ]
  },
  {
   "cell_type": "code",
   "execution_count": 13,
   "metadata": {},
   "outputs": [
    {
     "name": "stdout",
     "output_type": "stream",
     "text": [
      "{1, 2, 3, 4, 5}\n"
     ]
    }
   ],
   "source": [
    "# Sets for unique values\n",
    "my_set = {1, 2, 2, 3, 4, 4, 5, 5}\n",
    "print(my_set)  # Sets automatically remove duplicate values"
   ]
  },
  {
   "cell_type": "code",
   "execution_count": 14,
   "metadata": {},
   "outputs": [
    {
     "data": {
      "text/plain": [
       "5"
      ]
     },
     "execution_count": 14,
     "metadata": {},
     "output_type": "execute_result"
    }
   ],
   "source": [
    "# More operations on data structures\n",
    "# Lists\n",
    "my_list.append(6)  # Adding an element to a list\n",
    "my_list.remove(2)  # Removing an element from a list\n",
    "len(my_list)  # Finding the length of a list"
   ]
  },
  {
   "cell_type": "code",
   "execution_count": 15,
   "metadata": {},
   "outputs": [
    {
     "data": {
      "text/plain": [
       "5"
      ]
     },
     "execution_count": 15,
     "metadata": {},
     "output_type": "execute_result"
    }
   ],
   "source": [
    "# Tuples\n",
    "len(my_tuple)  # Finding the length of a tuple"
   ]
  },
  {
   "cell_type": "code",
   "execution_count": 16,
   "metadata": {},
   "outputs": [
    {
     "data": {
      "text/plain": [
       "False"
      ]
     },
     "execution_count": 16,
     "metadata": {},
     "output_type": "execute_result"
    }
   ],
   "source": [
    "# Dictionaries\n",
    "person[\"occupation\"] = \"Engineer\"  # Adding a new key-value pair\n",
    "del person[\"age\"]  # Deleting a key-value pair\n",
    "\"age\" in person  # Checking if a key exists in the dictionary"
   ]
  },
  {
   "cell_type": "code",
   "execution_count": 17,
   "metadata": {},
   "outputs": [
    {
     "data": {
      "text/plain": [
       "5"
      ]
     },
     "execution_count": 17,
     "metadata": {},
     "output_type": "execute_result"
    }
   ],
   "source": [
    "# Sets\n",
    "my_set.add(6)  # Adding an element to a set\n",
    "my_set.remove(3)  # Removing an element from a set\n",
    "len(my_set)  # Finding the size of a set"
   ]
  },
  {
   "cell_type": "code",
   "execution_count": 18,
   "metadata": {},
   "outputs": [
    {
     "name": "stdout",
     "output_type": "stream",
     "text": [
      "1\n",
      "3\n",
      "4\n",
      "5\n",
      "6\n",
      "name: Alice\n",
      "city: New York\n",
      "occupation: Engineer\n",
      "1\n",
      "2\n",
      "4\n",
      "5\n",
      "6\n"
     ]
    }
   ],
   "source": [
    "# Iterating through data structures, preview to for loops\n",
    "for item in my_list:\n",
    "    print(item)\n",
    "\n",
    "for key, value in person.items():\n",
    "    print(f\"{key}: {value}\")\n",
    "\n",
    "for number in my_set:\n",
    "    print(number)"
   ]
  },
  {
   "cell_type": "code",
   "execution_count": 19,
   "metadata": {},
   "outputs": [],
   "source": [
    "# Converting between data structures\n",
    "my_list = [1, 2, 3, 4, 5]\n",
    "my_tuple = tuple(my_list)  # Converting a list to a tuple\n",
    "new_list = list(my_tuple)  # Converting a tuple to a list\n",
    "my_set = set(my_list)  # Converting a list to a set"
   ]
  },
  {
   "cell_type": "code",
   "execution_count": 20,
   "metadata": {},
   "outputs": [
    {
     "name": "stdout",
     "output_type": "stream",
     "text": [
      "Alice\n"
     ]
    }
   ],
   "source": [
    "# Nested data structures, not easy. try to focus\n",
    "nested_dict = {\"person1\": {\"name\": \"Alice\", \"age\": 30}, \"person2\": {\"name\": \"Bob\", \"age\": 25}}\n",
    "print(nested_dict[\"person1\"][\"name\"])  # Accessing nested dictionary values"
   ]
  },
  {
   "cell_type": "markdown",
   "metadata": {},
   "source": [
    "# 3. Control Flow"
   ]
  },
  {
   "cell_type": "code",
   "execution_count": 21,
   "metadata": {},
   "outputs": [
    {
     "name": "stdout",
     "output_type": "stream",
     "text": [
      "x is less than 5\n"
     ]
    }
   ],
   "source": [
    "# Conditional statements (if, elif, else)\n",
    "if x > 5:\n",
    "    print(\"x is greater than 5\")\n",
    "elif x == 5:\n",
    "    print(\"x is equal to 5\")\n",
    "else:\n",
    "    print(\"x is less than 5\")"
   ]
  },
  {
   "cell_type": "code",
   "execution_count": 22,
   "metadata": {},
   "outputs": [
    {
     "name": "stdout",
     "output_type": "stream",
     "text": [
      "1\n",
      "2\n",
      "3\n",
      "4\n",
      "5\n",
      "1\n",
      "abracadabra\n",
      "0\n"
     ]
    }
   ],
   "source": [
    "# Loops (for loops and while loops)\n",
    "for i in range(1, 6):\n",
    "    print(i)\n",
    "\n",
    "while x >= 1:\n",
    "    print(x)\n",
    "    print(\"abracadabra\")\n",
    "    x -= 1\n",
    "    print(x)"
   ]
  },
  {
   "cell_type": "code",
   "execution_count": 23,
   "metadata": {},
   "outputs": [
    {
     "name": "stdout",
     "output_type": "stream",
     "text": [
      "0\n",
      "10\n",
      "20\n",
      "30\n",
      "40\n"
     ]
    }
   ],
   "source": [
    "# Using range() for iteration\n",
    "num1 = range(0, 100, 10)  # Range.. start, stop is exclusive, and step\n",
    "for i in num1:\n",
    "    if i == 50:\n",
    "        break\n",
    "    print(i)"
   ]
  },
  {
   "cell_type": "code",
   "execution_count": 24,
   "metadata": {},
   "outputs": [
    {
     "name": "stdout",
     "output_type": "stream",
     "text": [
      "[0, 2, 4, 6, 8, 10, 12, 14, 16, 18]\n",
      "[1, 3, 5, 7, 9, 11, 13, 15, 17, 19]\n"
     ]
    }
   ],
   "source": [
    "# Separating even and odd numbers\n",
    "x1 = []\n",
    "x2 = []\n",
    "for num in range(20): # range gives you 20 elements, from 0 to 19. think of range(0,20,1)\n",
    "    if num % 2 == 0:\n",
    "        x1.append(num)\n",
    "    else:\n",
    "        x2.append(num)\n",
    "\n",
    "print(x1)\n",
    "print(x2)"
   ]
  },
  {
   "cell_type": "code",
   "execution_count": 25,
   "metadata": {},
   "outputs": [
    {
     "name": "stdout",
     "output_type": "stream",
     "text": [
      "The word at index 0 is yo\n",
      "The word at index 1 is patate\n",
      "The word at index 2 is cheese\n",
      "The word at index 0 is yo\n",
      "The word at index 1 is patate\n",
      "The word at index 2 is cheese\n"
     ]
    }
   ],
   "source": [
    "l3 = [\"yo\", \"patate\", \"cheese\"]\n",
    "len(l3)  # Finding the length of a list\n",
    "l3[-1]  # Accessing the last element of a list with negative indexing\n",
    "\n",
    "# using range(len()) vs Enumerating a list\n",
    "for idx in range(len(l3)):\n",
    "    print(f\"The word at index {idx} is {l3[idx]}\") \n",
    "\n",
    "for idx, word in enumerate(l3):\n",
    "    print(f\"The word at index {idx} is {word}\")"
   ]
  },
  {
   "cell_type": "markdown",
   "metadata": {},
   "source": [
    "# 4. Functions"
   ]
  },
  {
   "cell_type": "code",
   "execution_count": 26,
   "metadata": {},
   "outputs": [
    {
     "name": "stdout",
     "output_type": "stream",
     "text": [
      "This is an example function.\n"
     ]
    }
   ],
   "source": [
    "# Defining and calling functions\n",
    "def example_function():\n",
    "    return \"This is an example function.\"\n",
    "\n",
    "result = example_function()  # Calling the function\n",
    "print(result)"
   ]
  },
  {
   "cell_type": "code",
   "execution_count": 27,
   "metadata": {},
   "outputs": [
    {
     "name": "stdout",
     "output_type": "stream",
     "text": [
      "Hello, Alice!\n",
      "8\n"
     ]
    }
   ],
   "source": [
    "# Parameters and arguments\n",
    "def greet(name):\n",
    "    return f\"Hello, {name}!\"\n",
    "\n",
    "greeting = greet(\"Alice\")  # Passing an argument to the function\n",
    "print(greeting)\n",
    "\n",
    "# Return statements\n",
    "def add(x, y):\n",
    "    return x + y\n",
    "\n",
    "result = add(3, 5)\n",
    "print(result)"
   ]
  },
  {
   "cell_type": "markdown",
   "metadata": {},
   "source": [
    "# EXTRA"
   ]
  },
  {
   "cell_type": "markdown",
   "metadata": {},
   "source": [
    "# 5. Introduction to Object-Oriented Programming (OOP)"
   ]
  },
  {
   "cell_type": "code",
   "execution_count": 28,
   "metadata": {},
   "outputs": [],
   "source": [
    "# Classes and objects\n",
    "\n",
    "class Dog:\n",
    "    def __init__(self, name, breed):\n",
    "        self.name = name\n",
    "        self.breed = breed\n",
    "\n",
    "    def bark(self):\n",
    "        return f\"{self.name} the {self.breed} is barking.\""
   ]
  },
  {
   "cell_type": "code",
   "execution_count": 29,
   "metadata": {},
   "outputs": [
    {
     "name": "stdout",
     "output_type": "stream",
     "text": [
      "Fido the Labrador is barking.\n",
      "Buddy the Golden Retriever is barking.\n"
     ]
    }
   ],
   "source": [
    "# Creating objects aka instantiation\n",
    "dog1 = Dog(\"Fido\", \"Labrador\")\n",
    "dog2 = Dog(\"Buddy\", \"Golden Retriever\")\n",
    "\n",
    "print(dog1.bark())\n",
    "print(dog2.bark())"
   ]
  },
  {
   "cell_type": "code",
   "execution_count": 30,
   "metadata": {},
   "outputs": [],
   "source": [
    "class Rectangle:\n",
    "    def __init__(self, width, height):\n",
    "        self.width = width\n",
    "        self.height = height\n",
    "\n",
    "    def area(self):\n",
    "        return self.width * self.height"
   ]
  },
  {
   "cell_type": "code",
   "execution_count": 31,
   "metadata": {},
   "outputs": [],
   "source": [
    "# Creating objects from the Rectangle class\n",
    "rect1 = Rectangle(4, 6)\n",
    "rect2 = Rectangle(3, 8)"
   ]
  },
  {
   "cell_type": "code",
   "execution_count": 32,
   "metadata": {},
   "outputs": [
    {
     "name": "stdout",
     "output_type": "stream",
     "text": [
      "Area of Rectangle 1: 24\n",
      "Area of Rectangle 2: 24\n"
     ]
    }
   ],
   "source": [
    "# Calculating and printing the areas of the rectangles\n",
    "print(\"Area of Rectangle 1:\", rect1.area())  # Output: Area of Rectangle 1: 24\n",
    "print(\"Area of Rectangle 2:\", rect2.area())  # Output: Area of Rectangle 2: 24"
   ]
  },
  {
   "cell_type": "code",
   "execution_count": 33,
   "metadata": {},
   "outputs": [],
   "source": [
    "# Attributes and methods\n",
    "\n",
    "class Circle:\n",
    "    def __init__(self, radius):\n",
    "        self.radius = radius\n",
    "\n",
    "    def area(self):\n",
    "        return 3.14 * self.radius * self.radius\n",
    "\n",
    "    def circumference(self):\n",
    "        return 2 * 3.14 * self.radius"
   ]
  },
  {
   "cell_type": "code",
   "execution_count": 34,
   "metadata": {},
   "outputs": [],
   "source": [
    "# Creating a Circle object\n",
    "circle = Circle(5)"
   ]
  },
  {
   "cell_type": "code",
   "execution_count": 35,
   "metadata": {},
   "outputs": [
    {
     "name": "stdout",
     "output_type": "stream",
     "text": [
      "Radius of the circle: 5\n",
      "Area of the circle: 78.5\n",
      "Circumference of the circle: 31.400000000000002\n"
     ]
    }
   ],
   "source": [
    "# Accessing attributes and calling methods\n",
    "print(\"Radius of the circle:\", circle.radius)  # Output: Radius of the circle: 5\n",
    "print(\"Area of the circle:\", circle.area())  # Output: Area of the circle: 78.5\n",
    "print(\"Circumference of the circle:\", circle.circumference())  # Output: Circumference of the circle: 31.4"
   ]
  },
  {
   "cell_type": "code",
   "execution_count": 36,
   "metadata": {},
   "outputs": [],
   "source": [
    "# Constructors and inheritance\n",
    "\n",
    "class Vehicle:\n",
    "    def __init__(self, make, model):\n",
    "        self.make = make\n",
    "        self.model = model\n",
    "\n",
    "    def description(self):\n",
    "        return f\"This is a {self.make} {self.model}.\""
   ]
  },
  {
   "cell_type": "code",
   "execution_count": 37,
   "metadata": {},
   "outputs": [],
   "source": [
    "# Creating a derived class Car that inherits from Vehicle\n",
    "class Car(Vehicle):\n",
    "    def __init__(self, make, model, year):\n",
    "        super().__init__(make, model)\n",
    "        self.year = year\n",
    "\n",
    "    def description(self):\n",
    "        return f\"This is a {self.year} {self.make} {self.model}.\""
   ]
  },
  {
   "cell_type": "code",
   "execution_count": 38,
   "metadata": {},
   "outputs": [],
   "source": [
    "# Creating objects from both classes\n",
    "vehicle = Vehicle(\"Ford\", \"F-150\")\n",
    "car = Car(\"Toyota\", \"Camry\", 2022)"
   ]
  },
  {
   "cell_type": "code",
   "execution_count": 39,
   "metadata": {},
   "outputs": [
    {
     "name": "stdout",
     "output_type": "stream",
     "text": [
      "This is a Ford F-150.\n",
      "This is a 2022 Toyota Camry.\n"
     ]
    }
   ],
   "source": [
    "# Calling the description method for both objects\n",
    "print(vehicle.description())  # Output: This is a Ford F-150.\n",
    "print(car.description())  # Output: This is a 2022 Toyota Camry."
   ]
  },
  {
   "cell_type": "markdown",
   "metadata": {},
   "source": [
    "# 6. Modules and Libraries"
   ]
  },
  {
   "cell_type": "code",
   "execution_count": 40,
   "metadata": {},
   "outputs": [
    {
     "name": "stdout",
     "output_type": "stream",
     "text": [
      "4.0\n",
      "5\n"
     ]
    }
   ],
   "source": [
    "# Importing modules and using functions from them\n",
    "import math\n",
    "print(math.sqrt(16))\n",
    "\n",
    "import random\n",
    "print(random.randint(1, 10))"
   ]
  },
  {
   "cell_type": "code",
   "execution_count": 41,
   "metadata": {},
   "outputs": [
    {
     "name": "stdout",
     "output_type": "stream",
     "text": [
      "Square root of 16 is 4.0\n"
     ]
    }
   ],
   "source": [
    "# Example 1: Using the math module for mathematical operations\n",
    "import math\n",
    "\n",
    "# Calculating the square root of a number\n",
    "number = 16\n",
    "sqrt_result = math.sqrt(number)\n",
    "print(f\"Square root of {number} is {sqrt_result}\")  # Output: Square root of 16 is 4.0"
   ]
  },
  {
   "cell_type": "code",
   "execution_count": 42,
   "metadata": {},
   "outputs": [
    {
     "name": "stdout",
     "output_type": "stream",
     "text": [
      "Approximate value of pi: 3.141592653589793, rounded: 3\n"
     ]
    }
   ],
   "source": [
    "# Rounding a number to the nearest integer\n",
    "pi_approx = math.pi\n",
    "rounded_pi = round(pi_approx)\n",
    "print(f\"Approximate value of pi: {pi_approx}, rounded: {rounded_pi}\")"
   ]
  },
  {
   "cell_type": "code",
   "execution_count": 43,
   "metadata": {},
   "outputs": [
    {
     "name": "stdout",
     "output_type": "stream",
     "text": [
      "Random number: 5\n"
     ]
    }
   ],
   "source": [
    "# Example 2: Using the random module for random number generation\n",
    "import random\n",
    "\n",
    "# Generating a random integer between 1 and 10 (inclusive)\n",
    "random_number = random.randint(1, 10)\n",
    "print(f\"Random number: {random_number}\")"
   ]
  },
  {
   "cell_type": "code",
   "execution_count": 44,
   "metadata": {},
   "outputs": [
    {
     "name": "stdout",
     "output_type": "stream",
     "text": [
      "Shuffled list: [3, 2, 1, 4, 5]\n"
     ]
    }
   ],
   "source": [
    "# Shuffling a list\n",
    "my_list = [1, 2, 3, 4, 5]\n",
    "random.shuffle(my_list)\n",
    "print(f\"Shuffled list: {my_list}\")"
   ]
  },
  {
   "cell_type": "code",
   "execution_count": 45,
   "metadata": {},
   "outputs": [
    {
     "name": "stdout",
     "output_type": "stream",
     "text": [
      "Elapsed time: 0.0 seconds\n"
     ]
    }
   ],
   "source": [
    "# Example 3: Using the time module for timing code execution\n",
    "import time\n",
    "\n",
    "# Measuring the time it takes to run a piece of code\n",
    "start_time = time.time()\n",
    "# Code to be timed\n",
    "end_time = time.time()\n",
    "elapsed_time = end_time - start_time\n",
    "print(f\"Elapsed time: {elapsed_time} seconds\")"
   ]
  },
  {
   "cell_type": "code",
   "execution_count": 46,
   "metadata": {},
   "outputs": [
    {
     "name": "stdout",
     "output_type": "stream",
     "text": [
      "Status code: 200\n",
      "Content length: 1256\n"
     ]
    }
   ],
   "source": [
    "# Example 4: Using external libraries (requests) for web requests\n",
    "import requests\n",
    "\n",
    "# Making an HTTP GET request\n",
    "response = requests.get(\"https://www.example.com\")\n",
    "print(\"Status code:\", response.status_code)\n",
    "print(\"Content length:\", len(response.text))"
   ]
  },
  {
   "cell_type": "code",
   "execution_count": 47,
   "metadata": {},
   "outputs": [
    {
     "name": "stdout",
     "output_type": "stream",
     "text": [
      "Script name: c:\\Users\\Zed\\AppData\\Local\\Programs\\Python\\Python311\\Lib\\site-packages\\ipykernel_launcher.py\n",
      "Command-line arguments: ['--ip=127.0.0.1', '--stdin=9008', '--control=9006', '--hb=9005', '--Session.signature_scheme=\"hmac-sha256\"', '--Session.key=b\"df5e3aaf-2b39-4f68-a794-5d51ad6d6500\"', '--shell=9007', '--transport=\"tcp\"', '--iopub=9009', '--f=c:\\\\Users\\\\Zed\\\\AppData\\\\Roaming\\\\jupyter\\\\runtime\\\\kernel-v2-20384usOQluIq3O4F.json']\n"
     ]
    }
   ],
   "source": [
    "# Example 5: Using the sys module for command-line arguments\n",
    "import sys\n",
    "\n",
    "# Accessing command-line arguments\n",
    "script_name = sys.argv[0]\n",
    "arguments = sys.argv[1:]\n",
    "print(f\"Script name: {script_name}\")\n",
    "print(f\"Command-line arguments: {arguments}\")\n",
    "\n",
    "# Note: The sys module's argv feature is used when running Python scripts from the command line."
   ]
  },
  {
   "cell_type": "code",
   "execution_count": 48,
   "metadata": {},
   "outputs": [
    {
     "name": "stdout",
     "output_type": "stream",
     "text": [
      "Hello from my_module!\n",
      "This is a variable from my_module.\n"
     ]
    }
   ],
   "source": [
    "# Example 6: Using a custom module\n",
    "import my_module\n",
    "\n",
    "# Accessing functions and variables from the custom module\n",
    "my_module.my_function()\n",
    "print(my_module.my_variable)"
   ]
  },
  {
   "cell_type": "code",
   "execution_count": 49,
   "metadata": {},
   "outputs": [
    {
     "data": {
      "text/plain": [
       "'\\npython main_script.py\\npython my_module.py\\n\\n'"
      ]
     },
     "execution_count": 49,
     "metadata": {},
     "output_type": "execute_result"
    }
   ],
   "source": [
    "# Example 7: Run terminal commands\n",
    "\n",
    "# execute these codes one after the other in your terminal without the docstring, spot the difference\n",
    "\"\"\"\n",
    "python main_script.py\n",
    "python my_module.py\n",
    "\n",
    "\"\"\" "
   ]
  },
  {
   "cell_type": "code",
   "execution_count": null,
   "metadata": {},
   "outputs": [],
   "source": []
  }
 ],
 "metadata": {
  "kernelspec": {
   "display_name": "Python 3",
   "language": "python",
   "name": "python3"
  },
  "language_info": {
   "codemirror_mode": {
    "name": "ipython",
    "version": 3
   },
   "file_extension": ".py",
   "mimetype": "text/x-python",
   "name": "python",
   "nbconvert_exporter": "python",
   "pygments_lexer": "ipython3",
   "version": "3.11.3"
  },
  "orig_nbformat": 4
 },
 "nbformat": 4,
 "nbformat_minor": 2
}
